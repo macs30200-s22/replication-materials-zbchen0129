{
 "cells": [
  {
   "cell_type": "code",
   "execution_count": 18,
   "id": "9a2cf90e",
   "metadata": {},
   "outputs": [
    {
     "name": "stdout",
     "output_type": "stream",
     "text": [
      "Overwriting data_collect.py\n"
     ]
    }
   ],
   "source": [
    "%%writefile data_collect.py\n",
    "import twint\n",
    "\n",
    "import nest_asyncio\n",
    "nest_asyncio.apply()\n",
    "\n",
    "import numpy as np\n",
    "import pandas as pd\n",
    "\n",
    "\n",
    "\n",
    "anti_vax_keywords = ['anti vaccine', 'anti vaccination', '#antivax', '#antivaccine', '#antivaxxers', '#novaccine', '#novax']\n",
    "pc_synonyms = ['considerate', 'diplomatic', 'gender free', 'inclusive', 'inoffensive', 'multicultural', 'multiculturally sensitive', 'politic', 'respectful', 'sensitive', 'sensitive to others', 'bias free', 'liberal', 'nondiscriminatory', 'nonracist', 'nonsexist', 'unbiased', 'political correctness', 'politically correct']\n",
    "\n",
    "def fetch_by_keywords(keywords_lst, file_path):\n",
    "    \"\"\"Fetch tweets by keywords using Twint, and save them as a csv file.\n",
    "    \n",
    "    Input:\n",
    "        keywords_lst(list): a list of keywords\n",
    "        file_path(str): the path to save the csv file.\n",
    "        \n",
    "\n",
    "    \"\"\"\n",
    "    \n",
    "    frame = []\n",
    "    for keyword in keywords_lst:\n",
    "        c=twint.Config()\n",
    "        c.Search= keyword\n",
    "\n",
    "        c.Pandas= True #Enable Pandas integration.\n",
    "\n",
    "        c.Limit= 50000\n",
    "\n",
    "        c.Hide_output = True\n",
    "        twint.run.Search(c)\n",
    "\n",
    "        df = twint.storage.panda.Tweets_df\n",
    "        frame.append(df)\n",
    "    result = pd.concat(frame)\n",
    "    \n",
    "    result[result.language == 'en'].to_csv(file_path)\n",
    "\n",
    "if __name__ == \"__main__\":\n",
    "    fetch_by_keywords(anti_vax_keywords, './antiva_dataset.csv')\n",
    "    fetch_by_keywords(pc_synonyms, './pc_dataset.csv')\n"
   ]
  },
  {
   "cell_type": "code",
   "execution_count": 8,
   "id": "3e24ffed",
   "metadata": {},
   "outputs": [
    {
     "data": {
      "text/plain": [
       "'1.21.2'"
      ]
     },
     "execution_count": 8,
     "metadata": {},
     "output_type": "execute_result"
    }
   ],
   "source": [
    "np.__version__"
   ]
  },
  {
   "cell_type": "code",
   "execution_count": 9,
   "id": "16966a6f",
   "metadata": {},
   "outputs": [
    {
     "data": {
      "text/plain": [
       "'2.1.21'"
      ]
     },
     "execution_count": 9,
     "metadata": {},
     "output_type": "execute_result"
    }
   ],
   "source": [
    "twint.__version__"
   ]
  },
  {
   "cell_type": "code",
   "execution_count": 10,
   "id": "3809a9ce",
   "metadata": {},
   "outputs": [
    {
     "data": {
      "text/plain": [
       "'1.3.4'"
      ]
     },
     "execution_count": 10,
     "metadata": {},
     "output_type": "execute_result"
    }
   ],
   "source": [
    "pd.__version__"
   ]
  },
  {
   "cell_type": "code",
   "execution_count": 12,
   "id": "d7ab74ce",
   "metadata": {},
   "outputs": [
    {
     "data": {
      "text/plain": [
       "'3.6.5'"
      ]
     },
     "execution_count": 12,
     "metadata": {},
     "output_type": "execute_result"
    }
   ],
   "source": [
    "nltk.__version__"
   ]
  },
  {
   "cell_type": "code",
   "execution_count": 13,
   "id": "6f2ec321",
   "metadata": {},
   "outputs": [
    {
     "data": {
      "text/plain": [
       "'0.11.2'"
      ]
     },
     "execution_count": 13,
     "metadata": {},
     "output_type": "execute_result"
    }
   ],
   "source": [
    "sns.__version__"
   ]
  },
  {
   "cell_type": "code",
   "execution_count": 14,
   "id": "3e06ec18",
   "metadata": {},
   "outputs": [],
   "source": [
    "from wordcloud import WordCloud, STOPWORDS, ImageColorGenerator"
   ]
  },
  {
   "cell_type": "code",
   "execution_count": 15,
   "id": "8880523b",
   "metadata": {},
   "outputs": [],
   "source": [
    "import wordcloud"
   ]
  },
  {
   "cell_type": "code",
   "execution_count": 16,
   "id": "01a4afd4",
   "metadata": {},
   "outputs": [
    {
     "data": {
      "text/plain": [
       "'1.8.1'"
      ]
     },
     "execution_count": 16,
     "metadata": {},
     "output_type": "execute_result"
    }
   ],
   "source": [
    "wordcloud.__version__"
   ]
  },
  {
   "cell_type": "code",
   "execution_count": 19,
   "id": "bcfe527f",
   "metadata": {},
   "outputs": [],
   "source": [
    "initials=['CD1','CD2','CD3','RD1','RD2','RD3','TB1','TB2','TB3','MS1','MS2','MS3','MT1','MT2','MT3']"
   ]
  },
  {
   "cell_type": "code",
   "execution_count": 20,
   "id": "f16de49c",
   "metadata": {},
   "outputs": [],
   "source": [
    "sampleCrosstab=[[34, 37, 44, 27, 19, 39, 74, 44, 27, 61, 12, 65, 69,22, 14, 21],\n",
    "                [18, 33, 47, 24, 14, 38, 66, 41, 36,72, 15, 62, 63, 31, 12, 18],\n",
    "                [32, 43, 36, 12, 21, 51, 75, 33, 23, 60, 24, 68, 85,18, 13, 14],\n",
    "                [13, 31, 55, 29, 15, 62, 74, 43, 28,73, 8, 59, 54, 32, 19, 20],\n",
    "                [8, 28, 34, 24, 17, 68, 75, 34, 25, 70, 16, 56, 72,31, 14, 11], \n",
    "                [9, 34, 43, 25, 18, 68, 84, 25, 32, 76,14, 69, 64, 27, 11, 18],\n",
    "                [15, 20, 28, 18, 19, 65, 82, 34, 29, 89, 11, 47, 74,18, 22, 17], \n",
    "                [18, 14, 40, 25, 21, 60, 70, 15, 37,80, 15, 65, 68, 21, 25, 9],\n",
    "                [19, 18, 41, 26, 19, 58, 64, 18, 38, 78, 15, 65, 72,20, 20, 11], \n",
    "                [13, 29, 49, 31, 16, 61, 73, 36, 29,69, 13, 63, 58, 18, 20, 25],\n",
    "                [17, 34, 43, 29, 14, 62, 64, 26, 26, 71, 26, 78, 64, 21, 18, 12],\n",
    "                [13, 22, 43, 16, 11, 70, 68, 46, 35,57, 30, 71, 57, 19, 22, 20],\n",
    "                [16, 18, 56, 13, 27, 67, 61, 43, 20, 63, 14, 43, 67,34, 41, 23], \n",
    "                [15, 21, 66, 21, 19, 50, 62, 50, 24, 68, 14, 40, 58, 31, 36, 26],\n",
    "                [19, 17, 70, 12, 28, 53, 72, 39, 22, 71, 11, 40, 67,25, 41, 17]]"
   ]
  },
  {
   "cell_type": "code",
   "execution_count": 21,
   "id": "efb04f4c",
   "metadata": {},
   "outputs": [
    {
     "data": {
      "text/plain": [
       "15"
      ]
     },
     "execution_count": 21,
     "metadata": {},
     "output_type": "execute_result"
    }
   ],
   "source": [
    "len(initials)"
   ]
  },
  {
   "cell_type": "code",
   "execution_count": 22,
   "id": "2e9ef849",
   "metadata": {},
   "outputs": [
    {
     "data": {
      "text/plain": [
       "15"
      ]
     },
     "execution_count": 22,
     "metadata": {},
     "output_type": "execute_result"
    }
   ],
   "source": [
    "len(sampleCrosstab)"
   ]
  },
  {
   "cell_type": "code",
   "execution_count": null,
   "id": "d767d335",
   "metadata": {},
   "outputs": [],
   "source": []
  },
  {
   "cell_type": "code",
   "execution_count": null,
   "id": "b5d6a2a1",
   "metadata": {},
   "outputs": [],
   "source": []
  },
  {
   "cell_type": "code",
   "execution_count": 23,
   "id": "35c472bf",
   "metadata": {},
   "outputs": [],
   "source": [
    "authors = [\"Charles Darwin\", \"Rene Descartes\",\"Thomas Hobbes\", \"Mary Shelley\", \"Mark Twain\"]\n",
    "initials=['CD1','CD2','CD3','RD1','RD2','RD3','TB1','TB2','TB3','MS1','MS2','MS3','MT1','MT2','MT3']\n",
    "chars=[\"B\", \"C\", \"D\", \"F\", \"G\", \"H\", \"I\", \"L\", \"M\", \"N\",\"P\", \"R\", \"S\", \"U\", \"W\", \"Y\"]"
   ]
  },
  {
   "cell_type": "code",
   "execution_count": 24,
   "id": "0384ac4d",
   "metadata": {},
   "outputs": [],
   "source": [
    "sampleCrosstab=[[34, 37, 44, 27, 19, 39, 74, 44, 27, 61, 12, 65, 69,22, 14, 21],\n",
    "                [18, 33, 47, 24, 14, 38, 66, 41, 36,72, 15, 62, 63, 31, 12, 18],\n",
    "                [32, 43, 36, 12, 21, 51, 75, 33, 23, 60, 24, 68, 85,18, 13, 14],\n",
    "                [13, 31, 55, 29, 15, 62, 74, 43, 28,73, 8, 59, 54, 32, 19, 20],\n",
    "                [8, 28, 34, 24, 17, 68, 75, 34, 25, 70, 16, 56, 72,31, 14, 11], \n",
    "                [9, 34, 43, 25, 18, 68, 84, 25, 32, 76,14, 69, 64, 27, 11, 18],\n",
    "                [15, 20, 28, 18, 19, 65, 82, 34, 29, 89, 11, 47, 74,18, 22, 17], \n",
    "                [18, 14, 40, 25, 21, 60, 70, 15, 37,80, 15, 65, 68, 21, 25, 9],\n",
    "                [19, 18, 41, 26, 19, 58, 64, 18, 38, 78, 15, 65, 72,20, 20, 11], \n",
    "                [13, 29, 49, 31, 16, 61, 73, 36, 29,69, 13, 63, 58, 18, 20, 25],\n",
    "                [17, 34, 43, 29, 14, 62, 64, 26, 26, 71, 26, 78, 64, 21, 18, 12],\n",
    "                [13, 22, 43, 16, 11, 70, 68, 46, 35,57, 30, 71, 57, 19, 22, 20],\n",
    "                [16, 18, 56, 13, 27, 67, 61, 43, 20, 63, 14, 43, 67,34, 41, 23], \n",
    "                [15, 21, 66, 21, 19, 50, 62, 50, 24, 68, 14, 40, 58, 31, 36, 26],\n",
    "                [19, 17, 70, 12, 28, 53, 72, 39, 22, 71, 11, 40, 67,25, 41, 17]]"
   ]
  },
  {
   "cell_type": "code",
   "execution_count": 26,
   "id": "9d183c28",
   "metadata": {},
   "outputs": [
    {
     "data": {
      "text/plain": [
       "8994"
      ]
     },
     "execution_count": 26,
     "metadata": {},
     "output_type": "execute_result"
    }
   ],
   "source": [
    "grandTotal = np.sum(sampleCrosstab)\n",
    "grandTotal"
   ]
  },
  {
   "cell_type": "code",
   "execution_count": 35,
   "id": "dcb9277c",
   "metadata": {
    "scrolled": true
   },
   "outputs": [
    {
     "data": {
      "text/plain": [
       "array([[0.0037803 , 0.00411385, 0.00489215, 0.003002  , 0.00211252,\n",
       "        0.00433622, 0.00822771, 0.00489215, 0.003002  , 0.0067823 ,\n",
       "        0.00133422, 0.00722704, 0.00767178, 0.00244608, 0.00155659,\n",
       "        0.00233489],\n",
       "       [0.00200133, 0.00366911, 0.00522571, 0.00266845, 0.00155659,\n",
       "        0.00422504, 0.00733823, 0.00455859, 0.00400267, 0.00800534,\n",
       "        0.00166778, 0.00689348, 0.00700467, 0.00344674, 0.00133422,\n",
       "        0.00200133],\n",
       "       [0.00355793, 0.00478097, 0.00400267, 0.00133422, 0.00233489,\n",
       "        0.00567045, 0.00833889, 0.00366911, 0.00255726, 0.00667111,\n",
       "        0.00266845, 0.0075606 , 0.00945074, 0.00200133, 0.00144541,\n",
       "        0.00155659],\n",
       "       [0.00144541, 0.00344674, 0.00611519, 0.00322437, 0.00166778,\n",
       "        0.00689348, 0.00822771, 0.00478097, 0.00311319, 0.00811652,\n",
       "        0.00088948, 0.00655993, 0.006004  , 0.00355793, 0.00211252,\n",
       "        0.0022237 ],\n",
       "       [0.00088948, 0.00311319, 0.0037803 , 0.00266845, 0.00189015,\n",
       "        0.0075606 , 0.00833889, 0.0037803 , 0.00277963, 0.00778297,\n",
       "        0.00177896, 0.00622637, 0.00800534, 0.00344674, 0.00155659,\n",
       "        0.00122304],\n",
       "       [0.00100067, 0.0037803 , 0.00478097, 0.00277963, 0.00200133,\n",
       "        0.0075606 , 0.00933956, 0.00277963, 0.00355793, 0.00845008,\n",
       "        0.00155659, 0.00767178, 0.00711586, 0.003002  , 0.00122304,\n",
       "        0.00200133],\n",
       "       [0.00166778, 0.0022237 , 0.00311319, 0.00200133, 0.00211252,\n",
       "        0.00722704, 0.00911719, 0.0037803 , 0.00322437, 0.00989549,\n",
       "        0.00122304, 0.00522571, 0.00822771, 0.00200133, 0.00244608,\n",
       "        0.00189015],\n",
       "       [0.00200133, 0.00155659, 0.00444741, 0.00277963, 0.00233489,\n",
       "        0.00667111, 0.00778297, 0.00166778, 0.00411385, 0.00889482,\n",
       "        0.00166778, 0.00722704, 0.0075606 , 0.00233489, 0.00277963,\n",
       "        0.00100067],\n",
       "       [0.00211252, 0.00200133, 0.00455859, 0.00289082, 0.00211252,\n",
       "        0.00644874, 0.00711586, 0.00200133, 0.00422504, 0.00867245,\n",
       "        0.00166778, 0.00722704, 0.00800534, 0.0022237 , 0.0022237 ,\n",
       "        0.00122304],\n",
       "       [0.00144541, 0.00322437, 0.00544808, 0.00344674, 0.00177896,\n",
       "        0.0067823 , 0.00811652, 0.00400267, 0.00322437, 0.00767178,\n",
       "        0.00144541, 0.00700467, 0.00644874, 0.00200133, 0.0022237 ,\n",
       "        0.00277963],\n",
       "       [0.00189015, 0.0037803 , 0.00478097, 0.00322437, 0.00155659,\n",
       "        0.00689348, 0.00711586, 0.00289082, 0.00289082, 0.00789415,\n",
       "        0.00289082, 0.00867245, 0.00711586, 0.00233489, 0.00200133,\n",
       "        0.00133422],\n",
       "       [0.00144541, 0.00244608, 0.00478097, 0.00177896, 0.00122304,\n",
       "        0.00778297, 0.0075606 , 0.00511452, 0.00389148, 0.00633756,\n",
       "        0.00333556, 0.00789415, 0.00633756, 0.00211252, 0.00244608,\n",
       "        0.0022237 ],\n",
       "       [0.00177896, 0.00200133, 0.00622637, 0.00144541, 0.003002  ,\n",
       "        0.00744941, 0.0067823 , 0.00478097, 0.0022237 , 0.00700467,\n",
       "        0.00155659, 0.00478097, 0.00744941, 0.0037803 , 0.00455859,\n",
       "        0.00255726],\n",
       "       [0.00166778, 0.00233489, 0.00733823, 0.00233489, 0.00211252,\n",
       "        0.00555926, 0.00689348, 0.00555926, 0.00266845, 0.0075606 ,\n",
       "        0.00155659, 0.00444741, 0.00644874, 0.00344674, 0.00400267,\n",
       "        0.00289082],\n",
       "       [0.00211252, 0.00189015, 0.00778297, 0.00133422, 0.00311319,\n",
       "        0.00589282, 0.00800534, 0.00433622, 0.00244608, 0.00789415,\n",
       "        0.00122304, 0.00444741, 0.00744941, 0.00277963, 0.00455859,\n",
       "        0.00189015]])"
      ]
     },
     "execution_count": 35,
     "metadata": {},
     "output_type": "execute_result"
    }
   ],
   "source": [
    "correspondenceMatrix = np.divide(sampleCrosstab,grandTotal)\n",
    "correspondenceMatrix"
   ]
  },
  {
   "cell_type": "code",
   "execution_count": 36,
   "id": "c3e8d0bf",
   "metadata": {},
   "outputs": [
    {
     "data": {
      "text/plain": [
       "array([0.06771181, 0.06559929, 0.06760062, 0.06837892, 0.06482099,\n",
       "       0.06860129, 0.06537692, 0.06482099, 0.06470981, 0.0670447 ,\n",
       "       0.06726707, 0.06671114, 0.06737825, 0.06682233, 0.06715588])"
      ]
     },
     "execution_count": 36,
     "metadata": {},
     "output_type": "execute_result"
    }
   ],
   "source": [
    "rowTotals = np.sum(correspondenceMatrix, axis=1)\n",
    "rowTotals"
   ]
  },
  {
   "cell_type": "code",
   "execution_count": 37,
   "id": "9a1cd684",
   "metadata": {},
   "outputs": [
    {
     "data": {
      "text/plain": [
       "array([0.02879698, 0.04436291, 0.07727374, 0.0369135 , 0.0309095 ,\n",
       "       0.09695352, 0.11830109, 0.05859462, 0.04792084, 0.11763398,\n",
       "       0.02646209, 0.09906604, 0.11029575, 0.04091617, 0.03646876,\n",
       "       0.02913053])"
      ]
     },
     "execution_count": 37,
     "metadata": {},
     "output_type": "execute_result"
    }
   ],
   "source": [
    "columnTotals = np.sum(correspondenceMatrix, axis=0)\n",
    "columnTotals"
   ]
  },
  {
   "cell_type": "code",
   "execution_count": 39,
   "id": "9cd74b91",
   "metadata": {},
   "outputs": [
    {
     "data": {
      "text/plain": [
       "array([[0.0019499 , 0.00300389, 0.00523234, 0.00249948, 0.00209294,\n",
       "        0.0065649 , 0.00801038, 0.00396755, 0.00324481, 0.00796521,\n",
       "        0.0017918 , 0.00670794, 0.00746832, 0.00277051, 0.00246937,\n",
       "        0.00197248],\n",
       "       [0.00188906, 0.00291018, 0.0050691 , 0.0024215 , 0.00202764,\n",
       "        0.00636008, 0.00776047, 0.00384377, 0.00314357, 0.00771671,\n",
       "        0.00173589, 0.00649866, 0.00723532, 0.00268407, 0.00239232,\n",
       "        0.00191094],\n",
       "       [0.00194669, 0.00299896, 0.00522375, 0.00249538, 0.0020895 ,\n",
       "        0.00655412, 0.00799723, 0.00396103, 0.00323948, 0.00795213,\n",
       "        0.00178885, 0.00669693, 0.00745606, 0.00276596, 0.00246531,\n",
       "        0.00196924],\n",
       "       [0.00196911, 0.00303349, 0.00528389, 0.00252411, 0.00211356,\n",
       "        0.00662958, 0.0080893 , 0.00400664, 0.00327677, 0.00804368,\n",
       "        0.00180945, 0.00677403, 0.0075419 , 0.0027978 , 0.00249369,\n",
       "        0.00199191],\n",
       "       [0.00186665, 0.00287565, 0.00500896, 0.00239277, 0.00200358,\n",
       "        0.00628462, 0.00766839, 0.00379816, 0.00310628, 0.00762515,\n",
       "        0.0017153 , 0.00642156, 0.00714948, 0.00265223, 0.00236394,\n",
       "        0.00188827],\n",
       "       [0.00197551, 0.00304335, 0.00530108, 0.00253231, 0.00212043,\n",
       "        0.00665114, 0.00811561, 0.00401967, 0.00328743, 0.00806984,\n",
       "        0.00181533, 0.00679606, 0.00756643, 0.0028069 , 0.0025018 ,\n",
       "        0.00199839],\n",
       "       [0.00188266, 0.00290031, 0.00505192, 0.00241329, 0.00202077,\n",
       "        0.00633852, 0.00773416, 0.00383074, 0.00313292, 0.00769055,\n",
       "        0.00173001, 0.00647663, 0.0072108 , 0.00267497, 0.00238421,\n",
       "        0.00190446],\n",
       "       [0.00186665, 0.00287565, 0.00500896, 0.00239277, 0.00200358,\n",
       "        0.00628462, 0.00766839, 0.00379816, 0.00310628, 0.00762515,\n",
       "        0.0017153 , 0.00642156, 0.00714948, 0.00265223, 0.00236394,\n",
       "        0.00188827],\n",
       "       [0.00186345, 0.00287072, 0.00500037, 0.00238867, 0.00200015,\n",
       "        0.00627384, 0.00765524, 0.00379165, 0.00310095, 0.00761207,\n",
       "        0.00171236, 0.00641054, 0.00713722, 0.00264768, 0.00235989,\n",
       "        0.00188503],\n",
       "       [0.00193068, 0.0029743 , 0.00518079, 0.00247485, 0.00207232,\n",
       "        0.00650022, 0.00793146, 0.00392846, 0.00321284, 0.00788673,\n",
       "        0.00177414, 0.00664185, 0.00739475, 0.00274321, 0.00244504,\n",
       "        0.00195305],\n",
       "       [0.00193709, 0.00298416, 0.00519798, 0.00248306, 0.00207919,\n",
       "        0.00652178, 0.00795777, 0.00394149, 0.00322349, 0.00791289,\n",
       "        0.00178003, 0.00666388, 0.00741927, 0.00275231, 0.00245315,\n",
       "        0.00195953],\n",
       "       [0.00192108, 0.0029595 , 0.00515502, 0.00246254, 0.00206201,\n",
       "        0.00646788, 0.007892  , 0.00390891, 0.00319685, 0.0078475 ,\n",
       "        0.00176532, 0.00660881, 0.00735796, 0.00272956, 0.00243287,\n",
       "        0.00194333],\n",
       "       [0.00194029, 0.0029891 , 0.00520657, 0.00248717, 0.00208263,\n",
       "        0.00653256, 0.00797092, 0.003948  , 0.00322882, 0.00792597,\n",
       "        0.00178297, 0.0066749 , 0.00743154, 0.00275686, 0.0024572 ,\n",
       "        0.00196276],\n",
       "       [0.00192428, 0.00296443, 0.00516361, 0.00246665, 0.00206544,\n",
       "        0.00647866, 0.00790515, 0.00391543, 0.00320218, 0.00786058,\n",
       "        0.00176826, 0.00661982, 0.00737022, 0.00273411, 0.00243693,\n",
       "        0.00194657],\n",
       "       [0.00193389, 0.00297923, 0.00518939, 0.00247896, 0.00207575,\n",
       "        0.006511  , 0.00794461, 0.00393497, 0.00321817, 0.00789981,\n",
       "        0.00177708, 0.00665287, 0.00740701, 0.00274776, 0.00244909,\n",
       "        0.00195629]])"
      ]
     },
     "execution_count": 39,
     "metadata": {},
     "output_type": "execute_result"
    }
   ],
   "source": [
    "independenceModel = np.outer(rowTotals, columnTotals)\n",
    "independenceModel"
   ]
  },
  {
   "cell_type": "code",
   "execution_count": null,
   "id": "8b8531be",
   "metadata": {},
   "outputs": [],
   "source": [
    "grandTotal = np.sum(sampleCrosstab)\n",
    "correspondenceMatrix = np.divide(sampleCrosstab,grandTotal)\n",
    "rowTotals = np.sum(correspondenceMatrix, axis=1)\n",
    "columnTotals = np.sum(correspondenceMatrix, axis=0)\n",
    " \n",
    "independenceModel = np.outer(rowTotals, columnTotals)\n",
    " \n",
    "#Calculate manually\n",
    "chiSquaredStatistic = grandTotal*np.sum(np.square(correspondenceMatrix-independenceModel)/independenceModel)\n",
    "print(chiSquaredStatistic)\n",
    " \n",
    "# Quick check - compare to scipy Chi-Squared test\n",
    "statistic, prob, dof, ex = chi2_contingency(sampleCrosstab)\n",
    "print(statistic)\n",
    "print(np.round(prob, decimals=2))"
   ]
  },
  {
   "cell_type": "code",
   "execution_count": null,
   "id": "8c63a354",
   "metadata": {},
   "outputs": [],
   "source": []
  },
  {
   "cell_type": "code",
   "execution_count": null,
   "id": "dd42361c",
   "metadata": {},
   "outputs": [],
   "source": []
  },
  {
   "cell_type": "code",
   "execution_count": 2,
   "id": "836f97cb",
   "metadata": {},
   "outputs": [],
   "source": [
    "import numpy as np\n",
    "import pandas as pd \n",
    "\n",
    "import seaborn as sn\n",
    "import matplotlib.pylab as plt \n",
    "%matplotlib inline\n",
    "\n",
    "\n",
    "import nltk\n",
    "from nltk import word_tokenize\n",
    "from nltk import sent_tokenize\n",
    "import re \n",
    "\n",
    "import sklearn\n",
    "from sklearn.feature_extraction.text import CountVectorizer\n",
    "from sklearn.feature_extraction.text import TfidfTransformer\n",
    "\n",
    "from contractions import contractions_dict\n",
    "\n",
    "import scipy\n",
    "from scipy import sparse\n",
    "\n",
    "from sklearn.metrics import accuracy_score\n",
    "from sklearn.metrics import f1_score,recall_score,precision_score\n",
    "from sklearn.model_selection import cross_val_score\n",
    "\n",
    "from sklearn.naive_bayes import MultinomialNB\n",
    "from sklearn.linear_model import SGDClassifier\n",
    "from sklearn.linear_model import LogisticRegression\n",
    "from sklearn.ensemble import GradientBoostingClassifier\n",
    "from sklearn.ensemble import RandomForestClassifier\n"
   ]
  },
  {
   "cell_type": "code",
   "execution_count": null,
   "id": "451f6b11",
   "metadata": {},
   "outputs": [],
   "source": []
  },
  {
   "cell_type": "code",
   "execution_count": 3,
   "id": "9ceb5a94",
   "metadata": {},
   "outputs": [],
   "source": [
    "train=pd.read_csv('train.csv')\n",
    "test=pd.read_csv('test_with_solutions.csv')"
   ]
  },
  {
   "cell_type": "code",
   "execution_count": 4,
   "id": "f99ad33b",
   "metadata": {},
   "outputs": [
    {
     "data": {
      "text/html": [
       "<div>\n",
       "<style scoped>\n",
       "    .dataframe tbody tr th:only-of-type {\n",
       "        vertical-align: middle;\n",
       "    }\n",
       "\n",
       "    .dataframe tbody tr th {\n",
       "        vertical-align: top;\n",
       "    }\n",
       "\n",
       "    .dataframe thead th {\n",
       "        text-align: right;\n",
       "    }\n",
       "</style>\n",
       "<table border=\"1\" class=\"dataframe\">\n",
       "  <thead>\n",
       "    <tr style=\"text-align: right;\">\n",
       "      <th></th>\n",
       "      <th>Insult</th>\n",
       "      <th>Date</th>\n",
       "      <th>Comment</th>\n",
       "    </tr>\n",
       "  </thead>\n",
       "  <tbody>\n",
       "    <tr>\n",
       "      <th>0</th>\n",
       "      <td>1</td>\n",
       "      <td>20120618192155Z</td>\n",
       "      <td>\"You fuck your dad.\"</td>\n",
       "    </tr>\n",
       "    <tr>\n",
       "      <th>1</th>\n",
       "      <td>0</td>\n",
       "      <td>20120528192215Z</td>\n",
       "      <td>\"i really don't understand your point.\\xa0 It ...</td>\n",
       "    </tr>\n",
       "    <tr>\n",
       "      <th>2</th>\n",
       "      <td>0</td>\n",
       "      <td>NaN</td>\n",
       "      <td>\"A\\\\xc2\\\\xa0majority of Canadians can and has ...</td>\n",
       "    </tr>\n",
       "    <tr>\n",
       "      <th>3</th>\n",
       "      <td>0</td>\n",
       "      <td>NaN</td>\n",
       "      <td>\"listen if you dont wanna get married to a man...</td>\n",
       "    </tr>\n",
       "    <tr>\n",
       "      <th>4</th>\n",
       "      <td>0</td>\n",
       "      <td>20120619094753Z</td>\n",
       "      <td>\"C\\xe1c b\\u1ea1n xu\\u1ed1ng \\u0111\\u01b0\\u1edd...</td>\n",
       "    </tr>\n",
       "  </tbody>\n",
       "</table>\n",
       "</div>"
      ],
      "text/plain": [
       "   Insult             Date                                            Comment\n",
       "0       1  20120618192155Z                               \"You fuck your dad.\"\n",
       "1       0  20120528192215Z  \"i really don't understand your point.\\xa0 It ...\n",
       "2       0              NaN  \"A\\\\xc2\\\\xa0majority of Canadians can and has ...\n",
       "3       0              NaN  \"listen if you dont wanna get married to a man...\n",
       "4       0  20120619094753Z  \"C\\xe1c b\\u1ea1n xu\\u1ed1ng \\u0111\\u01b0\\u1edd..."
      ]
     },
     "execution_count": 4,
     "metadata": {},
     "output_type": "execute_result"
    }
   ],
   "source": [
    "train.head()"
   ]
  },
  {
   "cell_type": "code",
   "execution_count": 5,
   "id": "e54af4ff",
   "metadata": {},
   "outputs": [
    {
     "data": {
      "text/html": [
       "<div>\n",
       "<style scoped>\n",
       "    .dataframe tbody tr th:only-of-type {\n",
       "        vertical-align: middle;\n",
       "    }\n",
       "\n",
       "    .dataframe tbody tr th {\n",
       "        vertical-align: top;\n",
       "    }\n",
       "\n",
       "    .dataframe thead th {\n",
       "        text-align: right;\n",
       "    }\n",
       "</style>\n",
       "<table border=\"1\" class=\"dataframe\">\n",
       "  <thead>\n",
       "    <tr style=\"text-align: right;\">\n",
       "      <th></th>\n",
       "      <th>Insult</th>\n",
       "      <th>Date</th>\n",
       "      <th>Comment</th>\n",
       "      <th>Usage</th>\n",
       "    </tr>\n",
       "  </thead>\n",
       "  <tbody>\n",
       "    <tr>\n",
       "      <th>0</th>\n",
       "      <td>0</td>\n",
       "      <td>NaN</td>\n",
       "      <td>\"THE DRUDGE REPORT\\\\n\\\\n\\\\n\\\\nYou won't see th...</td>\n",
       "      <td>PublicTest</td>\n",
       "    </tr>\n",
       "    <tr>\n",
       "      <th>1</th>\n",
       "      <td>0</td>\n",
       "      <td>20120618222256Z</td>\n",
       "      <td>\"@ian21\\xa0\"Roger Clemens is the fucking man, ...</td>\n",
       "      <td>PublicTest</td>\n",
       "    </tr>\n",
       "    <tr>\n",
       "      <th>2</th>\n",
       "      <td>1</td>\n",
       "      <td>20120618213617Z</td>\n",
       "      <td>\"Agree with Alan you are an extremest idiot.  ...</td>\n",
       "      <td>PublicTest</td>\n",
       "    </tr>\n",
       "    <tr>\n",
       "      <th>3</th>\n",
       "      <td>0</td>\n",
       "      <td>NaN</td>\n",
       "      <td>\"Really?\\\\n\\\\nI see Marc Lamont Hill on variou...</td>\n",
       "      <td>PrivateTest</td>\n",
       "    </tr>\n",
       "    <tr>\n",
       "      <th>4</th>\n",
       "      <td>0</td>\n",
       "      <td>20120620003825Z</td>\n",
       "      <td>\"Really suck isn't the word, when many of our ...</td>\n",
       "      <td>PrivateTest</td>\n",
       "    </tr>\n",
       "  </tbody>\n",
       "</table>\n",
       "</div>"
      ],
      "text/plain": [
       "   Insult             Date                                            Comment  \\\n",
       "0       0              NaN  \"THE DRUDGE REPORT\\\\n\\\\n\\\\n\\\\nYou won't see th...   \n",
       "1       0  20120618222256Z  \"@ian21\\xa0\"Roger Clemens is the fucking man, ...   \n",
       "2       1  20120618213617Z  \"Agree with Alan you are an extremest idiot.  ...   \n",
       "3       0              NaN  \"Really?\\\\n\\\\nI see Marc Lamont Hill on variou...   \n",
       "4       0  20120620003825Z  \"Really suck isn't the word, when many of our ...   \n",
       "\n",
       "         Usage  \n",
       "0   PublicTest  \n",
       "1   PublicTest  \n",
       "2   PublicTest  \n",
       "3  PrivateTest  \n",
       "4  PrivateTest  "
      ]
     },
     "execution_count": 5,
     "metadata": {},
     "output_type": "execute_result"
    }
   ],
   "source": [
    "test.head()"
   ]
  },
  {
   "cell_type": "code",
   "execution_count": 6,
   "id": "313ff0d0",
   "metadata": {},
   "outputs": [],
   "source": [
    "train_comment = train['Comment']\n",
    "test_comment = test['Comment']\n",
    "train_label = train['Insult']\n",
    "test_label = test['Insult']"
   ]
  },
  {
   "cell_type": "code",
   "execution_count": 7,
   "id": "3b4207ec",
   "metadata": {},
   "outputs": [
    {
     "data": {
      "text/plain": [
       "(3947,)"
      ]
     },
     "execution_count": 7,
     "metadata": {},
     "output_type": "execute_result"
    }
   ],
   "source": [
    "train_comment.shape"
   ]
  },
  {
   "cell_type": "code",
   "execution_count": 8,
   "id": "c3cd5909",
   "metadata": {},
   "outputs": [
    {
     "data": {
      "text/plain": [
       "(2647,)"
      ]
     },
     "execution_count": 8,
     "metadata": {},
     "output_type": "execute_result"
    }
   ],
   "source": [
    "test_comment.shape"
   ]
  },
  {
   "cell_type": "code",
   "execution_count": 9,
   "id": "361d6fee",
   "metadata": {},
   "outputs": [
    {
     "data": {
      "text/plain": [
       "(6594,)"
      ]
     },
     "execution_count": 9,
     "metadata": {},
     "output_type": "execute_result"
    }
   ],
   "source": [
    "Data_to_clean = pd.concat([train_comment,test_comment],axis=0)\n",
    "Data_to_clean.shape"
   ]
  },
  {
   "cell_type": "code",
   "execution_count": 61,
   "id": "bee60b6e",
   "metadata": {},
   "outputs": [],
   "source": [
    "contract_dict = {\n",
    "\"ain't\": \"is not\",\n",
    "\"aren't\": \"are not\",\n",
    "\"can't\": \"cannot\",\n",
    "\"can't've\": \"cannot have\",\n",
    "\"'cause\": \"because\",\n",
    "\"could've\": \"could have\",\n",
    "\"couldn't\": \"could not\",\n",
    "\"couldn't've\": \"could not have\",\n",
    "\"didn't\": \"did not\",\n",
    "\"doesn't\": \"does not\",\n",
    "\"don't\": \"do not\",\n",
    "\"hadn't\": \"had not\",\n",
    "\"hadn't've\": \"had not have\",\n",
    "\"hasn't\": \"has not\",\n",
    "\"haven't\": \"have not\",\n",
    "\"he'd\": \"he would\",\n",
    "\"he'd've\": \"he would have\",\n",
    "\"he'll\": \"he will\",\n",
    "\"he'll've\": \"he he will have\",\n",
    "\"he's\": \"he is\",\n",
    "\"how'd\": \"how did\",\n",
    "\"how'd'y\": \"how do you\",\n",
    "\"how'll\": \"how will\",\n",
    "\"how's\": \"how is\",\n",
    "\"I'd\": \"I would\",\n",
    "\"I'd've\": \"I would have\",\n",
    "\"I'll\": \"I will\",\n",
    "\"I'll've\": \"I will have\",\n",
    "\"I'm\": \"I am\",\n",
    "\"I've\": \"I have\",\n",
    "\"i'd\": \"i would\",\n",
    "\"i'd've\": \"i would have\",\n",
    "\"i'll\": \"i will\",\n",
    "\"i'll've\": \"i will have\",\n",
    "\"i'm\": \"i am\",\n",
    "\"i've\": \"i have\",\n",
    "\"isn't\": \"is not\",\n",
    "\"it'd\": \"it would\",\n",
    "\"it'd've\": \"it would have\",\n",
    "\"it'll\": \"it will\",\n",
    "\"it'll've\": \"it will have\",\n",
    "\"it's\": \"it is\",\n",
    "\"let's\": \"let us\",\n",
    "\"ma'am\": \"madam\",\n",
    "\"mayn't\": \"may not\",\n",
    "\"might've\": \"might have\",\n",
    "\"mightn't\": \"might not\",\n",
    "\"mightn't've\": \"might not have\",\n",
    "\"must've\": \"must have\",\n",
    "\"mustn't\": \"must not\",\n",
    "\"mustn't've\": \"must not have\",\n",
    "\"needn't\": \"need not\",\n",
    "\"needn't've\": \"need not have\",\n",
    "\"o'clock\": \"of the clock\",\n",
    "\"oughtn't\": \"ought not\",\n",
    "\"oughtn't've\": \"ought not have\",\n",
    "\"shan't\": \"shall not\",\n",
    "\"sha'n't\": \"shall not\",\n",
    "\"shan't've\": \"shall not have\",\n",
    "\"she'd\": \"she would\",\n",
    "\"she'd've\": \"she would have\",\n",
    "\"she'll\": \"she will\",\n",
    "\"she'll've\": \"she will have\",\n",
    "\"she's\": \"she is\",\n",
    "\"should've\": \"should have\",\n",
    "\"shouldn't\": \"should not\",\n",
    "\"shouldn't've\": \"should not have\",\n",
    "\"so've\": \"so have\",\n",
    "\"so's\": \"so as\",\n",
    "\"that'd\": \"that would\",\n",
    "\"that'd've\": \"that would have\",\n",
    "\"that's\": \"that is\",\n",
    "\"there'd\": \"there would\",\n",
    "\"there'd've\": \"there would have\",\n",
    "\"there's\": \"there is\",\n",
    "\"they'd\": \"they would\",\n",
    "\"they'd've\": \"they would have\",\n",
    "\"they'll\": \"they will\",\n",
    "\"they'll've\": \"they will have\",\n",
    "\"they're\": \"they are\",\n",
    "\"they've\": \"they have\",\n",
    "\"to've\": \"to have\",\n",
    "\"wasn't\": \"was not\",\n",
    "\"we'd\": \"we would\",\n",
    "\"we'd've\": \"we would have\",\n",
    "\"we'll\": \"we will\",\n",
    "\"we'll've\": \"we will have\",\n",
    "\"we're\": \"we are\",\n",
    "\"we've\": \"we have\",\n",
    "\"weren't\": \"were not\",\n",
    "\"what'll\": \"what will\",\n",
    "\"what'll've\": \"what will have\",\n",
    "\"what're\": \"what are\",\n",
    "\"what's\": \"what is\",\n",
    "\"what've\": \"what have\",\n",
    "\"when's\": \"when is\",\n",
    "\"when've\": \"when have\",\n",
    "\"where'd\": \"where did\",\n",
    "\"where's\": \"where is\",\n",
    "\"where've\": \"where have\",\n",
    "\"who'll\": \"who will\",\n",
    "\"who'll've\": \"who will have\",\n",
    "\"who's\": \"who is\",\n",
    "\"who've\": \"who have\",\n",
    "\"why's\": \"why is\",\n",
    "\"why've\": \"why have\",\n",
    "\"will've\": \"will have\",\n",
    "\"won't\": \"will not\",\n",
    "\"won't've\": \"will not have\",\n",
    "\"would've\": \"would have\",\n",
    "\"wouldn't\": \"would not\",\n",
    "\"wouldn't've\": \"would not have\",\n",
    "\"y'all\": \"you all\",\n",
    "\"y'all'd\": \"you all would\",\n",
    "\"y'all'd've\": \"you all would have\",\n",
    "\"y'all're\": \"you all are\",\n",
    "\"y'all've\": \"you all have\",\n",
    "\"you'd\": \"you would\",\n",
    "\"you'd've\": \"you would have\",\n",
    "\"you'll\": \"you will\",\n",
    "\"you'll've\": \"you will have\",\n",
    "\"you're\": \"you are\",\n",
    "\"you've\": \"you have\"\n",
    "}"
   ]
  },
  {
   "cell_type": "code",
   "execution_count": 66,
   "id": "c4f80d20",
   "metadata": {},
   "outputs": [
    {
     "name": "stdout",
     "output_type": "stream",
     "text": [
      "Collecting contractions\n",
      "  Downloading contractions-0.1.68-py2.py3-none-any.whl (8.1 kB)\n",
      "Collecting textsearch>=0.0.21\n",
      "  Downloading textsearch-0.0.21-py2.py3-none-any.whl (7.5 kB)\n",
      "Collecting anyascii\n",
      "  Downloading anyascii-0.3.1-py3-none-any.whl (287 kB)\n",
      "     l     ━━━━━━━━━━━━━━━━━━━━━━━━━━━━━━━━━━━━━━━━ 0.0/287.5 KB ? eta -:--:--━━━━━━━━━━━━━━━━━━━━━━━━━━━━━━━━━━━━━━╸ 286.7/287.5 KB 9.4 MB/s eta 0:00:01━━━━━━━━━━━━━━━━━━━━━━━━━━━━━━━━━━━━━━━ 287.5/287.5 KB 3.6 MB/s eta 0:00:00\n",
      "\u001b[?25hCollecting pyahocorasick\n",
      "  Downloading pyahocorasick-1.4.4-cp37-cp37m-macosx_10_9_x86_64.whl (32 kB)\n",
      "Installing collected packages: pyahocorasick, anyascii, textsearch, contractions\n",
      "Successfully installed anyascii-0.3.1 contractions-0.1.68 pyahocorasick-1.4.4 textsearch-0.0.21\n",
      "Note: you may need to restart the kernel to use updated packages.\n"
     ]
    }
   ],
   "source": [
    "pip install contractions"
   ]
  },
  {
   "cell_type": "code",
   "execution_count": 10,
   "id": "b9d3385e",
   "metadata": {},
   "outputs": [],
   "source": [
    "from contractions import contractions_dict"
   ]
  },
  {
   "cell_type": "code",
   "execution_count": 69,
   "id": "50c373ba",
   "metadata": {},
   "outputs": [
    {
     "data": {
      "text/plain": [
       "343"
      ]
     },
     "execution_count": 69,
     "metadata": {},
     "output_type": "execute_result"
    }
   ],
   "source": [
    "len(contractions_dict)"
   ]
  },
  {
   "cell_type": "code",
   "execution_count": 71,
   "id": "69248371",
   "metadata": {},
   "outputs": [
    {
     "data": {
      "text/plain": [
       "{\"I'm\": 'I am',\n",
       " \"I'm'a\": 'I am about to',\n",
       " \"I'm'o\": 'I am going to',\n",
       " \"I've\": 'I have',\n",
       " \"I'll\": 'I will',\n",
       " \"I'll've\": 'I will have',\n",
       " \"I'd\": 'I would',\n",
       " \"I'd've\": 'I would have',\n",
       " 'Whatcha': 'What are you',\n",
       " \"amn't\": 'am not',\n",
       " \"ain't\": 'are not',\n",
       " \"aren't\": 'are not',\n",
       " \"'cause\": 'because',\n",
       " \"can't\": 'cannot',\n",
       " \"can't've\": 'cannot have',\n",
       " \"could've\": 'could have',\n",
       " \"couldn't\": 'could not',\n",
       " \"couldn't've\": 'could not have',\n",
       " \"daren't\": 'dare not',\n",
       " \"daresn't\": 'dare not',\n",
       " \"dasn't\": 'dare not',\n",
       " \"didn't\": 'did not',\n",
       " 'didn’t': 'did not',\n",
       " \"don't\": 'do not',\n",
       " 'don’t': 'do not',\n",
       " \"doesn't\": 'does not',\n",
       " \"e'er\": 'ever',\n",
       " \"everyone's\": 'everyone is',\n",
       " 'finna': 'fixing to',\n",
       " 'gimme': 'give me',\n",
       " \"gon't\": 'go not',\n",
       " 'gonna': 'going to',\n",
       " 'gotta': 'got to',\n",
       " \"hadn't\": 'had not',\n",
       " \"hadn't've\": 'had not have',\n",
       " \"hasn't\": 'has not',\n",
       " \"haven't\": 'have not',\n",
       " \"he've\": 'he have',\n",
       " \"he's\": 'he is',\n",
       " \"he'll\": 'he will',\n",
       " \"he'll've\": 'he will have',\n",
       " \"he'd\": 'he would',\n",
       " \"he'd've\": 'he would have',\n",
       " \"here's\": 'here is',\n",
       " \"how're\": 'how are',\n",
       " \"how'd\": 'how did',\n",
       " \"how'd'y\": 'how do you',\n",
       " \"how's\": 'how is',\n",
       " \"how'll\": 'how will',\n",
       " \"isn't\": 'is not',\n",
       " \"it's\": 'it is',\n",
       " \"'tis\": 'it is',\n",
       " \"'twas\": 'it was',\n",
       " \"it'll\": 'it will',\n",
       " \"it'll've\": 'it will have',\n",
       " \"it'd\": 'it would',\n",
       " \"it'd've\": 'it would have',\n",
       " 'kinda': 'kind of',\n",
       " \"let's\": 'let us',\n",
       " 'luv': 'love',\n",
       " \"ma'am\": 'madam',\n",
       " \"may've\": 'may have',\n",
       " \"mayn't\": 'may not',\n",
       " \"might've\": 'might have',\n",
       " \"mightn't\": 'might not',\n",
       " \"mightn't've\": 'might not have',\n",
       " \"must've\": 'must have',\n",
       " \"mustn't\": 'must not',\n",
       " \"mustn't've\": 'must not have',\n",
       " \"needn't\": 'need not',\n",
       " \"needn't've\": 'need not have',\n",
       " \"ne'er\": 'never',\n",
       " \"o'\": 'of',\n",
       " \"o'clock\": 'of the clock',\n",
       " \"ol'\": 'old',\n",
       " \"oughtn't\": 'ought not',\n",
       " \"oughtn't've\": 'ought not have',\n",
       " \"o'er\": 'over',\n",
       " \"shan't\": 'shall not',\n",
       " \"sha'n't\": 'shall not',\n",
       " \"shalln't\": 'shall not',\n",
       " \"shan't've\": 'shall not have',\n",
       " \"she's\": 'she is',\n",
       " \"she'll\": 'she will',\n",
       " \"she'd\": 'she would',\n",
       " \"she'd've\": 'she would have',\n",
       " \"should've\": 'should have',\n",
       " \"shouldn't\": 'should not',\n",
       " \"shouldn't've\": 'should not have',\n",
       " \"so've\": 'so have',\n",
       " \"so's\": 'so is',\n",
       " \"somebody's\": 'somebody is',\n",
       " \"someone's\": 'someone is',\n",
       " \"something's\": 'something is',\n",
       " 'sux': 'sucks',\n",
       " \"that're\": 'that are',\n",
       " \"that's\": 'that is',\n",
       " \"that'll\": 'that will',\n",
       " \"that'd\": 'that would',\n",
       " \"that'd've\": 'that would have',\n",
       " 'em': 'them',\n",
       " \"there're\": 'there are',\n",
       " \"there's\": 'there is',\n",
       " \"there'll\": 'there will',\n",
       " \"there'd\": 'there would',\n",
       " \"there'd've\": 'there would have',\n",
       " \"these're\": 'these are',\n",
       " \"they're\": 'they are',\n",
       " \"they've\": 'they have',\n",
       " \"they'll\": 'they will',\n",
       " \"they'll've\": 'they will have',\n",
       " \"they'd\": 'they would',\n",
       " \"they'd've\": 'they would have',\n",
       " \"this's\": 'this is',\n",
       " \"this'll\": 'this will',\n",
       " \"this'd\": 'this would',\n",
       " \"those're\": 'those are',\n",
       " \"to've\": 'to have',\n",
       " 'wanna': 'want to',\n",
       " \"wasn't\": 'was not',\n",
       " \"we're\": 'we are',\n",
       " \"we've\": 'we have',\n",
       " \"we'll\": 'we will',\n",
       " \"we'll've\": 'we will have',\n",
       " \"we'd\": 'we would',\n",
       " \"we'd've\": 'we would have',\n",
       " \"weren't\": 'were not',\n",
       " \"what're\": 'what are',\n",
       " \"what'd\": 'what did',\n",
       " \"what've\": 'what have',\n",
       " \"what's\": 'what is',\n",
       " \"what'll\": 'what will',\n",
       " \"what'll've\": 'what will have',\n",
       " \"when've\": 'when have',\n",
       " \"when's\": 'when is',\n",
       " \"where're\": 'where are',\n",
       " \"where'd\": 'where did',\n",
       " \"where've\": 'where have',\n",
       " \"where's\": 'where is',\n",
       " \"which's\": 'which is',\n",
       " \"who're\": 'who are',\n",
       " \"who've\": 'who have',\n",
       " \"who's\": 'who is',\n",
       " \"who'll\": 'who will',\n",
       " \"who'll've\": 'who will have',\n",
       " \"who'd\": 'who would',\n",
       " \"who'd've\": 'who would have',\n",
       " \"why're\": 'why are',\n",
       " \"why'd\": 'why did',\n",
       " \"why've\": 'why have',\n",
       " \"why's\": 'why is',\n",
       " \"will've\": 'will have',\n",
       " \"won't\": 'will not',\n",
       " \"won't've\": 'will not have',\n",
       " \"would've\": 'would have',\n",
       " \"wouldn't\": 'would not',\n",
       " \"wouldn't've\": 'would not have',\n",
       " \"y'all\": 'you all',\n",
       " \"y'all're\": 'you all are',\n",
       " \"y'all've\": 'you all have',\n",
       " \"y'all'd\": 'you all would',\n",
       " \"y'all'd've\": 'you all would have',\n",
       " \"you're\": 'you are',\n",
       " \"you've\": 'you have',\n",
       " \"you'll've\": 'you shall have',\n",
       " \"you'll\": 'you will',\n",
       " \"you'd\": 'you would',\n",
       " \"you'd've\": 'you would have',\n",
       " 'to cause': 'to cause',\n",
       " 'will cause': 'will cause',\n",
       " 'should cause': 'should cause',\n",
       " 'would cause': 'would cause',\n",
       " 'can cause': 'can cause',\n",
       " 'could cause': 'could cause',\n",
       " 'must cause': 'must cause',\n",
       " 'might cause': 'might cause',\n",
       " 'shall cause': 'shall cause',\n",
       " 'may cause': 'may cause',\n",
       " 'jan.': 'january',\n",
       " 'feb.': 'february',\n",
       " 'mar.': 'march',\n",
       " 'apr.': 'april',\n",
       " 'jun.': 'june',\n",
       " 'jul.': 'july',\n",
       " 'aug.': 'august',\n",
       " 'sep.': 'september',\n",
       " 'oct.': 'october',\n",
       " 'nov.': 'november',\n",
       " 'dec.': 'december',\n",
       " 'I’m': 'I am',\n",
       " 'I’m’a': 'I am about to',\n",
       " 'I’m’o': 'I am going to',\n",
       " 'I’ve': 'I have',\n",
       " 'I’ll': 'I will',\n",
       " 'I’ll’ve': 'I will have',\n",
       " 'I’d': 'I would',\n",
       " 'I’d’ve': 'I would have',\n",
       " 'amn’t': 'am not',\n",
       " 'ain’t': 'are not',\n",
       " 'aren’t': 'are not',\n",
       " '’cause': 'because',\n",
       " 'can’t': 'cannot',\n",
       " 'can’t’ve': 'cannot have',\n",
       " 'could’ve': 'could have',\n",
       " 'couldn’t': 'could not',\n",
       " 'couldn’t’ve': 'could not have',\n",
       " 'daren’t': 'dare not',\n",
       " 'daresn’t': 'dare not',\n",
       " 'dasn’t': 'dare not',\n",
       " 'doesn’t': 'does not',\n",
       " 'e’er': 'ever',\n",
       " 'everyone’s': 'everyone is',\n",
       " 'gon’t': 'go not',\n",
       " 'hadn’t': 'had not',\n",
       " 'hadn’t’ve': 'had not have',\n",
       " 'hasn’t': 'has not',\n",
       " 'haven’t': 'have not',\n",
       " 'he’ve': 'he have',\n",
       " 'he’s': 'he is',\n",
       " 'he’ll': 'he will',\n",
       " 'he’ll’ve': 'he will have',\n",
       " 'he’d': 'he would',\n",
       " 'he’d’ve': 'he would have',\n",
       " 'here’s': 'here is',\n",
       " 'how’re': 'how are',\n",
       " 'how’d': 'how did',\n",
       " 'how’d’y': 'how do you',\n",
       " 'how’s': 'how is',\n",
       " 'how’ll': 'how will',\n",
       " 'isn’t': 'is not',\n",
       " 'it’s': 'it is',\n",
       " '’tis': 'it is',\n",
       " '’twas': 'it was',\n",
       " 'it’ll': 'it will',\n",
       " 'it’ll’ve': 'it will have',\n",
       " 'it’d': 'it would',\n",
       " 'it’d’ve': 'it would have',\n",
       " 'let’s': 'let us',\n",
       " 'ma’am': 'madam',\n",
       " 'may’ve': 'may have',\n",
       " 'mayn’t': 'may not',\n",
       " 'might’ve': 'might have',\n",
       " 'mightn’t': 'might not',\n",
       " 'mightn’t’ve': 'might not have',\n",
       " 'must’ve': 'must have',\n",
       " 'mustn’t': 'must not',\n",
       " 'mustn’t’ve': 'must not have',\n",
       " 'needn’t': 'need not',\n",
       " 'needn’t’ve': 'need not have',\n",
       " 'ne’er': 'never',\n",
       " 'o’': 'of',\n",
       " 'o’clock': 'of the clock',\n",
       " 'ol’': 'old',\n",
       " 'oughtn’t': 'ought not',\n",
       " 'oughtn’t’ve': 'ought not have',\n",
       " 'o’er': 'over',\n",
       " 'shan’t': 'shall not',\n",
       " 'sha’n’t': 'shall not',\n",
       " 'shalln’t': 'shall not',\n",
       " 'shan’t’ve': 'shall not have',\n",
       " 'she’s': 'she is',\n",
       " 'she’ll': 'she will',\n",
       " 'she’d': 'she would',\n",
       " 'she’d’ve': 'she would have',\n",
       " 'should’ve': 'should have',\n",
       " 'shouldn’t': 'should not',\n",
       " 'shouldn’t’ve': 'should not have',\n",
       " 'so’ve': 'so have',\n",
       " 'so’s': 'so is',\n",
       " 'somebody’s': 'somebody is',\n",
       " 'someone’s': 'someone is',\n",
       " 'something’s': 'something is',\n",
       " 'that’re': 'that are',\n",
       " 'that’s': 'that is',\n",
       " 'that’ll': 'that will',\n",
       " 'that’d': 'that would',\n",
       " 'that’d’ve': 'that would have',\n",
       " 'there’re': 'there are',\n",
       " 'there’s': 'there is',\n",
       " 'there’ll': 'there will',\n",
       " 'there’d': 'there would',\n",
       " 'there’d’ve': 'there would have',\n",
       " 'these’re': 'these are',\n",
       " 'they’re': 'they are',\n",
       " 'they’ve': 'they have',\n",
       " 'they’ll': 'they will',\n",
       " 'they’ll’ve': 'they will have',\n",
       " 'they’d': 'they would',\n",
       " 'they’d’ve': 'they would have',\n",
       " 'this’s': 'this is',\n",
       " 'this’ll': 'this will',\n",
       " 'this’d': 'this would',\n",
       " 'those’re': 'those are',\n",
       " 'to’ve': 'to have',\n",
       " 'wasn’t': 'was not',\n",
       " 'we’re': 'we are',\n",
       " 'we’ve': 'we have',\n",
       " 'we’ll': 'we will',\n",
       " 'we’ll’ve': 'we will have',\n",
       " 'we’d': 'we would',\n",
       " 'we’d’ve': 'we would have',\n",
       " 'weren’t': 'were not',\n",
       " 'what’re': 'what are',\n",
       " 'what’d': 'what did',\n",
       " 'what’ve': 'what have',\n",
       " 'what’s': 'what is',\n",
       " 'what’ll': 'what will',\n",
       " 'what’ll’ve': 'what will have',\n",
       " 'when’ve': 'when have',\n",
       " 'when’s': 'when is',\n",
       " 'where’re': 'where are',\n",
       " 'where’d': 'where did',\n",
       " 'where’ve': 'where have',\n",
       " 'where’s': 'where is',\n",
       " 'which’s': 'which is',\n",
       " 'who’re': 'who are',\n",
       " 'who’ve': 'who have',\n",
       " 'who’s': 'who is',\n",
       " 'who’ll': 'who will',\n",
       " 'who’ll’ve': 'who will have',\n",
       " 'who’d': 'who would',\n",
       " 'who’d’ve': 'who would have',\n",
       " 'why’re': 'why are',\n",
       " 'why’d': 'why did',\n",
       " 'why’ve': 'why have',\n",
       " 'why’s': 'why is',\n",
       " 'will’ve': 'will have',\n",
       " 'won’t': 'will not',\n",
       " 'won’t’ve': 'will not have',\n",
       " 'would’ve': 'would have',\n",
       " 'wouldn’t': 'would not',\n",
       " 'wouldn’t’ve': 'would not have',\n",
       " 'y’all': 'you all',\n",
       " 'y’all’re': 'you all are',\n",
       " 'y’all’ve': 'you all have',\n",
       " 'y’all’d': 'you all would',\n",
       " 'y’all’d’ve': 'you all would have',\n",
       " 'you’re': 'you are',\n",
       " 'you’ve': 'you have',\n",
       " 'you’ll’ve': 'you shall have',\n",
       " 'you’ll': 'you will',\n",
       " 'you’d': 'you would',\n",
       " 'you’d’ve': 'you would have'}"
      ]
     },
     "execution_count": 71,
     "metadata": {},
     "output_type": "execute_result"
    }
   ],
   "source": [
    "contractions_dict"
   ]
  },
  {
   "cell_type": "code",
   "execution_count": 11,
   "id": "b0122670",
   "metadata": {},
   "outputs": [],
   "source": [
    "def remove_characters_before_tokenization(text):\n",
    "    text = text.strip()\n",
    "    return re.sub(r'[^a-zA-Z0-9\\' ]', r'', text)"
   ]
  },
  {
   "cell_type": "code",
   "execution_count": 189,
   "id": "988df286",
   "metadata": {},
   "outputs": [
    {
     "data": {
      "text/plain": [
       "\"Axc2xa0majority of Canadians can and has been wrong before now and will be againnnUnless you're supportive of the idea that nothing is full proof or perfect so you take your chances and if we should inadvertently kill your son or daughter then them's the breaks and we can always regard you as collateral damage like in wartime  and sorry butxc2xa0the cheques in the mail \""
      ]
     },
     "execution_count": 189,
     "metadata": {},
     "output_type": "execute_result"
    }
   ],
   "source": [
    "Data_to_clean1[2]"
   ]
  },
  {
   "cell_type": "code",
   "execution_count": 12,
   "id": "0550e5f4",
   "metadata": {},
   "outputs": [],
   "source": [
    "Data_to_clean1 = [remove_characters_before_tokenization(i) for i in Data_to_clean]"
   ]
  },
  {
   "cell_type": "code",
   "execution_count": 13,
   "id": "a43c4e70",
   "metadata": {},
   "outputs": [],
   "source": [
    "def tokenize_text(text):\n",
    "    tokens = nltk.word_tokenize(text)\n",
    "    tokens = [token.strip() for token in tokens]\n",
    "    return tokens"
   ]
  },
  {
   "cell_type": "markdown",
   "id": "5ac33a57",
   "metadata": {},
   "source": [
    "\"\"\"def expand_match(contraction):\n",
    "        \n",
    "    match = contraction.group(0)\n",
    "    first_char = match[0]\n",
    "    expanded_contraction = contractions_dict.get(match)\\\n",
    "                           if contractions_dict.get(match)\\\n",
    "                           else contractions_dict.get(match.lower())\n",
    "    expanded_contraction = first_char+expanded_contraction[1:]\n",
    "    return expanded_contraction\"\"\"\n",
    "\n",
    "def expand_contractions(sentence, contractions_dict):\n",
    "\n",
    "    contractions_pattern = re.compile('({})'.format('|'.join(contractions_dict.keys())), \n",
    "                                      flags=re.IGNORECASE|re.DOTALL)\n",
    "    def expand_match(contraction):\n",
    "        \n",
    "        match = contraction.group(0)\n",
    "        first_char = match[0]\n",
    "        expanded_contraction = contractions_dict.get(match)\\\n",
    "                               if contractions_dict.get(match)\\\n",
    "                               else contractions_dict.get(match.lower())\n",
    "        expanded_contraction = first_char+expanded_contraction[1:]\n",
    "        return expanded_contraction\n",
    "    \n",
    "    \n",
    "    expanded_sentence = contractions_pattern.sub(expand_match, sentence)\n",
    "    return expanded_sentence"
   ]
  },
  {
   "cell_type": "code",
   "execution_count": 14,
   "id": "aca82c06",
   "metadata": {},
   "outputs": [],
   "source": [
    "stopword_list = nltk.corpus.stopwords.words('english')"
   ]
  },
  {
   "cell_type": "code",
   "execution_count": 15,
   "id": "cc9fbae0",
   "metadata": {},
   "outputs": [],
   "source": [
    "def remove_stopwords(text):\n",
    "    tokens = tokenize_text(text)\n",
    "    filtered_tokens = [token for token in tokens if token not in stopword_list]\n",
    "    filtered_text = ' '.join(filtered_tokens)\n",
    "    return filtered_text"
   ]
  },
  {
   "cell_type": "code",
   "execution_count": 16,
   "id": "80e57134",
   "metadata": {},
   "outputs": [],
   "source": [
    "def expand_contra(sentence, contractions_dict):\n",
    "    contras = re.findall(r'\\w+\\'\\w+', sentence)\n",
    "    for i in contras:\n",
    "        expanded_contraction = contractions_dict.get(i)\\\n",
    "                               if contractions_dict.get(i)\\\n",
    "                               else contractions_dict.get(i.lower())\n",
    "        if expanded_contraction:\n",
    "            sentence = re.sub(i, expanded_contraction, sentence)\n",
    "    return sentence\n",
    "        "
   ]
  },
  {
   "cell_type": "code",
   "execution_count": 17,
   "id": "286e9f7d",
   "metadata": {},
   "outputs": [],
   "source": [
    "def normalize_corpus(corpus, tokenize=False):\n",
    "    normalized_corpus = []\n",
    "    for index, text in enumerate(corpus):\n",
    "        try:\n",
    "            text = expand_contra(text, contractions_dict)\n",
    "        except:\n",
    "            print(index)\n",
    "        text = remove_stopwords(text)\n",
    "        normalized_corpus.append(text)\n",
    "        if tokenize:\n",
    "            text = tokenize_text(text)\n",
    "            normalized_corpus.append(text)\n",
    "    return normalized_corpus"
   ]
  },
  {
   "cell_type": "code",
   "execution_count": 18,
   "id": "fddcbbc1",
   "metadata": {},
   "outputs": [],
   "source": [
    "normalized_data = normalize_corpus(corpus=Data_to_clean1,tokenize=False)"
   ]
  },
  {
   "cell_type": "code",
   "execution_count": 19,
   "id": "6e672c4f",
   "metadata": {},
   "outputs": [
    {
     "data": {
      "text/plain": [
       "['You fuck dad',\n",
       " 'really understand pointxa0 It seems mixing apples oranges',\n",
       " \"Axc2xa0majority Canadians wrong againnnUnless supportive idea nothing full proof perfect take chances inadvertently kill son daughter 's breaks always regard collateral damage like wartime sorry butxc2xa0the cheques mail\",\n",
       " 'listen dont wan na get married man women DONT DO IT would bother gay people got married stay lane let And god nice quick judg like thought wasnt suppose judge people',\n",
       " 'Cxe1c bu1ea1n xuu1ed1ng u0111u01b0u1eddng biu1ec3u txecnh 2011 cxf3 xf4n hoxe0 khxf4ng nCxe1c ngu01b0 dxe2n ngu1ed3i cuxed u0111u1ea7u chiu1ee5 nhu1ee5c cxf3 xf4n hoxe0 khxf4ng nCxe1c nxf4ng dxe2n giu1eef u0111u1ea5t u1edf Vu0103n Giang Cu1ea7n Thu01a1 cxf3 xf4n hoxe0 khxf4ng nnRu1ed1t cuu1ed9c u0111u01b0u1ee3c gxecxa0 thxec chxfang ta u0111xe3 biu1ebft nAi cu0169ng yxeau chuu1ed9ng hoxe0 bxecnh nhu01b0ng u0111xf4i khi hoxe0 bxecnh chu1ec9 thu1eadt su1ef1 u0111u1ebfn sau chiu1ebfn tranh mxe0 thxf4inKhxf4ng cxf2n con u0111u01b0u1eddng nxe0o chu1ecdn khxe1c u0111xe2u u0111u1eebng mu01a1 thxeam nu01b0xe3',\n",
       " 'SDL OK I would hope would sign oneyear contract start Give chance reliable productive give time hurt playing skills falls back old habits',\n",
       " 'Yeah',\n",
       " 'shut fuck rest faggot friends burned stake',\n",
       " 'Either fake extremely stupidmaybe',\n",
       " \"That idiot understands neither taxation women 's health\",\n",
       " 'jdstorm dont wish injury happened OWN DOUBT injured looked embarrassed',\n",
       " 'Be carefulJimboOG fork name',\n",
       " 'tonnyb Or pay attention',\n",
       " 'Hmmm Perhaps pigfaced get laid therefore zero chance getting pregnant activity hold something women IDK Stream consciousnees thought looking',\n",
       " 'barrettmarson Huh Her income 21912 Her spending 5470 My math puts 249',\n",
       " 'FOR SOME REASON U SOUND RETARDED LOL DAMN WHERE U BEEN NEGRO',\n",
       " \"You 'racist ' screen namennYou PieceOfShit\",\n",
       " 'Oh cheating well1966 cup cheat fest still dare post commentshame lol',\n",
       " 'dickhead',\n",
       " 'Your retard go post head',\n",
       " 'EephusBluexa0Makes want say Mike MacWHOgal',\n",
       " 'httpwwwyoutubecomwatchvtLYLLPHKRU4',\n",
       " 'And know burned holes carpeting',\n",
       " 'land creature You would drown',\n",
       " 'To doomandgloomers chickenlittles claim sky falling society collapsingCanada gay marriage nationwide years Where disaster Where collapse persecution shouting Where Please show us examples starting look like threats fears warnings nothing HOT AIR',\n",
       " 'Craig saying start entertaining showxa0 It awakens horny little Goth mexa0 I met boyfriend first season one first thing watch AHS housexa0 I know likes day sure I far creepier kinkier could ever bexa0 Thanks American Horror Storyxa0 Sweet Clam loves',\n",
       " 'Strange talking Chelsea fans belittling Community Shield',\n",
       " 'But would actually get key',\n",
       " 'oh cool internet points collection',\n",
       " 'Even though I think better coaches I glad Del Negro keeping job I never thought got enough credit years took average Chicago Bulls teams coached playoffs 2 years row',\n",
       " 'russellpianoxa0nHmmmmhow spin Obama honoring Vietnam troops something negativeAnswer matter Look followers take anythingnnnObama team xa0Hmmm make liberal Messiah look better light revelations leaking classified information New York TimesI know lets bogus photo shoot Viet Nam Memorial That make Obama look like cares vets first clear vets immediate area trusted',\n",
       " 'A good article good could delivered brick wall',\n",
       " \"Head 's warninganother source funding Media Matters Peter Lewis Progessive Insurance Company You know auto insurance commercials run every 5 minutes cable television featuring gal looks like blowup doll red lips andxc2xa0a perfectly round mouthif know I meannIF Progressivexc2xa0auto insurance know part premium going fund progressive liberalxc2xa0organization hell bentxc2xa0on destroyingxc2xa0our country free speech Their mission toxc2xa0bring downxc2xa0HannityBeckDobbsLavinLimbaughBoortzetc We must let win\",\n",
       " 'sdnoriko LOL Capcom listens Watch fuck I hope I wrong I love Okami',\n",
       " 'Allinit123 yourxa0hypocrisyxa0is sickening ignorant loser',\n",
       " 'Fast furious work like planned itlololololololol',\n",
       " 'mitt best candidate presidentbut going worstxa0candidatexa0ever help tremendously xa0LOLxa0nnobama one doneit could happen way',\n",
       " 'I believe stupid people site idea going onxa0 You foolsxa0 You useful idiotsxa0 They hiding truth fools protect would look like useful idiots',\n",
       " 'fucking behave prick',\n",
       " 'The relevant fact HE IS DESTROYING AMERICA',\n",
       " 'You liar',\n",
       " 'Is sum total conversation first abuse calling troll You typical socialist idiot Keep non existent class warfare pointless',\n",
       " 'beanstalk briview Welp NBW right',\n",
       " 'Good job fellas I quite read rules signature piece I guess good I found great blogs follow share G If I commenting blogs I always throw two cents I post share Add Googler nhttpsplusgooglecom109258118458627782001posts Again congratulations winners I hope get chance submit something else This fucking fun',\n",
       " 'I say hang ass center town let known type behavior gets type punishment The lady kid 1 week ago Women safe sex child birth AT LEAST 6 weeks So even WASxc2xa0consensual would wayyyyy soon hurt lady I glad baby young remember event happening house I hope mother recovers quickly',\n",
       " 'faggot',\n",
       " 'You right relaxe give better result perform identity work',\n",
       " 'Aimless Abe delusion weirdo locked inside kept away computersxa0 Anyone doubts lunacy Abe moronic prog frog NYC please read thread see Abe completely come apart seams go deep end',\n",
       " 'That I doubtnnas Blackberry clonennBut original argument Android would existed Android somehow predates iOS development',\n",
       " 'OKC work deal get PG plays like Parker CP3 I think Nash point move Westbrook SG team would unstoppable Imagine shots Nash would create Durant Then Westbrook would natural position guy create shots distribute',\n",
       " \"Maher 's show goes onnPalin'sxa0 Alakda show gets cancelednnIs n't free market wonderful\",\n",
       " 'Even troll pathetic failure',\n",
       " 'Grazie mille Sabrina Sei cosxec dolcennBaci',\n",
       " 'yeah well would still better letting sit 2030 years dime sticking needle veins I say give ALL noose If choose kill',\n",
       " 'umnxa0nholy fuck need cigarette',\n",
       " 'moron truth beyond reach',\n",
       " 'You seem wistful',\n",
       " 'Damn speedy recovery Paulraining prayers',\n",
       " 'The laughs two heard triggered memories highflying exits moving beasts',\n",
       " 'Your antiSemitic rants welcomed You racist moronnFU',\n",
       " 'Nonstopdrivel Was FredEx team',\n",
       " 'god tiresome get life loser',\n",
       " \"stop pretending ur bradley 's side BSare u blind give us stupidxa0longxa0explainations yoursxa0youxa0xa0sounds like 2 idiot judges exactly carbon copy arum need moneyyyy bacckkkkkkk\",\n",
       " 'fucking weird game man',\n",
       " 'I told I would give You started acting likje tough guy behind moms computer I asked 20 times address still give',\n",
       " 'I know Lewis little boy little girl Either way becomes third list petulant idiots You understand grow Ask old bastard member family explain Such actions tolerated How come blame line judge Weird',\n",
       " 'thats pathetic flop fuck jvg',\n",
       " 'Why bother improving ios sell phones care produce These advice better served alsoruns wp first foremost',\n",
       " 'spursruss I live Argentina Argentinians The problem loud issue ill educated sure would rushing fight anyone would cowering background My wife Argentinean first one recognize stupidity claims Some muppet think fought Independence UK morons lot The answer simple leading colonial force would ENGLISH speaking country werent Spain Portugal France interests commercial Also worst part exterminated natives Spanish started actually newly formed Argies killing native lovely eh Clueless stuff wonder Government gets away corruption many ignorant people thats whyyou shouldnt judge ALL standard huge amount Argies see Cristina drum beating ALL presidents Argentina using cover failing',\n",
       " 'better hope Marlins history giving superstars',\n",
       " \"Well guys gone done You put words 'China ' 'Chinese ' required number times dating Asians ad come Evidently Ms Zhang 50Kg 168cm BMI 178 'HuNan China ' wants meet She little mouth open like speaking ask Zhang Well yes matter fact I physician Why clapping hands together jumping Stop squealing young lady 'exprain '\",\n",
       " 'mean like topic Obama rant bellow',\n",
       " 'I hope inconjunction July 4',\n",
       " 'Surely crushing blow get next four years would consider leaving country',\n",
       " 'I watched Fox News years true',\n",
       " 'Are France',\n",
       " 'I take tempI really hate heat',\n",
       " 'Alexis Bledel act Wait Can I blind spot comes impossibly beautiful women Shit maybe act Fuck hell I nownnWHAT THE HELL DO I DO NOW',\n",
       " 'I like commentsnHowever I would go one step time let people IL fight backnRather citizens IL need fight back period nI carry next time I travel little Beirut ie Chicago',\n",
       " 'Fact Georgia passed strict immigration policy Latino farm workers left area Vidalia Georgia 3000 agriculture job openings able fill 250 past year All White Real Americans looking work Latinos stole youWhere The jobs Vadalia waiting youOr maybe fact would rather collect unemployment like rest Tea Klaners You screamyou complainand sit home wife beaters drink beerTypical Real White Tea Klan',\n",
       " 'Of course would bottom feeder',\n",
       " 'Mxe1tenlosnhttp1bpblogspotcomYVSZmVv2iRwTmo8KFaUGMIAAAAAAAAA0kNlLAahKNniss1600killitwithfireKILLITKILLITWITHFIREs670x394132457jpg',\n",
       " 'You arexa0 fukin moron xa0xa0 You butthurt got rejected WIkipediannCall yoursilf scolar whateverxa0 I better youxa0 14 already Wikipedia administratorxa0 You stupid ashole',\n",
       " \"He president doe 's daynI recall presidents appeared Wallnnelection year yea would never say anythingnif appear You ways\",\n",
       " \"yeah f'ing expertgo back picking trash barrels tool\",\n",
       " \"Those trails definitely get plowed regardless investigation see easier plow area deal And got plowed I would never return risk getting stopped heavily questioned POPO 's nnPS All stupid comments unnecessary really easy cold heartless act like give fuck But I would like see anonymous commentators talk shit like front person 's family even Mother 's Grow children learn respect\",\n",
       " 'Suh sack last time played',\n",
       " \"support argument aholennNot everyone games pc 's either xa0Spec whores miss point entirelynnI prefer mac daily work xa0That beings said I also big believer best tool job certain things PC 's better Database servers instancennThe thing havent proved anything anti apple bias name calling guilty get attention id juvenile\",\n",
       " 'You fucking dumb ass Go back Xbox dickhead Grow little fanboy',\n",
       " 'know would fun If guys talked crap back us entertaining',\n",
       " 'beeline SidneyCatsby I assuming school states',\n",
       " 'They put gay lesbians islandxe2x80xa6xc2xa0 Oh wait Manhattan',\n",
       " 'YOLO This hilarious Canyon students racist Even though us Mexican Fuck gabby',\n",
       " 'Lets see papers arealconservatinnTill shut fuuk stickychin',\n",
       " \"An interesting angle organized religion religious persecution never ok unless defending religionxc2xa0 You victims religious oppressionxc2xa0 You oppressorsxc2xa0 BTW 'm gayxc2xa0 I love people try defend persecution others claiming persecuted\",\n",
       " 'Correction Bitch You think superb hating ass know talentAnd Again I still waiting submit video singingWhere youtube link I sure get kinds rave reviews lol',\n",
       " 'I think trickle effected trickle sperm dad gave mom trickled leg Go back sleep wake needed',\n",
       " 'And keep knees keep telling sausage mouthxa0 And cream cheese swallowing',\n",
       " \"What like 2000 words nothing going Andrea Mitchell What Fox infomercial broadcasting yesterday How apologies issued EPA drones And yet attacking Andrea Mitchell stupid gas station gimmicknnHere 's another newsflash Mr Romney R1 touch We already know Mr Romney 's amazement gadget petrol filling post people could actually buy food products actually eat itnnThis second Mr Romney even carrying wallet And likely even know I still waiting someone ask tough campaign trail question much gallon milk costnnAndrea Mitchell gas station food unbelievable\",\n",
       " 'Rourke needs give fucking likexa0xa0jwoude23xa0hows everyone doin',\n",
       " 'fuck',\n",
       " 'PowersnnMSNBC Is far far biased hostile comments FOX At least FOX usually opposing views MSNBC shill president And keep fire hosts outrageous remarks makennNow CNN getting almost bad MSNBC',\n",
       " 'What horrible trades talking',\n",
       " 'retards like back institutions',\n",
       " 'weapons lol hes idiot waste human space made ruined',\n",
       " 'Not big fan Rondo dude ballI would classify big talker trying psyche',\n",
       " 'Pig Maher forgot meds You know one sick SOB forget',\n",
       " \"rich screaming taxesxa0 average middle class American pays hisher taxes see benefit taxes instead sees wastexa0 I pay federal taxes I use public schools I collecting govt welfare benefits I pay healthcare etcxa0 I use roads sewers I mind paying city taxesxa0for thatxa0 My trash pick private I pay directly trash companyxa0xa0Everyone pay theyxa0'use ' notxa0based makexa0xa0Ifxa0one wants part society one shouldxa0contribute pay fair sharexa0 That includes rich poor\",\n",
       " 'Mr King time either grow pair balls join democrats love pussy cat like',\n",
       " 'I amused fact WeBlog cons drop issue turns losernnThis expression amusement',\n",
       " 'Gabrielxc2xa0 xc2xa0Getting time blow horn',\n",
       " 'Exactly Like I really give shit fat person may may feel really shitty clothes fit And I gross way I well leave house naked way',\n",
       " 'Welfare queen whore crack whore xa0I think whore productive worker welfare queen',\n",
       " 'POLITICAL CORRECTNESSnnPolitical Correctness doctrine fostered delusional illogical minority rapidly promoted unscrupulous lamestream media holds forth proposition entirely possible pick piece cht xa0by clean end',\n",
       " 'What ass arefunny I see lot nuts cars I ever pilots panes',\n",
       " 'You take international law andxa0 shove You schmuck I know I even comment idiotic posts The peace activists ship started hitting soldiers weapons order kill',\n",
       " \"Blown little pissy applied union job turned He another good republican minion spreading today 's message\",\n",
       " 'If dont teleport airmix ups nothing',\n",
       " 'stop trying sound like victim bitches dont understand men dont temper thoughts go ur mind u put nigga da spot get face start throwing yo stank breath us believe u got coming yal go right period',\n",
       " 'robert moroni fuckin dimwit know parody fuckin parody fox news sounds accurate',\n",
       " 'The evil callous vile creature mythology made god Stop killing eating babies dirty christard',\n",
       " 'Oops xa0How embarrassing right People1st I bow superior movie intellect son',\n",
       " 'If throw trash window get yellow star bumper sticker',\n",
       " 'Once see soft immigration policy let citizens I bet come family less education retarded hampster yet given nice new life Britain Reap sow',\n",
       " 'Nope Not working either322334wwwfacebookcomannagillmodelnn nnYou email',\n",
       " 'That jump shooting bit gets old When get calls contact get shot thrown look separation jump shoot Especially big teams bigs longs rareexpensive pro level',\n",
       " 'This tough loss us right guys blowing locker roomnnScott Brooks',\n",
       " 'complete utter moron',\n",
       " 'Your still loser man must really gotten skin lol',\n",
       " \"The ignorance astounding Clearly says video Cleveland ALREADY convicted rape serving jail time GUILTY She WAS RAPED morons said ugly statements attacked veracity story The determination court trying make whether Cash Money held liable I think reasonable invite someone make professional presentation YOUR company YOU provide necessary protections individual I care whether Cleveland employed hangeron professional guest left unattended hands someone dangerous admittedly Baby Slim 's knowledge permission If went store attacked employee friend boss permitted hang around premises would hold company responsiblexc2xa0\",\n",
       " 'Fuck hard fuck slow fuck hard start',\n",
       " 'Axlrodesxa0Were Wide Receiver drama',\n",
       " 'fucking kidding mirrors fuck freesteam',\n",
       " 'Nothing confirmed 19th century moron There modern medical science prove ANYTHING Dont try quote period time brought us Spanish Inquisition You lowest low feel sorry',\n",
       " 'My best friend allergic wheat corn soy red dye yellow dye pistachios tree nuts kiwis cherries oranges bananas seafood If gets anywhere near smell seafood lungs constrict longer breath Last week got cut dog leash pistachios almost went anaphylactic I know little food allergiesxa0nnI asked friend thought rude selfish someone want food allergies could die She said bitch So I really think insulting wants food allergies die I think back bitch',\n",
       " 'So focusing Boston vs Miami minute scarier opponent SanAn OKC',\n",
       " 'floyd better knock percentage pacman dumb fuuuuck',\n",
       " 'wat u bn along u want train nwwe thot yo presence must strengthen strike force bt proving otherwsshame',\n",
       " 'The Dean Mean typical Tory believes one law another one everyone elsenBig Steve better get around firing everyone Elections Canada replacing Tory hacks really get Tories 2011 campaign',\n",
       " 'Oh fab tennis player sense humour smile Mr Murray please note Mind left late cheer Misery guts',\n",
       " 'You repeating mate',\n",
       " 'You one sick puppy',\n",
       " 'Very true indeed I tried sit study hours straight without breaks I nearly effective I take breaks',\n",
       " 'da fuck wat prasie devil look keep doin ya thing nigga',\n",
       " 'Can I say dick herenYour dick',\n",
       " 'niemerg1 Rightxa0 Never said fool proof tho',\n",
       " 'The wonders PLASTIC SURGERY 3',\n",
       " 'Ron Paul Cynthia Mckinney 2012nThe Wacko ticketnCalling Paul sheep barn daily feeding forget wallet',\n",
       " 'go move hollywood join russell brand take dan lobe',\n",
       " 'The way fucking hoodrat standing picture boiling blood I would like meet cunt alley minutes Selfish fucking twat',\n",
       " 'hahaha today group Argentine veterans Falklands war beat crap senator peronist party party power right using political purposes The people Argentina getting tired show politicians distract Argentine population far important problems',\n",
       " 'We afford HAVE afford Marco',\n",
       " 'Hey moron buttons1994 Kerry able bully Obama like Romney bullied gay boy prep school physically assaulting himnnBut clown Romney able bully Obama debate either wash',\n",
       " 'like matters waiting next yearI still living playoffssuck loser',\n",
       " 'Should hung country monsters lurk among us',\n",
       " 'Childerzxa0xa0koosh12684xa0xa0jwoude23xa0xa0welfarecheesexa0xa0SDLxa0xa0Nonstopdrivelxa0nxa0nRight As long open honest come conclusions I could give shit disagree',\n",
       " 'pecking death gives ugly runs',\n",
       " 'Blaine Jungwirth definitely thought deserved 2 hey I takes I gets',\n",
       " 'I trend I iPod touch',\n",
       " \"This JOINT back daynnAnd I one thought Gregory looked like could Philip Michael Thomas ' brother LOL\",\n",
       " 'How old u 12 nnKnicks fan BEEYATCHnnNot Melo ball licker',\n",
       " 'Anything better Grover Norquist Tea party Wall Street corporatist GOP',\n",
       " 'BITCH NIGGA YOU NEED AN EYE EXAM AND EYE GLASSES CASSIE ONE OF THE FINEST WOMEN ON EARTH',\n",
       " 'Are attempting kinky herexa0 You kind fetish',\n",
       " \"You get gold starThe best post I seen monthsHilariousGreat jobCanadianPS I think need come hereI 'll sponsor\",\n",
       " 'How old',\n",
       " 'Nothing worse idi0t smugs Gay',\n",
       " 'child rapist NY You admitted MANY times sick fuck You room talk',\n",
       " 'JO xa0 The man genius',\n",
       " 'Anti American piece ofshit',\n",
       " 'Have sipping th e sacramental wine againnnYou really dense little dude',\n",
       " 'Yes remember government listening views owner WongannWonga loan businessxa0money astonomical rates',\n",
       " 'The tirade people caused people dislike Read comments Like one I know story husband We stories I mean I almost died Venus struggling So know life nnShe comes across uncaring selfish On top never gives opponent creditit always SHE didnnI absolutely like Venusconsistently root yearsbut Serena absolutely awful person needs grow',\n",
       " 'Stacy C right Dumbama fatass wife cronies created atmosphere govt interference feel govt entities doingxc2xa0 Schools others take cues top see admin forcing restaurants publish calories menus feel part messiah become food policexc2xa0 I believe school puts approved food listxc2xa0xc2xa0I would suingxc2xa0',\n",
       " 'GALLUP DAILYnMay 2426 2012 u2013 Updates daily 1 pm ET reflects oneday changenNo updates Monday May 28 next update Tuesday May 29nObama Approval48nObama Disapproval451nPRESIDENTIAL ELECTIONnObama47nRomney45n7day rolling averagenn It seems bump Romney got president game',\n",
       " 'This someone whose selfimportance got best If anyone fired would Tate This kind behavior inexcusable unbecoming man holds futures many employees hand',\n",
       " 'stand porch',\n",
       " 'camp got come get guy earn money',\n",
       " 'You could wrong The American Tea Party stands limited government Fiscal responsibility return constitution The Tea Party rallies protests legally brains We pay permits arrange events say piece clean go home The occupukes hand Are different opposite They trespass steal show without permission They damage private property collect urine feces throw people They set fires smash store windows They rape young girls I go Oh heat AC warm beds paid people kid committed cause stupid like OWS There right way wrong way things You occupunks choosen later',\n",
       " 'Because get rocks Our government run pedophiles sexually torture children',\n",
       " 'He actually said spoiled bitch I amxa0 I never hated Colton way posters I felt himxa0 Being gay republican family mean villifiedxa0 He dismayed men vs women took away comfort zone may hadxa0 The men welcome got power went spoiled bitch head',\n",
       " 'With inbreeds longest running malcontents',\n",
       " \"Quote Teresa May That trying deport Jordan home country TRYING Since Sovereign problems TRYING deport diseased minded scum like Stuff EU laws UK 'fined ' EUSSR pay stop financial payments corrupt experiment It work broke listen PEOPLE Camoron referendum NOW\",\n",
       " \"nilbymouth nnYou right concerning Campbell My bad The QB carosel mixed Anyways I still like Knapp think went road need revisit Cable obviously think high stripped playcalling duties decided call plays If Knapp truely great would positive influence team quarterbacks opinion didn'tCarson Palmer needs guy like Saunders whose offensive connection undeniable\",\n",
       " 'I like comment makes feel better',\n",
       " 'Why Obama go Wisconsin urge Republicans abandon America form austerity',\n",
       " 'If deleted post I wold surely banned flaming Joe',\n",
       " 'What hell talking',\n",
       " 'people dancing drinking fun clubs miaminnLife good miami Heat lets get drunknnHeat fans',\n",
       " \"This American Load utter 'positive people makes positive lives ' fake christian bullshitxa0nnPut way take 2 exampleGive complaining This reads like 'become walk ' If gave complaining nothing great would get done crap would accepted Go hairdressers get shit haircut 100 complain happy pissedoff shit haircut person taken ridexa0Give luxury criticism For start luxury You critical want I believe trait I enjoy Why Many people idiots truth If job criticise people crap work officeworkplace full people jobThese basic personality traits intelligent people But I guess retards happier us\",\n",
       " 'one favorite commenters',\n",
       " 'dude looks NOTHING like fagbox It looks towards PlayStationmeetsAlienware console It already proven modern consoles continually progress towards PC So please take yourxa0idiotically painful commentsxa0elsewhere',\n",
       " 'Howe feel Freedom Leech parasite',\n",
       " \"And arseanal fans silently weep hankiesnnThere 's nothing see fellas free man still Spurs managernn nnUNLUCKY\",\n",
       " 'Yes comedy life',\n",
       " 'Moron Latinos becoming large voting block dismissed like blacks gay women minoritiesnYou need majority win whites buy crap',\n",
       " 'When Is Bush going asked campaign Romney When I buy dinner I wonder Bush NOT wantednnThe BETTER question SITTING PRESIDENT LIKE OBAMA IS NOT WANTEDnnNotice 7 fundraisers weekend vote around WIsc NEVER stopped WISCnnNotice NO ONE wants help campaigning',\n",
       " 'wait till raptor grabs mid airbad days man',\n",
       " 'Have ever given props least dissed thread I fan movies either mean I start talking shit every fucking post',\n",
       " 'bigoother That dynamic clear since teabaggers threw first tantrum January 2009 Rush declared wanted president failnn nnThey want economy suck They NEED economy suck This explains otherwise puzzling legislative choices past three years',\n",
       " 'You stuck stupid obviouslygive break votenmoron',\n",
       " \"This man 's drunk fuck drugs male prostitute\",\n",
       " 'told thatstupid ask kick daughter house age 16when comes protecting weaman guys last ppl earth open mounths',\n",
       " 'LetsGoWestxa0try big 100nthey dope',\n",
       " 'Ight ima get mr Army man fuck I family fighting battle field right atleast 20 members juggalos Just like little ick sucking divk whipped bitch If time sit talk shit family obviously job fighting country busy trying start another world war juggalo family shut fuck grow pair pussy',\n",
       " 'You correctthe red sox worst team',\n",
       " 'Headlines going months Mark WRIGHT reject back home',\n",
       " 'watch game morning watched sky see fuss say times football fans put loyalty respective clubs aside ballotelli disgrace wont admit deliberate place football amazed banned',\n",
       " 'Are retarded You think Iraq Afghan avenging deaths Lol get checked buddy even bush would laugh younnThere reason proud India cuz like US Israel go war drop hat long run even proving costly themxa0nnSo wake We talking Music War dumb moron',\n",
       " \"No matter great body looks there'sxa0something pathetic desperate trashyxa0about woman old acting like\",\n",
       " 'piiisii apparently knows nothing cold factsnnRepublican Trolls make us sick non factual crapnnYou cry 2016 lies mean nothing intelligent people',\n",
       " 'The bad part story dumb redneck Republicans like yourselfnnNot sure folks sociopaths like though probably downgrade',\n",
       " 'You stupid yesterday',\n",
       " 'I may never see light day againHe NEVER see light day Twisted beyond belief You could dog let alone another human',\n",
       " 'There lot morons posting site class',\n",
       " 'You Moron',\n",
       " 'How fuck Orange Beef Orange chicken',\n",
       " 'suck dick yeaah babby pussy',\n",
       " 'Autumn You Idiot nnRed Flag 102 Girls No sense Humor',\n",
       " 'Eli MAnning Brett Favre John Elway',\n",
       " 'sleep could probably force reasonable judge would take tattoo permission date rape stamp',\n",
       " 'Holder Obama hit back directions 1000 times hard Dozens inside DOJ WH dignity patriotism turn like rabid dogs This administration goind right federal prison Nothing stop Nothing The people pissed headsnnHolder Peice ShitnnObama Fucked Up Sociopath',\n",
       " 'SO IS A SKUNK HALF BLACK AND HALF WHITE AND THEY BOTH STINK WHY DO B L A C K PEOPLE STINK SO BLIND PEOPLE CAN H A T EnTHEM TOO LOL',\n",
       " 'I wonder would stand court He might killed someone fuck play cricket He prick',\n",
       " \"The PG proposal list people committed crimes gun Not way register guns one elsexa0disturbedxa0by idea government maintaining lists people like Cue 'you know else lists people like jokes 32\",\n",
       " 'David Cyberduckie You know stick screw driver mouth bang fillings might able pick Easy Listening channel',\n",
       " 'nobody',\n",
       " 'The Korem foundation never see another dollar',\n",
       " 'I reason registering maybe needs time',\n",
       " 'I could effective ineffective Huff',\n",
       " 'Yo nigga right n boi lil b fuck bitches regular fucking everyone bitches tell yo boys yo bitches aint safe Mel Gibson n Lil B rollin bitch hunt',\n",
       " 'oh hey I yousaidit like',\n",
       " 'xc2xa0It means world changing means world already nchanged Steven Goldstein chairman gay rights group Garden nState Equalityxc2xa0 BUT right right wrong still wrong',\n",
       " 'OMG Are VS Girl alsonnDid hit semi annual sale I went fucking crazy',\n",
       " 'You incredibly stupid',\n",
       " 'SlipResistantShoesxa0In years make damn movie itnxa0nUncle Daddy Rides Again',\n",
       " 'I like aggie',\n",
       " 'obamawon due media jobs still know nothing obama almost 4 years later',\n",
       " 'God bless may live long fruitful life spread wisdom',\n",
       " \"HA I glad Pena 's girl know really wants play Red Sox Boston went Northeastern got cut sox terrible haha You zero valid points\",\n",
       " \"I moderate I fiscally conservative moderate social issues The Republican Party longer party Goldwater Teddy Rooseveltxc2xa0 even Reagan The GOP party Jerry Falwell Tony Perkins people like Michelle Bachmann nBecause I gay find place GOP I voted Obama '08 nHowever year Ixc2xa0am considering voting Romney year nRepublicans better hope Romney gets nomination Santorum would handing election Obama Santorum isxc2xa0SCARY conservative He wants government peoples ' business I would surprised Presidentxc2xa0Santorum created Morality PolicenI believe majority Americans moderate country needs moderate I tired us swinging extreme left extreme right back\",\n",
       " 'Why Because smell like dog poo stupid like dog poo made outta poo',\n",
       " 'The Democrats would sell young job seekers handful illegal votes 50 cent tomato',\n",
       " 'pass grass pass rainbows wings',\n",
       " 'You would know failed policy sent neighbors poorhouse',\n",
       " 'But Jack Raleigh done He came back bit furious grammatical geniusnHoly hell Jack Calm downnnGOD DMN HILARIOUSnnWho writes material GraziD nnMM never even acknowledged well accept Uber ticked GraziD interacts us calls dumb dumb right beeaner',\n",
       " 'Maybe Republicans use filibusters Union votes grind decisions haltnn60 probably enough win elections',\n",
       " 'DantmnoBjustRyan funny thing happened way forum optimists happy notice',\n",
       " 'yeah I pathetic idiot going around trolling teams pages Why get fing life little sh1thead',\n",
       " 'Ron Paul could start third party tomorrow suck large percentage Democrats Republicans Libertarians Independents You think Ross Perot bad Ron Paul might even challenge win running 3rd Party candidate',\n",
       " 'We tell mugshots Pinky Brainlol',\n",
       " 'ugly bitch go prostitute dat buy big enough pant bottom cover gigantic ass',\n",
       " 'If want lick Jewish ass go Jerusalem stop using country Israelfirst traitor',\n",
       " 'Agreed come proclaim useless point CNN community Parasites nothing else better trying make valid point towho',\n",
       " 'SDL Unless happened chance',\n",
       " 'Are edgetriggered leveltriggered',\n",
       " 'Nice smellinger spelling sphincter',\n",
       " 'How knownnBesides says everyone Moral Standards based Gardener',\n",
       " 'Too bad would anything gay American citizens found 49 states',\n",
       " \"Mr Cagape things listed true tip icebergnI 've Hong Kong two years longer I stay I hate place xc2xa0It 's horribly crowded leads plenty rude people deathly polluted air xc2xa0It 's ridiculously expensive even nicer expensive restaurants always booked services shit xc2xa0It 's superficial want nice person always get taken advantage unless dress way says I rich forehead xc2xa0Even rich like Chinese mainlanders rush city weekend shopping spree still get treated like shit xc2xa0I get people love Hong Kong much xc2xa0It may look civil outside inside rotten core xc2xa0It 's capitalism may say I see US I even see China mainland contrary argue much capitalist xc2xa0Living make rich makes pull OT everyday put selfish rude people everywhere pay ridiculously high rent tiny apartment every month xc2xa0If I live another two years I become bitter I might fit\",\n",
       " 'Yeah I know I troll purpose I still always known JSKop I change account every days I awesome like I troll one day next taken seriously everyone',\n",
       " \"You including son deserve slow painful miserable deathnnThat 's Zimmerman stands ground\",\n",
       " 'If wrap computer foil stop taking posts',\n",
       " 'ugly would complain',\n",
       " \"Operation DICSnn'Distract Investors Crashing Stock '\",\n",
       " 'Actually Packer still rights Jolly',\n",
       " 'From computer website',\n",
       " 'This I wore recent wedding I attended daytime black tie optional affairxa0httpiimgurcompmQKnjpg I think I looked glamorous fuck',\n",
       " 'Pig noesed talent jack This guy get worst actor award every year',\n",
       " 'And last day upon us Will I lucky one Doubt still sexy piece hardware',\n",
       " \"Uhif autopsy plus exam girl prove WAS raping daughter caught redhanded fall category innocent proven guilty If would thing father 's shoes children\",\n",
       " 'come Sweeney show us man',\n",
       " \"Its going difficult lose weight 7 days Honestly weight lose going water maybe little bit muscle fat careful calories You also certain gain back get diet I would recommend take slow easy see longterm benefits nn nnI 've personally lost 180lbs since Dec 2009 My blood pressure 160110 12080 My cholesterol 256 mgdL 176mgdL I longer PreDiabetic I best shape life It easy I say everyone right programnn nnIf interested story please head Zdietsnetnn nnCheersnn nnRyan E Parker\",\n",
       " 'pussy ass punk',\n",
       " 'Apparently Hickson said take min play LeBron Good bench player Heat',\n",
       " 'Simply terriblexa0 Cop fired',\n",
       " 'sorry robin however I guarantee story average person would getting much attention sorry offensive tough shit truth know',\n",
       " 'hahaatleast get insults straight idiot',\n",
       " \"O ' Neil nnHold ground admit tonsomething satisfy outward AGENDA whonwant conform international racing profit Yesnyou violations many trainers BUT thencenter attention right NO BETTER PERSON TO ATTACK Younlive faulty generation caught personal transference ofnwrongdoing general public focused lack commitment tonthemselves family countrynnDoug look around see whatnthe present day ideology done country NOW want YOUnto become part agenda sports world DOnIT The people around know really nforget deadbeats press benashamed lack responsibility people thisncountry Focus winning Triple Crown YOUR WAY You'vencome far stay way Good Luck u201cTRUEu201dnfans support others want makenof\",\n",
       " 'Hey Cameren I met crazy number call maybe',\n",
       " 'I stand corrected memphis series beat heat 6 yr okc swept mavs due player improvement',\n",
       " 'The guy idiot sticks dick around without protection',\n",
       " 'Oh please spare us fantasies',\n",
       " \"Well Generally I consider someone tramp I desire look sex picturesnnWhat 's excuse\",\n",
       " 'I still dont see half niggas click every video post wshh hate If wack fuck even click video BASED',\n",
       " 'bet white devil cracker',\n",
       " 'A Combination drunk welcome crazy streak',\n",
       " 'Yep means would find another cash cow suck teats ofNothing leach give',\n",
       " 'Sounds like medical condition',\n",
       " 'You human garbage',\n",
       " 'I dont know high chance definitely chance',\n",
       " 'Your little girl probably look like lol',\n",
       " \"hockeybellexa0he wrecked physically right xa0THere 's definitely something wrong xa0You really use lazy excuse anymore pretty great playoffs\",\n",
       " 'leave fanaticism morons like criminal',\n",
       " 'Can address die come pay respects urinate urn flush',\n",
       " 'If could rectum right',\n",
       " \"LOLand told go suck man child messiah 's big toennnLOL\",\n",
       " 'Finally Where past years Phils played hurt 2010 2011',\n",
       " 'That takes strength father story would ever know Much respect',\n",
       " 'punished way obiously SAS make untouchable unquotenn nn nnHe punished plus get done armyin Forces get done twiceonce civil courts military justice I may use terms together guilty proven even guilty',\n",
       " \"dcjohn heard white folks good ole louisiana speak turn backs tell one location born mostly come state also sound like friends hills thing ignorant uneducated unusual accentblacks speak languages depending Queen 's english french gullah islander spanish blacks adaptible groups closed knit bunch\",\n",
       " 'More people cunt',\n",
       " 'TabbynJHaynCutchnEl ToronPgh KidnGFJnHit CollectornCBnGround Chuck',\n",
       " 'I think clearly displays lack rational thought truly believe',\n",
       " 'No concept sitting butt waiting hand',\n",
       " 'FACT YOU ARE A MORON',\n",
       " 'Just like media ventured compare MAnu Kobe',\n",
       " 'U dad already ashamed u cuz dnt know u really son cuz mom sucking fucking crew back da dayslmaonow u grew hate black men wit money cuz u know dsts mom looking forloltell I pass dat ass cuz got many miles howeva give slow headlollollol',\n",
       " 'They historically completed unable get REAL THREAT road going pick low hanging fruit Inept lawmakers Inept politicians And sheeple police going LOVE enforcing new law They enforce laws matter I guess need new ones',\n",
       " 'My little brother friend running around making fart noises quoting The Lorax I fucking clue going',\n",
       " 'careful picking For price could easily Admiral Ackbar',\n",
       " 'I guess coverage IDIOTIC YOU especially anointing boy champion day one Open xa0 Tht I dearly love SYCOPHANTS waysALL THE TIMExa0 Crawl back rock CRAPI',\n",
       " 'The guys cutting tree said would cut another tree carton beer Haha typical tradesmen',\n",
       " 'funny tonight',\n",
       " 'Its Black Goo fucked Space Jockeys causes xenomorphs xa0Thats similar Giger bodies xa0 doesnt need two crazy coincidences set prometheus xenomorphs alien xenomorphs',\n",
       " 'cortez u callin niggas soft u look soft hell nigga',\n",
       " 'Man I see celtics claim classy',\n",
       " 'How trolling Obama pay Pretty well What No pay idiot breed',\n",
       " 'And Dee typical leftist idio',\n",
       " 'Jolie qurl Excited hell see movie Too bad 2 years away fuck',\n",
       " 'You child',\n",
       " \"Libero ha per vicedirettore un signore che ha pubblicato l'audio di una telefonata PRIVATA con un parlamentare Crosetto Libero fa campagne contro le intercettazioni e poi pubblica telefonate PRIVATE quel testa di C xe8 andato Milano diceva Crosetto del suo boss Il DIRETTORE di Libero si xe8 fatto un attentato da solo forse xe8 stata la guardia del corpo recidiva Pansa Il megagiornalista su Libero ha scritto e mai smentito che ENRICO BERLINGUER ha telefonato Curzi per raccomandare la figlia nel 1991 Da MORTO Questo xe8 libero Che si prendano Freda\",\n",
       " \"Hang Eduardo home address 'll come forcefully kick nyour door take house try kick 'll nseriously physically harm pointed right selfn defence I hope realise retarded argument truely\",\n",
       " \"blockquote Little girl YOU people make statement How dare feministmisogynist bullshitnnnOh toots anytime want try anf follow 21000 footn mountain 64 degrees North Latitude whine bitch complain orn get cramps go ahead sign nnnYou nypocrtical piece shit And anytime sweetheart Anyplacen planet You think bteer pain threshold abilityn follow along footsteps raise delicate little nhand The first whine oir moan youy field I willn dozen cameras make sure world knows whimpyn little hypocrite arennnPussyblockquotennFuck younnDo n't call tootsnnI 'm disabled follow mountain ANY sizennI also deal CHRONIC FUCKING PAIN DAY IN DAY OUTnnMeow meow fuckstain\",\n",
       " 'I watch brain numbing Eastenders always thing Nicola StapletonI would',\n",
       " 'xc2xa0HA HA Ford blow away',\n",
       " 'tlgiguere I remember first seeing mike board james finding plaed joker batman reviews bugs bunny awesome stuff I actually saying I would like see While I miss seeing James making movie understandable Just think boring would around WITHOUT mike right I glad stepped help',\n",
       " 'WHAT PART OF GO BACK TOO SCHOOL AND LEARN HOW TO STRING A PROPER LEGABLE SENTANCE TOGETHER DID YOU NOT UNDERSTAND DO YOU NEED A FUCKING DIAGRAMnnIt obviouse women havent learnt anything go baack bottom came make sense nnJUST A WASTE OF SERVER SPACE SAME AS ALL WOMEN I DOUBT EVEN HUGE BLACK COCK IN YOUR FILTHY HOLE WOULD SHUT YOU UP MORON',\n",
       " 'Ok I sorry idiots still around I white stand racsit pigs If stand around races cultres get lost If beat people color shot Now want stretch road Yeah someone color needs To go road beaten shot different color I wish I stuff get away',\n",
       " 'The comments twitter shows embarrass Tyler If intent would stupid idiot move We legally adults time go college unless major genious time start thinking like one',\n",
       " 'WHAT THE FUCK SUN WHY ARE YOU NOT POSTING MY COMMENTS ILL TELL YOU WHAT I WONT FUCKING BOTHER WRITING MY OPINIONS THEN ILL JUST FUCKING SAY NICE THINGS ABOUT ALL THESE SYSTEM ABUSING SCUM BAGS SHALL IDECENT',\n",
       " 'Mine So I assume time nnMost time correct assumptions',\n",
       " 'Joyce RF Zobrist 2B Rhymes playing',\n",
       " \"I actually think 1 'sophisticated ' outfits seen lol I used like years ago went downhill opinion go low possible get frozen face papers I would like know 'katie price ' fans makes millions certainly no1 know admits liking\",\n",
       " 'Flagged real dick',\n",
       " 'I Made JokeA Joke get A pun color willnYou need Relax Look Pic I white guy calling white coaches dumbIf cant get must 10 yo',\n",
       " 'Here explaining tried killed propaganda purposesnnhttpswwwyoutubecomwatchvNXeXl1SDU8cfeatureplcp',\n",
       " 'Brown dognnRemember thought crowds gather streets Greece Spain France Quebec Canada etc etc etc It dynamic occur US already occurring people want rights real culprits financial disasters held accountable',\n",
       " 'Dude calm fuck stop yelling anyone disagrees',\n",
       " \"sounds likexc2xa0Venezuelaah road banana republic emperor clothes minions media insanely keeps insisting nakednand right wrongnnThe prince world John 1213 xc2xa0is master false systems xc2xa0He crafts entire schools thought suck us destroy usHe 's behind false religions falsexc2xa0philosophies false doctrine false morality everyxc2xa0systemxc2xa0of lead anyone God xc2xa0He infiltrated governments economiesxc2xa0educationalxc2xa0institutions anything influence world xc2xa0The conclusion John came sobering xc2xa0The whole world lies power evil oneJohn 519nn'The Invisible War ' Chip Ingram\",\n",
       " 'Sorry I hate one people exist haha I posted juts minutes ago old thread I wanted move bit mindblowingnnFrom letter Tiger WoodsnThe world seems business Ixe2x80x99m sorry I really What happens life car marriage public issue Unfortunately public figure sometimes private life become public I guess comes territory maybe youxe2x80x99re used It still must bite thoughOf course I long mistakes Tiger If arenxe2x80x99t already I hope man pain caused wife family Let hot searing anger change harden It must hard road walk dealing done making sense go public eye way Stand behind actions way fully admitting acknowledging Donxe2x80x99t lie pretend arenxe2x80x99t bad others think somehow justified You werenxe2x80x99t You reaping sowed Tiger Own But see whether acknowledge publicly fans entirely It makes difference public apologies detailed For us need apologizing Because well known make accountable public Share want keep rest private Keep private But I speak painful experience coming entirely clean feel good Really goodnnTonight I praying restoration marriage Having almost lost mine sin pride well husband I hold redemption marriage high regardBut advice someone Donxe2x80x99t hide Own Embrace Learn Change ways Feel repentance Apologize wife Seek counseling lots Let searing pain guilt remorse hopefully feel inspire see A wretched sinner need forgivenessnnYou heart wife children matter Focus saving marriage want And truly husband I pray want donn',\n",
       " 'Cant wait guy amazing',\n",
       " \"thebaskettxa0nCool xa0How fuck grade Vikes ' draft\",\n",
       " 'George StephanopoulosnnIs son Greek Orthodox Priest ClevelandnnIm sure father proud son becoming lacky supporting Obama administration nnGeorge licking boots democrats years nnI guess gene pool comes great economic power Greece nThey truly economic geniusesnnjail good himn',\n",
       " 'It looks teabaggers going pull stops 2012',\n",
       " 'I want But yet Been since I said iPhone app',\n",
       " '72913781 post del thiagonhttpprofileakfbcdnnethprofileakash2276507199950953390996326587njpg',\n",
       " \"xc2xa0You 're female gay\",\n",
       " 'Keep money away Kenny Over xc2xa3110 million spent 7th league ROFL',\n",
       " 'Mama Manzo evil MUST stopped',\n",
       " 'calling others stupid gay piece shit check spelling username seems forgot complete spelling Dildo Dildo ur extremely gay',\n",
       " 'Doremus Jessup 20 Little bastard shot ass The Waco Kid',\n",
       " 'suck dick pussy ass nigga bitch',\n",
       " 'hey rynthih95 hell r xa0u speaking sachin nshut u fucking ass midfing',\n",
       " 'Soooo saying YOU bully sound like one nownnWith name like klanman must member KKKnnAfter looking profile reading posts seem vile pathetic loser full hate xc2xa0Your mother must real proud',\n",
       " 'It never going last AshtonnI really hope makes full recovery beautiful fiesty confident seems really likeable You know Bruce every step way sad see like got bored marriage He married woman approaching 50 knew different would He done knew last',\n",
       " 'Celebrity Big Brother IS mistake',\n",
       " 'Im man u fan I think de gea flop 4 paid 4 He made couple good saves nOther lacks confidence look ready 4 prem nI think man u need another goalie next couple years se gea get worse',\n",
       " \"hey jurbinsky mom 's pile garbage shut\",\n",
       " 'aside tend run doctor time My wife sees doctor least 3 4 times year Last time I saw doctor I broke hand 27 years ago',\n",
       " 'You really fool',\n",
       " 'I one And I snagged black white maxi skirt target last week comfy Where get dress',\n",
       " 'HOLD Holder GITMO comes clean',\n",
       " 'Yea damn Shriners little cars',\n",
       " 'DantmnoBjustRyan protesting thing',\n",
       " 'I want tell every parents plz let daughter son marry love specially parents girl child must think thatxa0forcefully marry daughter someone stranger like giving daughter axa0rapist becausexa0definitionxa0of rape making sex one without mental physical permission Plz stop forcefully marring daughter otherwise sin',\n",
       " 'go back sucking neighbors dogs dick',\n",
       " 'atvcarxa0 Nobody likes messenger',\n",
       " \"Sheeps Ballsxa0Are rebrandingxa0Sheep 's Bollocks Poverty quite mouthfull Did see I\",\n",
       " 'shut fuck',\n",
       " 'You take money represent child molester hold nosexa0 You try look like enjoying',\n",
       " 'Great Pin Bea This photo tells story',\n",
       " \"Islam Vs Judaism xa0nIn 2007xa0Islam Judaism 's holiest holidays overlapped 10 daysnMuslims racked 397 dead bodies 94xa0terror attacksxa0across 10xa0ncountries time Jewsxa0workedxa0on 159th Nobel Prize\",\n",
       " 'really would better prepared whole law trashed pack bags leaving white house come jan good heII ridence commy marxist bastard',\n",
       " 'Hey right winger just4thefax immigration wedge issue POLICY issuennGet clue moron',\n",
       " 'brilliant comeback blowhard even though know died brainxa0aneurysmnnwould like show link story act like know racist inbred trashnnSLAVER TO YOUR FACE',\n",
       " \"IN THE LIAR 'S OWN WORDSnnnnnFlashback 2007 Obama attacked trying u2018to hide behindnexecutive privilegeu2019 nnCNNu2019S LARRY KING u201cDo favor executive privilege Karl Rove andnothers like position forced testify House SenatennnnOBAMAnu201cWell know I think weu2019ll u2014 weu2019ll determine next several weeksnhow administration responds appropriate call Patrick Leahynthe chairman Judiciary Committee individuals come andntestify You know thereu2019s tendency part administrationnto u2014 try hide behind executive privilege every time thereu2019s somethingna little shaky thatu2019s taking place And I think know administrationnwould best served coming clean There doesnu2019t seem anynnational security issues involved US attorney question Therendoesnu2019t seem justification offering clear plausiblenrationale u2014 US attorneys targeted allnassessments outstanding job I think American peoplendeserve know going thereu201d\",\n",
       " 'YinzerinCTxa0Gangs Connecticutnxa0nSolid movie',\n",
       " 'dumb opinion dumb holding',\n",
       " 'OK xc2xa0is fine He still likes suck pinky toesxc2xa0',\n",
       " 'This Obama slandered GHW anxa0nExecutivexa0Privilegenclaim',\n",
       " 'dony fuck',\n",
       " 'AleisterHyde The catchphrase refers size force easy understandxa0 unless idiot',\n",
       " 'bad usually pretty relevant',\n",
       " 'So send guy blow tree leg Geniuses',\n",
       " \"NotBornEveryMin 'Micah Carter Which sock I supposed reply\",\n",
       " \"The cleverest comment I seen long time I think Mailnn nn'Arshavin worst Russian Sub since Kursk\",\n",
       " 'Looks like Ed Malloy calling foul Ray playing D picture Classic',\n",
       " 'looks like guys extended BP Mariners got BarnDuty younsay job remember ya kindlynnas I always say feel good luck Texas',\n",
       " 'mother fuckerof dogs prove bark like dog',\n",
       " 'This article porn women Seriously think one main things woman find disappointing marriagerelationship man You good person lucky wife',\n",
       " 'Democrats believe government take care republicans feel get lazy ass make something',\n",
       " 'You offensive stupid',\n",
       " \"egoistic dimwitted cunt fail life drag others '\",\n",
       " 'I sure dumbasses like trolling full force next PresidentRomney What boyhollow meanor want know',\n",
       " \"You funny xc2xa0Direct financing shady indirect loan xc2xa0Both cost taxpayer money xc2xa0Do n't say guarantee ended paying guarantee xc2xa0Name part constitution says federal government take money give businesses xc2xa0Of course know would blow gasket took money something useful spending Lockheed Haliburton\",\n",
       " 'What fuck Kane loses Has match since going back wearing mask',\n",
       " 'fail mother Marinesomeone grab emptyxa0head give killer bone crushing skull fucking front father',\n",
       " 'Took girlfriend see itxa0nnShe told stop jumping like bitch',\n",
       " 'First nondrinker I nondrinker I 1000 law There idiots city licenses cut half even drink I friends careful drivers clean records noclaim insurance histories whos civil liberties stripped away people like letting happen Good But Redford stopping When YOUR rights stripped away changing tune pretty much instantly',\n",
       " 'another hot button election smoke screan The realalty WHO CARESxc2xa0 The gay comminity allowed difficultries rest us go throughtxc2xa0xc2xa0 I agree Christie put ballot public vote onxc2xa0 This way repubs dems take ownership thisxc2xa0xc2xa0 really cares',\n",
       " \"The comments sad story proves smart people great nation Kenya US ally years including W Bush 's administration If crash act terror would first time Kenyans faced acts terror due alliance US Remember US embassy terror bombings late 1990 's By way Kenya 80 Christian people starving death somehow believe Kenyans terrorist trying destroy America Obama 's father Kenyan Get education posting smart comments nation smart posters obviously know nothing My heart goes good people Kenya tragic event\",\n",
       " 'fuck judgesbetter stop boxing events',\n",
       " 'bleeping idiot',\n",
       " 'bum',\n",
       " '21st Century England qualified',\n",
       " 'tard',\n",
       " 'I even mad I expect kind drivel easier ripholes xa0in 12xa0thought outxa0theorem take seriously',\n",
       " 'Yeah like I would let last say loser nnAnd BTW bad stalker I give phuck pitbulls D',\n",
       " 'I think forgot scored 9 runs yesterday',\n",
       " 'BudweiserB11nshut ignorant fool poland ruled half russia real times history guns weapons even heard Im sick ignorant idiots trying take shot history ing losernnnWho responding And I know talking Byliu015bmy potu0119gu0105 z Husariu0105',\n",
       " 'Sling term liberal around little people might actually begin believe prolife democrat',\n",
       " 'yes dick hardxa0 right nowxa0 jacked pretended someone else knew',\n",
       " 'Where getting information',\n",
       " 'Be careful say Your comment approved unelected hypocrites Washington',\n",
       " 'You stupid',\n",
       " 'I liked Cersei arc book 4 rest fairly forgettable',\n",
       " 'whatever reason I nervous I confidence play WELL Win LoseGO OKC',\n",
       " 'You fucking retardbefore shit like consider person got violated privacygo fucking hell',\n",
       " 'Conservatives social leeches scum earth',\n",
       " 'Iran already done proxy You idea brutal regime',\n",
       " 'Joe Paterno let accused Pedophile roam campuses freewhen Sandusky charged 1998Paterno simply let retireand college NATION try recruit Sandusky Because KNEW dirty filthy pedophileyet Paterno continue befriend himeven letting use locker roomsso thatanother boy could ANAL RAPED locker rooms Penn StateAsk yourselfwhy would Paterno even CONSIDER letting Man friend notback campus accused Pedophile Unless Paterno care Paterno much blamewas stupid decision let man back campus DA investigating continuing investigate Sandusky 2005 DA went missing presumed DEAD oh laptop hard drive destroyed toocan say cover',\n",
       " 'like dbz better opinion counts',\n",
       " 'What Hinckley called fudging He knew right knew would look admit',\n",
       " 'waiting foerever',\n",
       " \"book tracks Art Rooney 's path bootlegging gamling NFLI point illustrate money time make perceived deficiencies evaporate\",\n",
       " 'But Bellinski Jewish Feigle',\n",
       " 'Stopped caring penis size became apparent person I please myselfnnIf dick gets wet matter good time Yes small penis turned inconsiderate dick either crying like school girl day',\n",
       " 'wish fat could dance',\n",
       " 'I still think Fabian Solutions inhouse creation provoke posts I believe human even fifth form Leftist could mollusc',\n",
       " 'Attention women If followedstalked late night stalker starts confrontation fight back start beat heII stalker pull gun shoo Then claim self defense',\n",
       " 'Are stebbers',\n",
       " 'daredevil241xa0xa0tomislavgrujicxa0yea well make sure punch right hand otherwise might authentic enough',\n",
       " 'I replies end together original comments',\n",
       " 'We creating another whole segment society never work extending unemploymentxc2xa0 Who even would hire someone worked 23 yearsxc2xa0 After 23 years people unfit work mentallyxc2xa0 The real hustlers went got job even less used tonnDo people hear roarxc2xa0 Our country rushing towards waterfallxc2xa0 Look happening Greecexc2xa0 What makes mad obuma may able stop us going falls could cushion blow yet thinks getting reelectednnNot much time left us',\n",
       " 'No people like problem world',\n",
       " 'Must really suck black What toxic vile culture',\n",
       " 'You put left foot',\n",
       " 'Hey team 9 games 500 fans think best team team I',\n",
       " \"Yeah nations world legalized gay marriage many cases people wanting marry sheep OH WAIT THEY HAVEN'Txc2xa0 You fail life\",\n",
       " 'HmmmnnYou claim Iranians started war 200 yearsnnYet I clearly recall series seemingly neverending wars Iran Iraq latter part last century started warsnnJust curious',\n",
       " 'Last I checked constitution still said All men created equal even gay ones xc2xa0How would straight folks feel right marry taken away xc2xa0Come xc2xa0Fair fair equality equally xc2xa0xc2xa0Everyone opportunities rest us Just agree lifestyle give anyone fee country right force opinion others xc2xa0We spout freedom treasured ideas yet want limit freedom individuals xc2xa0That make sense xc2xa0If agree gay marriage one xc2xa0But restrict someone else conducting lives wish xc2xa0That kind control communism',\n",
       " 'Big Deal Libturd go crawl back rock',\n",
       " 'Still waiting put money mouth coward',\n",
       " 'Because biblical prophecy speaks two distinct camps emerging within Middle East day know divorce coming twoxc2xa0One camp prophesied led Iran include Syria These two destined play different roles sequence endtime events lead Jesus Christxe2x80x99s Second Coming Syria keystone proIran axis Weakening Assad regime say nothing collapse would blow Iran Hamas Hezbollahxc2xa0 Syrian opposition chief already pledged cut military ties Iran come powerxc2xa0 It God God Abraham Issiac Jacob lining chess pieces feckless government UNn',\n",
       " 'If explained stupid understand Leftist fool',\n",
       " 'He democratic congress first still got nothing done Even Hollywood friends jumping ship',\n",
       " \"matter official count paul gets enough votes go ahead mitt romney enormous could blow romney 's campaign completely water could happen people washington county aware whole world watching\",\n",
       " 'Yes need understand guy sucked taxpayers life till day dies',\n",
       " \"mstoogood4yall wel negro 's TARGET america know bullseye white people target\",\n",
       " 'Oh NO Somebody DELETED comment You KNOW RULE 1 delete 50 REPOSTS Here gon38 Bill O furious Obama getting US involved fuckedup places world You know Internationalist Rubish Murdouchebag signs paycheck funded Internationalist Saudi ROYAL Aldickweed Yeah Bill get teatards stirred US playing MurdouchebagAldickweeds agenda like Bushies Ron Paul right foxtarrds',\n",
       " 'What point switching accountsnJust know software trackednIts useless stupid imbecile',\n",
       " 'make room 3rd roommate Dot',\n",
       " 'Wait republican Senator affair WITH A WOMANxa0 I thought guys hit men public toiletsxa0 Yeesh go figure',\n",
       " 'Do feel less sorry made us realize stupid',\n",
       " 'Honus The Dude Sneed Hihoze Big 12 fans angry',\n",
       " 'Sorry wrong usual',\n",
       " 'Quit yelling tedious old hacknbsp Why care anyway You made mind ages ago things like facts new information nuance matter effing link whore',\n",
       " 'Forreal Black You AHOLE',\n",
       " 'Let BaseGod fuck bith manLet purge Hate',\n",
       " 'SocialMedia411 New Twitter Brand Pages httptcopX2n02qY II Interesting see merchants thought leaders sales people',\n",
       " 'two wordsWHO CARESNeeds sort prepubescent face bless himhas made sign sex offenders register Silly girl',\n",
       " 'bitch fuck A ethugMOTHER FUCKER im A cold hearted SHAOLIN MONKand believe tell THISI WILL HUNT YOU DOWN',\n",
       " \"xc2xa0lmfao hahaha good one russias dated military china 's half stolen technology dont even think kick taiwans ass combines go watch chinese propaganda videos stop killing Tibetansxc2xa0\",\n",
       " 'fucking joke',\n",
       " 'No problem Give money demand put fares cover making plain passengers fare rises fornnThe results interesting',\n",
       " 'Hardly We export arms want legallynnHow ridiculous compare two',\n",
       " 'fucking idiots',\n",
       " 'Probably one good things year Humphries productionHe stayed consistent level last year helpsbut I see starter good team A rotation player yesbut still look resign wants need player',\n",
       " 'httpwwwyoutubecomwatchvdpSU3xH4MJA Moar Green Day',\n",
       " \"henri Your gutter moron lies sprew mean nothing inept lil ' piece garbage one takes seriously get attention lack real life scooter quite pathetic\",\n",
       " 'amazzzzing Give full time job START PAINTING AGAIN1 These remarkable',\n",
       " 'Just like Huff Bochy thinks Theriot player coming WS asset',\n",
       " 'Oh Bimbo T Baggins TV And evil Gandalf RedNosed Snotzi It difficult watch sneering faces Look picture sneering immigrants There doubt mind Sarah MooseMuffins would carpetbomb Mexico President Good thing rule born Hell need IQ past 5 President KKKKKalamity Jane President No way Who wants White House stinks moose droppings offal Plus sneering',\n",
       " 'FAGGOT ARE NOTHING BUT FILTH THE ONLY THING I AGREE WITH THE MUDSLIMES ON STONE THE F I LTHY FAGS TO THE DEATH NUFFFFFF SAIDDDDDDDDDD',\n",
       " \"nyykrg21nn long took works fine like install 'm trouble Siri work I say Hi Sirinn\",\n",
       " \"Jasamoah25nnAnd message give 'terror ' suspects UK soft let stay Oh yes become terrorist Good one\",\n",
       " 'Racist trashxa0 You lowest level humanity',\n",
       " 'Very sorry I mentioned itxa0 Just keep bitching SURE amount nothing',\n",
       " 'If motherfucking communist murderers media education unions hush fact SoeteroDunham foriegn saboteur certainly helpful jackasses',\n",
       " 'WS na fluke',\n",
       " 'No treat someone like pieceofshit think shit stink No one law law right ask person leave property disturbing peace damaging property stealling',\n",
       " \"What ever make 's sleep better night\",\n",
       " 'finished reading breaker truly killed ending nthat disappointing The famous 9dragon got ass whooped nI know I want start reading new waves based reviews',\n",
       " 'Jesus told probably gay love come priest',\n",
       " 'So Letterman fan',\n",
       " \"I long Tuck fan I weas disturbed times asigned two 's Shane GUN IN THIS TEAM youxa0 deseerve accolades youxa0 recieve year You old man 's pedigree I hope see playing many years come\",\n",
       " 'You must talking obama holder',\n",
       " 'Sorry got white ghetto',\n",
       " 'They move risk letting walk nothing',\n",
       " \"except People 's Republic California\",\n",
       " 'I would like see EVERYTHING japan yes everything I dying go japan soon im afraid I dont know japanese Can tell us itinerary hotel reccomend shop couldnt miss japanese culture heheenntwitter rumtumcat',\n",
       " 'He say freestyling WSHH fucked Give young man due credit',\n",
       " 'need kpop friends go kpop concerts eventually meet arena fucking greatest night kpop fan would one care scream ur self xa0 HAHA DREAM CONCERT vs fuck would care im alone HAHA',\n",
       " 'God bless Sir',\n",
       " 'WTF KIM KWANG SOO THATS MOSTLY TARA MONEY U FUCKING LEECH',\n",
       " 'YEAH RIGHT NO ONE SHOULD EVER TRY TO RESIST BEING SENT TO AN UNJUST WAR BY CORRUPT LEADERS EVENTUALLY THEY WILL LEARN THAT WRONG TO DO THAT AND UNTIL THEN WE SHOULD ALL JUST SHUT OUR MOUTHS AND SUPPORT THE TROOPS xa0USA USA USA USA USA',\n",
       " 'dead blow',\n",
       " 'fucking love peanuts',\n",
       " 'You really strange way demonstrating intelligence supposed education',\n",
       " 'When accident become accident question best answered victim misfortune I bet victim happened loved one perception accident would totally different especially know arrogance part motorcade free riders Would situation call idiot',\n",
       " 'Here character mentions let kids watch Colbert Report nhttpwwwyoutubecomwatchvDNvJZCFpdp8',\n",
       " 'LOL I usually care announcers good',\n",
       " \"Amazing Romney 's wealth problem yet care John Kerry 's yacht still parked across boarder avoid taxes\",\n",
       " 'Well guys fun I enjoyed friendship really needed even Royals proved disappointment',\n",
       " 'Geez two sound like gossip circle',\n",
       " 'The Muslim Brotherhood USA hundred years I liken sayThe Masons The Knights Columbus',\n",
       " 'Kan Shi nI working Wayne Travisxa0 My email address dwmatthewyahoocom Would like contact regarding discussion Thanks Dave',\n",
       " 'I like I think blame everything bird droppings flat tires',\n",
       " \"The KKK gotten good cleaning roadsides get many DWI 's\",\n",
       " 'lmao love kakashi keeps stopping yamato comfronting naruto realize something shippuden sasuke',\n",
       " \"Il ponte sullo stretto la maddalena la new town di L'Aquila l'expo 2012 le olimpiadi gli europei e via dicendo\",\n",
       " 'Well say one still true actually lying',\n",
       " 'You change name dumb guy since know nothing',\n",
       " 'Nonstopdrivelxa0nI signed new Centipad program starting',\n",
       " 'commentary piece douchebag Read open stinkhole',\n",
       " 'basically id iot repeats maddow rev al say',\n",
       " 'In pittsburgh pussy ass cops woulda started shooting killed innocent stander North Philly niggas dgaf n der cops soft round nigga put glock head think second blasting face nl99',\n",
       " 'The karma lies ketching',\n",
       " '50 promptly stated going release album first week July without assistance label Regardless promotions marketing going release final LP Interscope And adamant 3 weeks In 3 weeks artists almost ALWAYS least first two singles album tracklisting features production This mother fucker still even fucking TITLE An album allegedly due 3 weeks without single tracklisting producers album art goddamn title Fuck videos 50 If really care hip hop fans like claim would focus fucking album',\n",
       " 'Get brain transplantsee sensegranny',\n",
       " 'Coach P pastert33 I agree Herrera I love way plays ball You realize next year may Jenkins JHC Foster Herrera starting 4',\n",
       " 'ikathyv ever say amazaballs ever',\n",
       " 'Why yelling made bro',\n",
       " 'Weak ass nigga doe You hit weak bitch even defend yoself another strong bitch although awefully big ass strong ass bitch',\n",
       " 'Miamis first excuse airplane homenWe without Bosh',\n",
       " 'left BRO',\n",
       " 'pAccording members Australian community molester end United States Australian community leaders failed report legal authorities Other molesters fled country recently suspicion abuse fell community members say It said frequent American internet site NanabozohrnpThe Forward learned least two suspected molesters Australian Jewish community living United States investigation Australiarnspan stylernrnRead morespannbspspana hrefhttpforwardcomarticles151505childsexabusescandalinaustraliasjewishcommupallixzz1yIC3WHXVhttpforwardcomarticles151505childsexabusescandalinaustraliasjewishcommupallixzz1yIC3WHXVaspan',\n",
       " \"The rogue make empty face understand dog want Free giving try harder pulling Jetro 's sleeve point nose Vlad\",\n",
       " 'Rushedoye si la gente paga 5 euros para probar un juego pues ti que mierda te importann nnasi cuando salga el juego pues los que compramos esa beta opinaremos del juegonn nnya sabes comprar probar dar opinion eso que suele hacer la gente como tu que defendias al Swtor ni tenias beta ni tenias juego ni tenias nada que eres como los politicos te sueltan una charla de 1 hora dice basicamente nada asi eras tu con el Swtornn nnhttpwwwlivefyrecomprofile1744539nn nnmiro ni reviews ni opiniones ni nada eres un troll penoso',\n",
       " 'Manu cleared doctors minor basketball work hand',\n",
       " 'mention LAME BROTHER INLAWS getting',\n",
       " 'I stick tea bag azz',\n",
       " 'disgraceful motherwhy bother baby like new accessories baby',\n",
       " \"I strong woman 'strong black woman ' I everything alone Why think men To get things top shelf open jars I cautious everything I things prevented\",\n",
       " 'describe color gun',\n",
       " 'fuck god',\n",
       " \"Are retarded The family suing hustler want pictures published Try reading story properly accusing family 'cashing ' dead relative\",\n",
       " 'nou0301i hay thxe2u0323t KPop ko u0111au0301ng u0111xeau0309 hxe2m mxf4u0323 nhu01b0 MJ Cou0301 u0103n cou0301 hou0323c nxean fau0301t bixeau0309u cho cou0301 muxf4u0301i tiu0301 u0111i au0323 nhiu0300n lau0323i bau0309n thxe2n tru01b0u01a1u0301c khi nou0301i ra xf4 nhuu0323c Cxc2U CHUYxcau0323N Vu0102N HOu0301A sao chiu0309 bik nhiu0300n mu0103u0323t tixeau cu01b0u0323c vau0300 u0111em ra xiu0309 xou0301 tiu0301ch cu01b0u0323c ko cou0301 sao cxf4ng bu0103u0300ng u0111em u0111xe2u hxeau0301t rxf4u0300i chiu0309 bik u0111em ctxf4i ra xiu0309 xou0301 fan n nhou0301m khau0301c thiu0300 sao VIP Sone nhiu0300u nhou0301m khau0301c nu01b0u0303a hou0323 ko cuxf4u0300g idol hou0323 sao mu01a1u0301i u0111xe2y cou0300n u0111au0323i nhau0323c hxf4u0323i Vixeau0323t Hau0300n giu01a1u0300 lau0323i u0111em ra soi mou0301i nau0303o hou0323 cou0301 chxe2u0301t xau0301m ko vxe2u0323y mau0300 thxf4i cuu0303ng chiu0309 u0111u01b0u0300ng viu0300 xa0CON Sxc2U LAu0300M Rxc2u0300U Nxd4u0300I CANH mau0300 suy nghiu0303 wau0301 nhiu0300u mu0103u0323c kxeau0323 vau0300 pu01a1 nhau u0111i au0323',\n",
       " 'would anything little girl u bastered u dont kno shit',\n",
       " 'Fuck Luther Abel',\n",
       " 'Life motherfucker Lmfao gets every time',\n",
       " 'OMG I feel sorry pitfulnEnough trying converse trailer park formaldehyde damaged brainsnStep outside people',\n",
       " 'Yup obama change hard huh xa0You nbever thought many Americans cared country way xa0True Americans never convert communism punk',\n",
       " 'LesGrossmannPacker fans butt hurt whyn 2 minutes ago',\n",
       " \"You certainly 'right wing ' come youxc2xa0 Way blow coverxc2xa0 Do know Romney 's best quality isxc2xa0 NOT Obamaxc2xa0 For someone lectures gender tolerance sure like bash others ' religionsxc2xa0 I thought I smelled hypocrite midst\",\n",
       " \"UncoolOlga nigga please 'm girl dog jaden mine\",\n",
       " 'Notice crickets chirping response question tidelander The I chase two run away Perhaps idea talking',\n",
       " 'lol morons think im black nope im like boeti think hate racist batards',\n",
       " 'give Billy close',\n",
       " 'Hahahahahahahahaxa0 Hahahahahaha Good one pornoxa0 I used think somewhat like I young Pretty insanehuh',\n",
       " 'Kennedys sure man whores',\n",
       " 'wonderful way',\n",
       " \"Trust bitch awesome cool opinionated strong afraid judged beautiful FOR REAL What see get Not cardboard superficial bullshit hope like type blog entertainment Who puts 'My blog melt face ' still gets laughs votes rnIt 's entertainment expect typical design blogging aka edutainment rnrnI think good I love And I know shit design\",\n",
       " 'go away get dumber day You probably even foegt subject began dumb dumb',\n",
       " \"Actually I read comments DISQUS sonny If moderate Barack conservative And far evidence Obama 's Kenyan birth fake crap Hawaii From OWN lyin ' mouth well fat sow wife pie hole well Moderate mt ass\",\n",
       " 'wow dumb look',\n",
       " 'Rourke needs give fucking likexa0xa0bpalton007xa0nxa0nAdmittedly pretty shitty picture He really small Had Packers jersey though',\n",
       " 'yea right im sure gon na meet M56 tea scones frriendly game foota stanley park taking pics heading respective ends',\n",
       " 'So drinking 14 considered normal nowxa0nnI bet think cool kid ehnnsYour generation fuckeds',\n",
       " 'LOL Why would even bother low rent white trash Mama You remember Forest said Stupid stupid Even Daddy save little girl one',\n",
       " 'Best MMO 2012 xa0It niche however 90 MMO gamers clickers lazy gamers game support clickers lazy crowd',\n",
       " 'pokecheck xa0xa0orby glass 1 ex pen 0',\n",
       " 'Hey EC get email I sent yesterday',\n",
       " 'He guilty ignorant azz He worry anyway never hall fame',\n",
       " 'ELECTRu03dfC SHOCKxa0ELECTRu03dfC SHOCKxa0ELECTRu03dfC SHOCKxa0nELECTRu03dfC SHOCKxa0ELECTRu03dfC SHOCKxa0ELECTRu03dfC SHOCKxa0nELECTRu03dfC SHOCKxa0ELECTRu03dfC SHOCKxa0ELECTRu03dfC SHOCKxa0nELECTRu03dfC SHOCKxa0ELECTRu03dfC SHOCKxa0ELECTRu03dfC SHOCKxa0nELECTRu03dfC SHOCKxa0ELECTRu03dfC SHOCKxa0ELECTRu03dfC SHOCK',\n",
       " 'forget McCann reason National League broke losing streak',\n",
       " 'How dreadful besmirch reputation beautiful young lady claiming outrageous thing And anyway possibly true doubt already decided bed time',\n",
       " 'In part song autotunenJUST BECUASE A SONG IS UPBEAT DOES NOT MEAN ITS AUTOTUNEDnGET FUCKING EARSnnnSeriously dude I AM THE BEST way autotune itnIt AFFFECTS NO AUTOTUNEnIf beg differ clearly idiot',\n",
       " 'Of course Aybbar one gets outnHe sucks',\n",
       " 'Obama stand vettedxa0 POS sealed recordsxa0 You evenko loser white house really',\n",
       " 'Well lost credibility said student Limbaugh University Now TROLL Nobody cares think say flagged every time post one degrading comments Enjoy lasts',\n",
       " \"man da chocolate nigga CAN NOT SUCK DICK true 's dick would shakin promise dat bruh dam true sooo phyne\",\n",
       " 'seem secret rest us',\n",
       " \"Washington 's state legislature approve samesex marriage Supporters anticipate referendum vote fall attempt repeal law Despite state referendum repeal rights marriage domestic partnership outcome vote uncertain As one states already marriage rights granted domestic partners yesterday 's decision could add basis overturning referendum federal court\",\n",
       " 'To duxburianxa0 Well Eisenhower man behind John Foster Dullus I know thexa0Asian man isxa0 So xa0 Do point make xa0 Do like play picture I D xa0 In duexa0respect duxburian lot posts arexa0puzzling point trying make',\n",
       " 'Please site source considering half americans think gay marraige legal',\n",
       " \"Lawrence O'Douche Rachel Bulldyke Is youxa0xa0 SOOOOOxa0xa0 EXCITING\",\n",
       " 'Oh blow fast',\n",
       " 'PetrsMailbox SidneyCatsby BOOM',\n",
       " 'You bang money Fox News bad Media Matters worse BOTH sides see saints devil Fox News running story amuses muchn',\n",
       " \"citenExactly often daddy rxe4pe Weekly Hourlynnyou easily depressingly buttfked piece shite ever vomit halfassed moronic excuses English language site xa0You think clever grasp colloquialisms sarcasm hilariously pathetic fool Your posts puerile personally value xa0Nobody likes Hxe9ll nobody even itolerates youi If people could recognize street would spit My best guess result unprotected buttsex mother family dog xa0An abomination justifiable reason existnnNow us huge favor bgo fuckyourself chainsawb Sparky xa0Slowly painfullynnEveryone Blow pathetic Obamatroll ia big sticky sphincter kissinnMMMMMMMWWWWWWAAAAAAAAAAAAAAnbnnu2026u2026u2026u2026u2026u2026u2026xb4xafnu2026u2026u2026u2026u2026u2026xafnu2026u2026u2026u2026u2026u2026u2026nu2026u2026u2026u2026xb4xaf'u2026'xb4xafxafxb7xb8nu2026u2026u2026'u2026u2026u2026u2026xa8xafnu2026u2026'u2026xb4u2026xb4u2026 xaf'u2026'nu2026u2026u2026u2026u2026u2026u2026u2026'u2026nu2026u2026u2026u2026u2026u2026 xb7xb4nu2026u2026u2026u2026u2026u2026u2026u2026nu2026u2026u2026u2026u2026u2026u2026u2026nncite\",\n",
       " 'Lasersxa0xa0ThunderChick2010xa0xa0Lost Onesxa0And I still zero I started like fest last weekend got tow 105 since disappeared I feel shamed',\n",
       " 'nah I end back I started',\n",
       " 'Closed courts going country widely used family courts hide state kidnapping childrennPlease look state kidnapping surprised large number allegations widespread cases',\n",
       " 'I suggest trout pond keep',\n",
       " 'How many times heard watch ipad ipod shit never happens Its cuz dont know Apple stays 5 steps ahead times',\n",
       " \"I guess taking Lord 's name vain offensive Christians Whatever Fuck internet getting PC D\",\n",
       " 'idiot blabbermouth gon na get stopped HARD one day You WILL NOT saved',\n",
       " 'We always balance budget backs militaryxc2xa0 The problem military largest expensexc2xa0 government workers produce nothingxc2xa0 They suck taxpayer moneyxc2xa0 They make nothing contribute regulations us work shoud taxed etcnnThe military defends country government worker defends right parking slot federal building get bigger check',\n",
       " 'How didxa0 country elect many craziesxa0 What going Americaxa0 We used proud Country something proud nowxa0 All good people bunch craziesxa0 Is something waterxa0 What happening people country makes act like scott brewer walker etc',\n",
       " 'bosh ready dont need play',\n",
       " 'Fuck I wanted hate bad',\n",
       " 'If expired Visa gotten MasterCard',\n",
       " 'xc2xa0You obviously NO CLUE Ronald Reagan wasyou pathetic ignorant puke',\n",
       " 'sorry right',\n",
       " 'SaintMartyxa0xa0Flipxa0xa0akusxa0TWSS',\n",
       " 'breakfast monks 530 IS different',\n",
       " 'Mo0rtlib dumbkopf What kind dessert sic Prickly pear pie Tell humans move You arrogant elitist moron',\n",
       " 'No need prove reasoned response replying',\n",
       " 'Have stopped ogling long enough evolve past monosyllables cute attempts use vocabulary understand',\n",
       " 'BabaPuppe thats right negro run site match anyway PU C like match',\n",
       " 'I like cover keyboard Good idea Hopefully better nokia windows 8 phone Okay great',\n",
       " 'white people fuck like black people fuck like',\n",
       " \"Plants also right lifenDo n't kill eat vegetablesnThey living beingsnnAnimals soulsnProve scientifically beyond doubtnnHumans soulsnnProve scientifically beyond doubtnnnLMAO\",\n",
       " 'Natesweetxa0xa0PreparationAxa0in fairness fair point LKP shown inability objectionable comes Lions Drivel get bit preachy times time people write articles least deserve respect read article making snap judgement',\n",
       " 'Like Know Fck Face',\n",
       " 'Posted 0845 AM ET 06072012nObama killing Democratic PartynBy Jennifer RubinnnPresident Obama I frequently argued fabulous conservative movement He spurred creation tea party He helped GOP win House majority 2010 make big gains Senate His Obamacare helped revive Commerce Clause given boost conservative jurisprudence His refusal support human rights caused bipartisan revulsion reminded us foreign policy must girded American values Heu2019s sent independents running GOPu2019s arms Heu2019s forced conservatives think hard express eloquently principles religious liberty limited government free markets Constitutional democracynnObama also wreaked havoc Democratic Party Heu2019s firmly affixed u201ctax spendu201d label Bill Clinton declared era big government Heu2019s made Clinton pitch man Mitt Romney His rejection Keystone XL pipeline split party His refusal adopt SimpsonBowles commissionu2019s recommendations turned Democrats reactionaries defending status quo entitlements Heu2019s alienated Jewish voters Heu2019s reMcGovernized party stands appeasing despotic powers turning allies slashing defense spendingnnPack dude eviction notice delivered November',\n",
       " 'Yeah rising prices cut food stamps tax richxa0 Now fucking richxa0 What give family feed month families need use food banks supplement',\n",
       " 'Who real idiot Dogtwon You pick one know Everybody stupidest person talk unless talk You asked forxa0thisxa0with lovely comments stupid everyone vote Ron PaulWhat wind u Last placexa0and 3 percent vote So 97 primary voters stupid morons enlightened',\n",
       " \"Who gives rat 's rump Geithner says thinks Really He proven incompetent Obama puppet failures stacking faster pancakes Rosie O'Donnell raids local Waffle House nnThis guy going faster Janet Napolitano Elena Kagan comes visit Sorry visual It made puke\",\n",
       " 'God Republican American Conservative',\n",
       " 'Wexa0 remain happy choices quite sure settled',\n",
       " 'There nothing equal hetrosexual marriage gay marriage You compare apples oranges One created God man So enjoy new freedom means nothing',\n",
       " 'If ibothi dirt poor',\n",
       " 'She lawyer Nurses tend turn around go law school stupid assnn',\n",
       " 'u buy shoes people say look BAD nigga please dont think u special u dont want ppl giving compliments fresh gear fuck outta dumb nigga',\n",
       " 'Holyshit idiot Coming Boston fan You need get life give respect due Something like Good job Miami great series guys better',\n",
       " 'fake hell illegal even put cam bathroom dumb fucks',\n",
       " 'truthfully logic 15 political statement made everyone little bit dumb article comment section In fact probably 1 5 xa0 bullshit irrelevant statistical fact made group Put remote read book retard',\n",
       " 'Buenas como afiliados que somos te dejo el enlace la traduccixc3xb3n en Guild Wars 2 Spainnn nnhttpwwwguildwars2spaincomguildwars2articulos350orgullosalvajedelosjotun',\n",
       " 'FUCK YOU NEWSDAY',\n",
       " 'I would hard pressed empty full mag little black angel',\n",
       " 'memphisdawg part NCAA talking making requirement right scholarships one year renewable scholarships making easier scumbags like saban release kid school going ahead nd offering four year schollys think Big 10 pushing schools',\n",
       " 'Put line I smell rat',\n",
       " 'Another way say live Nation free believe ridiculous silly thingsxa0 Andf try force people unless stop',\n",
       " 'I transformer prime hate almost everything positive read tablet untruenNot fast responsive AT ALLnterrible build quality I send back ASUS dead pixels defective screennhorrible wifi signal quality cant get decent lock side tiny housenand I love android ICS every app prime lockup crash issues CONSTANLYnnfucking terrible device terrible manufacturer go Samsung fuck ASSUS',\n",
       " 'Your notion sexually abused hitting newcomers want justified sounds exactly like pathology predator Better check',\n",
       " 'Oh dear poor deludec spuds fans mouthing offnnCome back 6 weeks spuds fans team dropped like stone back belongsnn nnSpurs The LITTLE club flatpack MFI stadium LOL',\n",
       " 'mandingo stop claiming cotto balls go learn sport',\n",
       " 'Nana I got first pair NB shoes months ago really worked well',\n",
       " 'FUCK ALLA YALL YMCB TAKEOVER WEEZY JUST TIRED OF THE BEEF DAS WHY HE SAID THATxa0httpwwwyoutubecomwatchv5n7oAKk1IQ',\n",
       " 'I see nobody beating heat four times',\n",
       " 'Whoever checked libertarian hitting bath salts',\n",
       " 'Like I said I liked VIDEO Not songobviously mama DUMB OLD BITCH She teach first amendmentxc2xa0nnRoman DarlingSoft ass nigga hahah',\n",
       " 'Thats call fucking mexican 100 niggers crackers',\n",
       " 'You fool',\n",
       " 'No viene presionadonDecir esos despues que la prensa lo hizo pedazos por el juego contra GuyananHmmmmmmm',\n",
       " 'This article talking rapexa0 talking happens victim rape among familyxa0 nnYou nerve allow brutally raped tortured five grown menxa0 You brought shame family everything power ostracized even killed',\n",
       " 'amazing many DUPES buy LIES GOP puts ESPECIALLY proposition rabble consistently manage vote AGAINST OWN BEST INTERESTS THEY eventually become billionaires foregone conclusion fevered minds THANK GOP u201csavingu201d u201chorrible responsibilitiesu201d paying FAIR SHARE taxes would mandatexa0nnnnOne less mansionnnnnOne less yachtnnnnOne less limousinennnnThat somehow EMPOWERING THE RICH AND THE CORPORATE INTERESTS HOARD wealth might get wealth THEMSELVESxa0nnnnThat VOTING whose PUTRID POLICIES sent OWN JOBS overseas THEY somehow win endnnnnDelusionalnnnnPathetic',\n",
       " 'You missed bran diet',\n",
       " 'jakesnake99 skywaker9 David enough Rhino',\n",
       " 'She act like thinks perfect naive bitch',\n",
       " 'Never said anything derogatory tattoos posting one ass Facebookxa0 And quit trying pretty say wan na say whoresay whore I never gardening implement',\n",
       " 'Are insane',\n",
       " 'human worthless pieceofcht',\n",
       " 'Again talking Heat fans instead actual team',\n",
       " 'yes right100CBI Congress Bachao Institution',\n",
       " 'screaming yelling broken plays winning Steelers frist half seasons',\n",
       " 'Why youxa0order axa0copy hooked phonics tell blacks peoples black need people plural know mean spent much time learning much crap pump like thinking better know much forgot learn correct diction You called people pitiful pitiful one go back caves caucasus mts kind originated living like animal still ready toxa0live around civilized people',\n",
       " 'But want living community',\n",
       " 'Laffinxa0 You laugh anything jihadist puke',\n",
       " 'You day late dollar short',\n",
       " 'HahahahahahahahaThe fucking dyke deserved A bit ofxc2xa0 karmic payback forall degeneracy misandry lesbo feminists inflictedupon Western world That degenerate dyke bitch still alive subject rest us disgusting emotional diarrhea fat dead land whale Our world would far better polluted degenerate lesbo feminist pieces shit',\n",
       " \"Some comments I read soso lame White people want world fair But course hundreds hundreds years opression death fear ok American White people hung people cut private parts took pictures kids family around dead bodies singing wind truly sick mind state kids They created tricks illegal laws rules get ahead America hundreds years raped killed destorying families person makes choice go black school teacher ca see black student gets interview white reverse racism WHITE PEOPLE lived another 's history stop crying get high horse\",\n",
       " \"people bring story sandwich conversation religion abortion rape beyond saidnnHEY GOVERNMENTxc2xa0 Stay kid 's lunch boxxc2xa0 If I want kid eat paste looseleaf paper lunch businessxc2xa0 nnThe hilarious part I bet people making decisions children eat rolls belly local deli lunchtimexc2xa0xc2xa0xc2xa0 nnIf lawmaker proposed AND people enforce including school officials show 6 pack abs marathon finishing time 3 12 hrs please maybe I listen stupid aes child eatnnI wish try attorney loves litigate heshe break school district attorneys fees alonehell maybe I go probono\",\n",
       " 'Fact Radical Comic Creator written Real BasicnnYou argued fact Please go project page Github see nnFact Lunduke consumed 2000 worth time begged additional money hardware delivered promise yetnnFact You think I ignorant hillbilly though frequently insert symbols responses use improper numerology describing number You habitually forfeit grammar partially form words In addition stream consciousness collection poorly constructed sentence fragments In short English sucks dicknnFact You think Internet place freedom speech I Internet I America I said whatever fuck I wanted nnI implore argue facts directly',\n",
       " 'ANOTHER WHITE xa0dude murdering wifeat least molest little boys well',\n",
       " 'Tell em mad LOOOL opinion And sports',\n",
       " 'microphone button wont work',\n",
       " 'skimpy lingerie Hardly The reporter needs glasses Ive seen flesh show nunary',\n",
       " \"AWExa0 Poor wittle troll Patrol TOO TUPID speak onlyEnglish SO I 'M THE BAD GUYxa0 SERIOUSLYxa0 LMFAO\",\n",
       " 'Does anyone think LibDems ever tax cut richest 1 granny taxnThose political party destroyers George Osborne stamped',\n",
       " 'DiBrubaker lkissler always love MT peeps anyone else crosses path virtualReal tech never trumps us meeting person',\n",
       " 'Yep Croatians coming house shop hospital school DSS office near soon',\n",
       " 'Your email address visible commenters',\n",
       " 'You seem theng crystal balls',\n",
       " 'WetShoesClassic haha',\n",
       " 'let silly things like facts manufacturers get way blind Apple hatexa0 Please upsets people absolutely interest product whatsoever feel relentless need spam comment sections news posts',\n",
       " 'Who judge inadequate',\n",
       " 'But Vicky2 lie time',\n",
       " 'Did really use word evoking',\n",
       " 'How Straight couples keep gay babies',\n",
       " 'grizzlies best team ever next year',\n",
       " 'send set sits pre launch Nowxa0thatsxa0a bang buck taxpayers complain',\n",
       " \"regan ticked also plain 2 c munroe doesnt like scolded like child shouldnt act like 1 right 2 askxa0questions point reporter respectful allow president 2 finish statement ask questions presidents answering questions end nothing new either done regan clip hollering u clearly see regan annoyed tells answering questions hole bret brier interviewed Mr O could answer question idiot kept talking interrupting situation worst Mr O handled pretty dam good respect whether u like man bill clinton joins negative talk Mr O u havent heard u would never know u c togetherxa0nnhow u watch full clip incident sam donaldson knows wrong bill o'reilly said even hannity Mr O answer question tucker knows better immigrant munroe problem go back whence u came free job 4 real americanGROW UP ACT LIKE ADULTS STOPxa0EMBARRASSINGxa0YOURSELF YOUR COUNTRY\",\n",
       " 'Michelle macro lens something like 1855mm',\n",
       " 'nikestorw fuckin man',\n",
       " 'Point BOTH livingdead weightnAnd US CAN FIND capable younger leaders young vision',\n",
       " \"afvet1991nnI 'm gay sad little freak Not everyone support gay marriage We empathy compassion others unlike religious bigots wait judge others\",\n",
       " 'So younnow go bed boy',\n",
       " 'You theif',\n",
       " \"I watched David 's video clips YouTube To surprise I found great somebody decided speak Polish language well It clears superstitions stereotypes language It turned bad\",\n",
       " 'How put creation philosophy It fucking logic Creation doesnt belong philosophy',\n",
       " 'saying could ACL tear',\n",
       " 'Bill Maher dumb faggotnnshow show lessnEditnReplyn06172012 0731 PMnin reply responding trolln198 Likesn nnnRead httpdailycallercom20120616billmaherfindssixblackmentodeemmattdrudgeracistvideoixzz1yHVYeuH8',\n",
       " \"You seem racist dumb ho Why start crying slavery even though xa0you never I Irish ancestors slaves Do hear Irishwhitey crying handout I afraid black people In fact never met niggr I could beat And stop afraid whitey 's sexul prowess black girls love white men know Maybe raise children something niggs dodging since day born Or maybe afraid intelligence education Afraid black peopleLOLOLOLOLOLOLOLOLOLOLOLOLOLOLOLOLO Anyway back slavery issue We bought nigets black peeps Which means sold us black people So get mad us They sold race bith Now blw stupid niga ho since mouth good xa0 b\",\n",
       " 'What happened talk industry hurting Obama would let drill placennThat call straw man arguement xa0No one saying industry hurting notnnWhat people saying moronic send almost billion dollars day countries hate us could developing naturalxa0resources',\n",
       " \"I would sleep DBacks either Hudson 's return really help rotation\",\n",
       " 'When pulled looked like 23 dick wetdayum No wonder moaning',\n",
       " 'Aside calling police contact BDN tell saw fix false article',\n",
       " 'A pic Queen NIcki concert last nightxa0nhttptwitpiccom9xz941xa0Now tell mewho fuck winning',\n",
       " 'No idiot tell surpreme court even funnymorning asshole go back bed',\n",
       " 'Sure people actually diagnose treat disease problem hordes parasites around',\n",
       " 'I think find money',\n",
       " 'I 2 absolutely great reasons NOT vote ObamannMy children He allowed destroy futures',\n",
       " 'Otra historia estaria contantoxa0 elxa0 senador Escalona sixa0 en 1990xa0 elxa0 Binominalxa0 noxa0 ubiese estadoxa0 la UDI RN con un 32 de los votos de la epoca obtuviera 50 de los escaxf1os de diputados enxa0 elxa0 senadoxa0 noxa0 Ubiesenxa0estadoxa0 los 11 senadores designadosnQuienes hanxa0 protgidoxa0 entonces la malxa0 llamada obra de la inequidad enxa0 Chile entonces xbfxbfxbfxbf los mismoxa0 que hoy nos gobiernas pues los cuorumxa0 para cambiar leyes economicas debitoxa0 fiscalxa0 tenianxa0 que pasar por ciertoxa0 por RN La UDI nQue mala memoria de los que bomitanxa0 odio balas en este foro',\n",
       " 'spin Tea party bleachers',\n",
       " 'freaking idiot word dictionary toxa0describexa0you beyond dumbass evenxa0funnyxa0anymore',\n",
       " 'Citizens United squat WI recall xa0nnhttpcampaign2012washingtonexaminercomblogsbeltwayconfidentialcitizensunitedrealimpactwirecallzero583241',\n",
       " 'Woot I detect usual liberal vibe race injected postLet make easy without knowing skin color matter wit mennBlow assnWas straight enough point sir',\n",
       " 'Jay My condolences family terrible way get wakeup call I glad found way channel terrible loss something positive Enjoy life slightly slower lane',\n",
       " 'Database systems I living',\n",
       " 'Thats rondo Hold man',\n",
       " 'fuks knows wats going space dont know wats going area 51',\n",
       " \"The wedge Issue whether women use birth control xc2xa0The issue Obama 's continued frequent deliberate abuse Constitution xc2xa0It one example utter willingness destroy principles founding document dictate populace sees fit xc2xa0He shown often cares First Amendment especially anyone uses speak policies attacked branded racist labeled unintelligent xc2xa0He respect Second Amendment one best protections criminals overweening government power xc2xa0He cares 10th Amendment excoriates states exercising powers delegated Constitution Arizona protect borders budget Texas draw electoral districts right states control budgets wide range issues xc2xa0He respect 14th Amendment means enforcing statutes blacks violate infamous Chicago voting rights case directive Dept Education colleges universities reduce legal standards proof finding rape sexual assault brought male man 's career ruined sayso even police investigation shows accuser lying Dept JustUs Guidance Memorandum allows colleges universities wink wink substitute term critical mass quotas throw clear law trashcan pursuing racial preferences xc2xa0He believe right contract guaranteed Article I Constitution note giving labor unions position ahead stockholders bondholders grants Chrysler GM xc2xa0Note efforts curtail companies pay executives matter stockholders companies governmentnnAnother issue apparent belief public incredibly stupid xc2xa0His compromise birth control requirement Catholic institutions simply means overall rates health insurance raised institutions pay administrative costs outreach well birth control devices including abortifacients morning pill xc2xa0Nothing free one would never know looking budgets\",\n",
       " 'Wow way tell us rich arestupid yuppie',\n",
       " 'realize called mom whore real smart',\n",
       " 'look like great weekend nn lauren',\n",
       " 'And single decent white person would come within mile youxa0 Ironic',\n",
       " \"YinzerinCTxa0xa0akusxa0xa0SusieMoxa0I 'm fairly certain blog Dany Heatley references per capita rest internet combinednxa0nand even Wild blog\",\n",
       " 'Like first ever credit rating downgrade',\n",
       " 'Do really think yourxa0continuousxa0rantings someone might believe You understand everyone gets good chuckle postxxoo Canada',\n",
       " \"Sandie SandynOf course someone would post eurocentric nonsense bore children wedlock makes sense would relish GOSSIP private affairs individuals seemed quite comfortable mating arrangementsnnTell us gossip sandy former husband complaining promise organ share lossnThe deceased wife Magnanimous Mugabe complainednnWe never heard anything people PRIVATE LIVES You ever thought ALL pactnComrades sharing femalesnWives minding husbanding 'small house'nThese ALL fine traditional practicesnnThose gossipy sexobsessed going hard time conservative wise African practices sustained coherent African societies thousands generationsnnGo gossip Europe much minding people 's businessnDignified African females busy waste time gossipy garbage\",\n",
       " 'Mine came fromxa0Chihuahua allegedly',\n",
       " 'If mean UK God youxa0are right',\n",
       " 'I think confusing way things ways things Operations everyone responsibility way See httpblogappfogcomwhatisnoopsanyhow detailnn nnAlso I coin term NoOps coined Forrester April 2011 httpwwwforrestercomrbResearchaugmentdevopswithnoopsqid59203t2nn nn',\n",
       " 'starting toxa0sound like Nazi',\n",
       " 'How A CSM Works n After hand cards used placed back shuffler mixed cards shoe Shuffle Masteru2019s King uses elevator system randomize cards As elevator moved cards randomly inserted one 19 shelves elevator The shuffler randomly selects shelf cards deliver shoe Because nonlinear process every discard reinserted following hand chance appearing next round Although Shuffle Master says The King differs competitors continuous shufflers others use linear design CSMs thing They put discards back play away dealers stop physically shuffle cards end shoe nThe House Edge The continuous shufflers benefits player dubbed uncomfortable shoes It eliminates card counting skilled player also major disadvantage basic strategy player It speeds game nWhen CSM first introduced many players felt would probably increase house edge As turns entirely true Michael Shackleford The Wizard Odds mathematical analysis Continuous Shuffling Machines found slight reduction house edge nIn four deck game edge 0034 percent eight deck game tis0014 percent Before get excited slight reduction house edge realize casino uses CSM speed games increased 20 percent The basic strategy player stands lose long run exposing money house edge nAs player I feel itu2019s treat visit casino offers double single deck games I would hate see games eliminated altogether Even multi deck shoe game preferable Continuous Shuffling Machines The best way let casinos know refusing play Blackjack casinos use CSM Blackjack games',\n",
       " 'Embrace probability iminant death idiot',\n",
       " 'Good riddance drug abusing loser',\n",
       " 'She kind main character',\n",
       " 'I allways flag anything says spot It proven troll worst sort spamming one',\n",
       " 'No even best season next year get media get bored Jordan win Too bad good reporters voting like back Bill Russell days',\n",
       " \"Eh Billy Joel 's bad guy Music 's fucking awful course\",\n",
       " 'I know sitting front fire cozied How often happen But least shave legs oftenx',\n",
       " 'tol1d7 I think whole point I would appear one politicians may directly affected drain England known immigration Too little late ask As another mentioned someone qualified make kind money would use trade elsewhere',\n",
       " 'Women prostituted victims',\n",
       " 'Hating jealousy absurd though It makes look like idiot knowledge baseball',\n",
       " 'yep still despise show fucking frat boy humor',\n",
       " \"Do realize many people get DUI 's retain job\",\n",
       " 'Look bright side libsdems David CrockBrock character supporting side strong wind blow LA Boston',\n",
       " 'Hey Teacher deserve every penny get It thankless job important',\n",
       " 'I see dreamt weekend I men like also cowards attractive Now get work little cowardly stable boy',\n",
       " 'Are newcomer world',\n",
       " \"Michelle S NgnvjmichellenRegional Actress Host Model 1st Runnerup The Amazing Race Asia 4 Team Singapore FHM modelnnnNikita ConwinGraduated John Robert PowersnMonster Rdio RX 931nnnDeniece Milinette CornejonModelnnKrish Enriqueznone 24k abs cbn 's deal dealnnAnya PenanModelnnGoldamier GamirnmodelnTanduaynnnHOW CAN YOU SWALLOW ALL THESE THINGS YOU KNOW HOW TO READ nBUT YOU DONT KNOW HOW TO UNDERSTAND nAND YOU WANT TO BE AN AMBASSADORnAND MEG IS LETTING YOU DO ALL THESE THINGS HOW SAD\",\n",
       " 'Arsenal glory hunters We park bus spend 35 mil love pony tail player wait corners',\n",
       " 'What problem 1492 Why normal civil conversations Come please grow others enjoy commenting',\n",
       " 'Well Braves bound break losing streak Nobody better sorry ss Westbrook',\n",
       " 'fucking savages',\n",
       " 'number invasions ancestors subjected invaders ways grandmothers obvious complexionnnGood point',\n",
       " 'The US govermet spends billions dollars every year guarding al qaeda',\n",
       " 'I agree It would better nothing Trouble BAA get political backing needed The 2003 white paper said 2030 Heathrow closes building 4 new runways Stansted ARE movingnnGus',\n",
       " 'You pathetic pimplefaced little adolescent moron Have studied sarcasm yet nnLet guessyou product home schooling right',\n",
       " 'comedy u fuckin hater nigga prolly smashin camera',\n",
       " 'I told suck marriage penalty numbskullnBesides every fiscal year ending sept Clinton added federal debt Treasurygov pal Look',\n",
       " 'iWe got class taste shirt shit facedinMore Nickelback lyrics listening pleasure',\n",
       " 'You know pathetic Your Mom asked remind bed time Oh asked send sister bedroom',\n",
       " 'And retarded',\n",
       " 'Are colorblind',\n",
       " 'also nice Saban sign 120 kids every 4 years compared normal non SEC teams 85',\n",
       " 'lol full chit another stupid liberal',\n",
       " 'wanting repub politician blow itlose temper incompetence arrogance white houseof short term fixes campaign reasons solutions long term solvency security come guysbe HUMAN Get MAD',\n",
       " \"I really like When combine tactics integrated marketing communication program drives results Real results improved margins shortened sales cycles increased revenuesnn nnI 've read friends recently trying defend idea accepting PR 15kmonth crap shoot eventually media would magically convert successnn nnAs far I see months I going see results paid thet monthly spend I going find something else spend onnn nnMagical thinking jacked huge segments society today\",\n",
       " \"Ha ha I love reading picks seriously I going time could get picks time I town weekend daughter 's college graduation I try get pool action Wimbledon good luck everyone remember Nole rules\",\n",
       " 'Retard',\n",
       " 'What modified editor feature talking',\n",
       " \"luke babbitt funniest tweet 've read year luke babbitt original chalupa 3 written ESPN 30 30 promo\",\n",
       " \"If think people site give shit prison guards ' safety nuts\",\n",
       " \"SHOLAAMEOBI ' WHAT PLANET DO YOU LIVE ON YOU NEED TO GET DOWN TO SPECSAVERS ARE YOU BLIND OR STUPID\",\n",
       " \"XSHOGUNX 'S EYE ARE SPREAD FAR AS FUCK HE LOOKS LIKE HE HAS DOWN 'S\",\n",
       " 'peter8888nnYou showed true colors In addition comment misdirection using name calling innuendonnName calling innuendo comment misdirection last refuge someone viable logical well reasoned comment',\n",
       " 'RYANGO BACK TO SUCKING YOUR MOTHERS TEATBOYWONDER',\n",
       " '75000',\n",
       " 'And racist What joke',\n",
       " 'At point safe say ignorance classified stupid',\n",
       " 'quote Konstantin Eduardovich Tsiolkovsky father Russian space science nnnYou profoundly learned',\n",
       " 'Yes bullshit said probably mod deleted But I around remind said worry',\n",
       " 'You correct forcefully ejected Israel',\n",
       " 'Perez thexa0nnu266aNanana nanannNananananau266b',\n",
       " 'How could I drive Chicago see IThe Girlfriend ExperienceI theater I doubt I go far IMagic MikeI I fully prepared',\n",
       " 'And protects us decide like political views religion color skin And asking reasonable safety precautions taking away rights',\n",
       " 'dudes really need fucking life plenty people jobs dont cars sitting judging someone elses life really says alot shut da fuck n watch video',\n",
       " \"If criuticism based factsthen lets call islets take StevenGlens Bile instancennCOPY POSTxc2xa0obama spent 3 years gotten nothing except 200 dead Mexican citizens several failed green energy plants Ok first thats boldfaced LIEsecondly show NON partisan facts verify verbal vomit posted I start Obamas achievementsbut ask Bin Laden Somali pirates Al Queda Quddafi think Obama talk actio last yearsbut Obamas domestic accomplishments I willrefer herer PolitifactorgObamas promisesREAD THAT keep movingturn Fix News EL Rushbo hour daynnnnhe also created vitriolic partisan atmosphere I ever seen divisive class warfare demonization several groups AmericansNo actually Bush youre either us us cowboy bravadovoters rejected 2008 partisan mean RACIST mean Republicans would rather see America fall sea see Obama fix countryMr Mitch We wont work Obama Turkey Neck McConnellSO stop BS'n real partisans Yea Obama tries work Redumblicans hes one whos partisandont make laughnhe mocks process democracy praises supports enemies alienates friendshe claims want create jobs socialist minions squash efforts expansion business starts excessive regulations fines fees lawsuitsnSupports enemies like Bin Laden Bush gave pass 8 yrsthis whole post laughable idiotic faceAgainIm gon na entertain notion bile posted cause comical addressstop watching Fix newsin case didnt know dont tell TRUTHthey propagnadizeBTWwho Obamas socialist minionsyou mean Saul Alinsky Bill Ayerswhat Josef Stalinwhile youre truth socialist would laugh face listening squawknI could write pages effort would wasteddont waste informed voters time effortnI see profile something amateur would helpful case could post links verifying claimsIs best insult people based AVI sound like child thrashing around sandbox schoolHave considered career selling fertilizer Maybe try first show us hows donennand honestly anyone cosigns partisan parrot bile big idiotI didnt see one fact Diabtribe\",\n",
       " 'Who us say trustworthy hold nuclear weapons Especially Israel precisely apologists like',\n",
       " 'god really stupid',\n",
       " 'talk crapxa0 Nothing shooting endangers many species birds animals welcome give us examples thisnnSo go name animals birds endangered shooting',\n",
       " 'FUCKING DUMB',\n",
       " 'replying save spacenI think I understand feeling Put way someone actively involved systematic elimination human beings I totally understand movie shit really aint important grand scheme things However I others similar situation use decompress real shit often movies help express stuff ways film It valuenAnd hypothetical situation victim using faith survive I would recount ivery reali examples young afghan girls getting faces mutilated family irrational outdated customsreligious beliefs Is better faith produces atrocites I know I dont answer Alls I know although I thoroughly disagree absolute abolition religion obvious find way evolve thought processes nOh far movie related articles concerned Scientology famously big force entertainment industry many big name Alist actors follow faith I think warrants discussion And forget theres movie coming later year Hubbard trailer covered recently Worth checking',\n",
       " 'Man got music knickers twistxa0 I play two three chord riffs e flatxa0 I know parity comes itxa0 Strum guy',\n",
       " 'Manyxa0Sri Lankansxa0talking shitxa0as usualxa0wexa0must buildxa0srixa0lankaxa0wexa0must work togetherxa0whenxa0will youxa0understand',\n",
       " 'Doubt showing awesome reading comprehension skills said acting like btch btch big difference genius',\n",
       " 'BUDDHA IS A FAT ASS SLOBNUFFFFF SAID HE IS THE FAKE YOU MORON',\n",
       " 'You called someone stupid Wow must smoke spice meth combined sound brain dead Before putting 2 sense something education hear Media think say You sound like fucking pawn like rest society believe everything see news brainwashed grunt',\n",
       " '531 CNN poll Please tell whether agree disagree following candidates personality leadership qualities president havennRESULT Obama 60 Romney 51 nnhttpwwwpoliticocomnewsstories061277009html',\n",
       " 'Coach P RRTrackDawg70s VirginiaDawg Mason looks RS either Lemay Bauta backup',\n",
       " 'hey Jamie allkpop biased writing fucking truth idols',\n",
       " 'Samadhixa0xa0voiceofinsanityxa0Lol I ways upset bc called moron I called much worse And I never picked side xa0I understand whatxa0legitimatexa0proof besides bullshit guilt association makes TrAyvon gang banger Might I point yet provide reason behind statement topic BTW I read story post kind hard stay topic I debate completely change topic start attacking Right',\n",
       " 'Maybe go back read second comment',\n",
       " 'Money bitches niggaz Get money Fuck bitches ball wit yo niggaz preach nigga Jones lol',\n",
       " 'I think still tired either proof read wrote fast shelby beside got drive intoxicated brothers home xa0nnof course know meant UNCLESnnI glad yall fun I think everyone needed even girls especially bobby',\n",
       " 'gives fyck second year',\n",
       " \"Please talk shit artist 2PM 's article We Hottest always respect artists pushing make artist look better We proud fandom\",\n",
       " \"She continues Obama 's whore\",\n",
       " 'towers connect bottom pentagon Since flat',\n",
       " 'Merci beacoup tous xeates vraiment mignon Chloxe9 La soirxe9e xe9txe9 toutnsimplement la plus beau de vie',\n",
       " \"stupid cuz Kara girls always shorts skirts dressesit 's ok I see shit anyways still luv\",\n",
       " 'You dream heard sister gave handjob symbol pity',\n",
       " 'Mxecnh cxf3 kinh nghiu1ec7m sau u0111xe2y Bu1ea1n thu1eed lxe0m theo cxe1c bu01b0u1edbc sau u0111xe2y xem saonxa0xa0 1 Dxf9ng Fire Fox hou1eb7c Google Chrome u0111u1ec3 vxe0o Google khxf4ng dxf9ng Internet Explorer nxa0xa0 2 Gxf5 anonymouseorg enter click vxe0o anonymouseorg u1edf dxf2ng u0111u1ea7u tixeannxa0xa0 3 Cu1eeda su1ed5 mu1edbi hiu1ec7n ra cxf3 2 lxe1 cu1edd cu1ee7a nu01b0u1edbc Anh vxe0 nu01b0u1edbc u0110u1ee9c Click trxe1i vxe0o lxe1 cu1edd Anh u1edf bxean trxe1inxa0xa0 4 Cu1eeda su1ed5 mu1edbi hiu1ec7n ra Bu1ea1n thu1ea5y phxeda du01b0u1edbi hxe0ng chu1eef ENTER WEBSITE ADDRESS cxf3 2 khung chu1eef nhu1eadt u1ede khung bxean trxe1i bu1ea1n gxf5 danlambaovnblogspotcom nu1ebfu muu1ed1n u0111u1ecdc trang BBC Viu1ec7t Ngu1eef thxec gxf5 bbccoukvietnamese Sau cxf9ng bu1ea1n u0111u01b0a con tru1ecf vxe0o khung chu1eef nhu1eadt bxean phu1ea3i click trxe1i 2 lu1ea7n vxe0o hxe0ng chu1eef surf anonymously su1ebd u0111u1ecdc u0111u01b0u1ee3c',\n",
       " \"And I call brain dead jew retard true Perhaps got muslim nazi 's dick ass would friends\",\n",
       " 'Would someone please send guy blow doll Obama 55 gallon drum KY done',\n",
       " 'browns fan softly weep',\n",
       " 'troll hard',\n",
       " 'Thats clichxe9and typical baseless silly accusation homosexual advocates throw try scare adversaries Whats next Im homophobe I closet homosexual I bigot LOL Come onyou better That stuff worn Find something new say Lets see really imaginative',\n",
       " 'sad utterly uncool proglodytes become four short years',\n",
       " 'You one brought topic Kalifornia Kendollnnand whine like beech somebody calls itnnwhatevernnkeep trolling teabagger Kendollyou may get lucky Kalifornia phaggot',\n",
       " \"Bear sec George Stephanopoulos Greek right Greece rioting Quit RiotCum Feel Noise Bring da noise Bring funk Bring Pain Method Man Barack Obama 's method take USA hire George Soros Media Matters make Dick Morris suck toes Hannity 's show totally make Fox News look like bunch pinky toe licking con artists discrediting awesome guys like Glen Back Oliver North Go ahead call crazy\",\n",
       " 'Magic Number Magic Underpants No Big Deal',\n",
       " 'You really talented Channelxa0 Multi faceted shit',\n",
       " 'May eat shit ilivei',\n",
       " 'There ethnic cleansing Flag spam',\n",
       " 'You need serious psychological help',\n",
       " 'Look talkingthe payaso sucks English Spanish',\n",
       " 'You right along NOT',\n",
       " 'One day let child eat lights naked You one sick puppy',\n",
       " 'rcae premise help us If fear religion premise God helps us',\n",
       " 'oh shit one tattoos Id suck dry',\n",
       " 'YOU filthy ignorantcocksucker stankin ass whore u leave still ahead someone stick dick mouth make u shut',\n",
       " 'Sarcasm learn spell moron',\n",
       " 'Why willing share cell',\n",
       " 'If u didnt give fuck saying ur dumbass replying Clearly u ignorant unsophisticated',\n",
       " 'Obama thinks best country GOP think best Republican partyit easy choice come November',\n",
       " 'Well true like anal',\n",
       " 'I still get big deal shit',\n",
       " 'ignorant fuck black people skateboarding long ass time stop looking lil wayne set trends',\n",
       " 'Not really says lot lack understanding subject',\n",
       " 'Hahaha nigga We CP ATL yo ass bring pussy ass niggas blood pussy hands handle fights 1712 Temple Ave College Park GA 30337you aint bout life I bet tonite tomorrow next year ill still sleep like baby',\n",
       " 'Polls across country show time timethat voters vote homosexual faux marriages',\n",
       " 'WIN WIN WIN HONEY BADGER CARRY US TO THE PROMISED LAND',\n",
       " 'turd',\n",
       " 'With imminent Defeat Iraq Afghanistan The head Snake Imperislism cut Syria brave people Region support Russia China Nations standing Justice Equality',\n",
       " 'Wake smell coffee current premier WC',\n",
       " 'I understand sayingnnOut Black White',\n",
       " 'You 60 years worth history wrong I idiotnnbennyhill hide comment history I caught posting old name delete profile anyone see campaign character assassination smear distortionnnCowardly much',\n",
       " 'AlenLemone Anyone intelligent reading comment could come conclusion mental issues say least Either simply biased russian',\n",
       " \"Bitch replied comment stupid ass nigga Shut trolling ass log go breathe air And LMAO fast replied back I see live site smh Go get dick wet seriously stop sucking uncle ronnie 's dick\",\n",
       " \"I guess Obama 's version I like firing people\",\n",
       " 'FOXTARD LOGICnnno matter many proven facts present whether back science math plain logic support narrow right wing view justify fear hatred MUST part vast left wing conspiracy make gay mvslim mexicanxc2xa0',\n",
       " 'buzz twat',\n",
       " 'I thought makeup suppose make bitch look better case total oppositen',\n",
       " 'Have country found PUNEET PUNEET yet Your burn flag Your country corrupt Indian people gs Pay peanuts get stupid fken indians',\n",
       " 'great way run business',\n",
       " 'hate much Maybe someday figure',\n",
       " 'Go change depends crybaby',\n",
       " 'Yes',\n",
       " 'That 45 minutes ago troll Get times',\n",
       " 'Ohso unions ok Who would decide ones go',\n",
       " 'Stop whining moron democrats backed aFucking brain marxist loser 2007 Now pay price',\n",
       " 'This actually dumb ideaxa0 So switch one union another whatxa0 What state unionsxa0 What CCPOA CAHP othersxa0 Apparently clue bargaining system specific unions skrew employeesxa0All takes one two unions make deal enforced employeesxa0 Are going decertify themxa0 You naive want someone else collect dues',\n",
       " 'I already insurance jack AZZ But If I I show I want medical care dumb AZZ paying like afford get insurance See I like talking people like use nasty language opposition way deal people agree',\n",
       " 'And course added benefit poor 19yo forever drive like old lady fear hitting somebody else On behalf drivers get stuck behind slowpoke future would like say girls Fuck You Very Much',\n",
       " \"First SCOTUS moron secondly ruling 9th nwritten Kennedy bro read It mirrors Romer v Evans I nwould n't sure slap need one vote Supremes judging rulings gay rights equal nprotection past Perry v Brown slam dunkxc2xa0 side\",\n",
       " 'Whyte brings mind sleezy greasy second hand car saleman act conning poor old dear money Where Whyte trust comments slowly surely followers rangers awakening destinct demise teamRIP',\n",
       " 'Yeah fault lie bigot lies calling',\n",
       " 'Demoralized word think current soldier reading comments',\n",
       " 'Angel hot I remember Yes piece shit movie',\n",
       " 'Leidiot disgusting leaderless moronic self serving egotistical selfish bullying idiotic clown like deceitful hateful scumbag',\n",
       " 'Your Teabilly slutchild ignorant mothernnYou people trailer trash America',\n",
       " \"oh Leighdo n't normally pick front runner\",\n",
       " 'And parents afraid AFRAID let kids play outside I used ride bike Stockton came Stockton today climb tress play cowboys indians someone dramatically died every six secondsnnOf course people went church spanking schools lot respect institutions made country greatnnSo sure let us sue Hollywood let us sue liberals made Democratic party moral wasteland today',\n",
       " 'NO FUCKING WAY You leave us knock old lady something Turn tricks Blackmail someone nnFUCK NOOOOOOOOOOOOOOOOOOOOOOO',\n",
       " 'SO everyone board mosque built near Twin Towers',\n",
       " 'Shut PAWB Lebron lsoing going ad years life',\n",
       " 'Yeah And Nixon gotten away meddling kids',\n",
       " 'Schmeichel horror shows first season went become one best best EVER plenty time De Gea shine',\n",
       " 'And sodomize willxa0 You sick ticket Annabelle',\n",
       " 'Yay IGN sarcastic echoed complaints many forum users including Inferno hard normal people blandly straightforward AH junkiesxa0nnBut Blizzard indicated plan patch I worried',\n",
       " 'fuck whore',\n",
       " 'Dieofnv Like I said FUCK YOUnxa0nPeople like erode press freedom I going hope otherwise',\n",
       " 'damn truly stupid',\n",
       " '10nnWhat game watching',\n",
       " 'lol ur dumbretarded',\n",
       " 'Garfieldis near Dixie Manor queeny Or Key West homosexuals kind homie',\n",
       " 'Go Texas great American Dads arent affraid stand right right fact little Bastar isnt going commit crime Hell I send money bail pick',\n",
       " '',\n",
       " \"div classforumitem forumreplydiv classforumitemdescriptionI 'm compiling list threads since Sandals returned nbspSomeone going disappointed himselfdivdiv\",\n",
       " 'Hey moron 1 disgusting human 2 Seau wasnt pats teams fool',\n",
       " 'Mcfloyd simple assertions hold scrutiny xa0Did Bush live within means xa0Did fully reveal costs two simultaneous wars Energy Policy made behind closed doors led Dick Cheyney costs Big Pharma Drug Benefit giveaway xa0Did President Obama inherit budget surplus budget deficit xa0How many jobs losing President took office xa0When come back answers perhaps I give inane little quips consideration',\n",
       " 'BS Lowe arrogant prick Beyond criticism You deserve nothing criticism idiot',\n",
       " 'Can post statementxa0 without using word idiotxa0 Try little eloquent retorts start pulling wings flies toxa0while hours away',\n",
       " \"Oh Oh I got idea How 'bout song whiny bull crapu201d Peter Griffin talking Coldplay Family Guy Season 8 Ep 16nn'par ' I think I starting like word entirely sure I getting usage correct\",\n",
       " 'says child understand relevancy means ok Schimidt get fact closed book Thankfully impact society meaningless I accomplish first hour day entire life',\n",
       " 'Poliveira23xa0Well If going interview someone lack realism game shouldI dont knowactually play game making fool interview',\n",
       " \"Possibly 'anyone '\",\n",
       " 'A thousand US troops died Sudan I think',\n",
       " 'I doubletaked took Malaise MALAISE Hating shit puberty malaise goddammit Teen malaise give fucking break nnOn hand I least drinking work right I understand schoolbound teenagers lucky',\n",
       " 'NOOOOOO NOT MILTON BRADLEY',\n",
       " 'doubt poor woman offered good deal car turns garage',\n",
       " \"GaGGEDinUSA killed kids talking Are talking Russians Syrian rebels allies Pakistan Saudi ' Arabia Qatar I follow whatever trying say\",\n",
       " \"Muslims want blow let 'emnI could care less\",\n",
       " 'And big phat brown stoopid libturd',\n",
       " 'I wish uglyandpoor You nothing say post things I said context You horrible little person flag yet',\n",
       " 'PaulMomo definitely trumped Burt Reynolds episode I thought one quite hilarious Since one ocelot ergo LATIN better',\n",
       " 'Storobin youxa0stole damned electionxa0 You wanted neighborhoodxa0 Get hell go back wherever came',\n",
       " 'If expand 12 go 16 4 team pods I would add Georgia Tech Virginia Tech SE pod ISU WVU Louisville ND NE pod',\n",
       " 'I election official running polls Southern California last TuesdaynnONE Libertarian voted',\n",
       " \"You two fucking trolls What sickening thought Last time I checked Oaxaca relatively safe ya 'll would know cause heads ass Btw violence borderstates Mexico Or forget\",\n",
       " 'well worded proud time meaning theyxc2xa0feel world owes thank killingxc2xa0civilians saving morexc2xa0shouldnt thank lost lives help save people make sick nnand birdxc2xa0giving words wisdom great understand logic ironically point outxc2xa0will bend facts contort causality comes debates forgot point using factsxc2xa0out context please go educate rest friends find giant mirror stare xc2xa0',\n",
       " 'Oh great gon na devote time Santino Dbl R FFFFFFFFFFFFFFFFFFFFFFFFFFFFFFFFFFFFFFFFFFFFFFFFFFFFFFFUUUUUUUUUUUUUUUUUUUUUUUUUUUUUUUUUUUUUUUU',\n",
       " 'sick seeing fuck asshole bitch made chain latters oO gon na kill person inside asshole sick son bitch made crap things look grace wow cool ghostnmeclaps NOW SUCK MY DICK MOTHER FUCKING ASSHOLE fuck lol',\n",
       " \"bbxa0 LOL bustin ' chops already base today must good\",\n",
       " 'Coolest president ever Your complete waste oxygen resources Phucking idiot',\n",
       " 'I think interrupted middle speech',\n",
       " 'Dodger radio playing tunes fuck end commercial break They must reading comments',\n",
       " 'Ohh WBengal commie No wonder talk like sick nut You people war reality even Lefty Mamta sanghi Pathetic Haha wonder fear prodevelopment guy like Modi',\n",
       " 'Which second buy I might want half',\n",
       " 'And summer wasting away inside wrong',\n",
       " 'I would gotten car fucked',\n",
       " 'Shows know dipshit Remington Winchester made Chinaxa0 I swearxa0elitist assclowns like utter embarrassment',\n",
       " 'And proud lord said I must bow lowOnly cat differentufeff coatxa0thatu2019s truth I knowxa0In coat gold coat redxa0a lion still clawsxa0And mine long sharpxa0my lord long sharp yoursxa0And spokexa0and spokexa0that lord Castamerexa0But rains weep ou2019er hallxa0with one hearxa0Yes rains weep ou2019er hallxa0and soul hearnnEDITnREPLY',\n",
       " 'Well OP would learn diagnose Aspergers selfdiagnosis bad thing leading people act stupidly think disorderdiseasexa0that actuality',\n",
       " 'You went full retard Never go full retard',\n",
       " 'Somehow I feel Pakistan right middle garbage Yet United States keeps supplying arms money No sense',\n",
       " 'You act like faced good team You played like crap another crappy team',\n",
       " 'He still played say much And obviously Heat reserves going lose either way It Lebron Wade playing post season celtics need worry',\n",
       " 'That sounds familiar Mom picking subscriptions veto power stop',\n",
       " 'roCkhopperxa0Lancaster PA mah friend Wez ghetto',\n",
       " 'He right thing Too bad someone thing Sandusky',\n",
       " 'eish Wenger stupid mistake never admit anywayit good us Ox taken going lose match Wenger brilliant SubGood luck guys 4th spot',\n",
       " 'We thinking back time young GHWB goaded ambitious young wife eliminate JFK xa0it would go something like thisBabs I stand JFK get rid white trash xa0Then little later Babs said I stand MM gon na run mouth RK finished xa0Now would much better HBO moviethe whitewashed Bush Legacy getting tough swallow',\n",
       " 'talking conservatives cheered idea letting man ie didnt insurancennor conservatives booed gay soldier currently deployed',\n",
       " 'im sorry dont nobody pick somebody randomly start attackinglike went ham reason kimora seem like one lowkey stank bitches might true kimora played role aint black chick gon go like',\n",
       " 'People born gay since beginning timexc2xa0 Today social media web CONSTITUTION OF THE UNITED STATES going shutup anymorexc2xa0 Despite vile attacks right',\n",
       " 'Oh god one hilarious video It one Professor Layton rapist dude right XD I click I seen So funny No matter odd sounds',\n",
       " 'Wait said though country nice one world bout take food dog help feed population world thought america great right always try use theor ethics apparently losers like selfish andignorant',\n",
       " \"Gosh Peggy Hill make laughxc2xa0 In addition money Romney Newt bombastic serious liability general polls show intelligent conservatives feel style substancexc2xa0 Both thing office entirely different stylesxc2xa0 Newt ruffles feathers day long drawing stark contrasts even means lying exagerrating like calling Mitt antiimmigrant national TV unbelievablexc2xa0 And since Peggy Hill knows far less national politics I since I studied 25 years I inclined persuaded herxc2xa0 She describes political scene like I used 15 years ago little expertise I pay lot attention disagreennPeggy Hill Great American I love Newt dearly time vote heart way much stakexc2xa0 Newt world 's best field general hisxc2xa0temper tone wearing I conservative I imagine offended Independents beginning feelxc2xa0 nnSure helped Mitt raised money essential beating Dingle Barry Peggy Hill sounds like OWS'er ranting Mitt money thank God So Newt zombies really ought Hokey Pokey turn around lolnnIf Newt fold lies carpet bombing said would got zero chance beating Owebamao think Barry doesnnI care much Mitt uninspiring I know beat Owebamao I know attract Independents Latinos 2014 particularly RomneyRubio ticketxc2xa0 My first choice POTUS ChristyRubio ticket neither running back RomneynnBy time Super Tuesday rolls around Mitt prolly already clear front runner I never count Newt outnnBut Peggy Hill upset Mitt raised outspent Newt laughable supposed donnnBTW Remember SirensnnBeautiful halfwoman halfbirdlike Newt creatures sang sweet songs listeners forgot everything including safety The Sirens Newtish sisters lure sailors death The sonsg Sirens irresistible reside beyond unsurpassable reefs destroy sailors ' boat try reach Sirens Among tempted Jason Argo Odysseus Odysseus escaped filling crew 's ears wax tied ship 's mast sayin '\",\n",
       " 'fukin sketchers thats sad omg lol fuckin shitty ass sketchers fuck even named sketchers sketcherz fuckin suck ass',\n",
       " 'But care Mikeyxa0 Hey look likes itxa0 Hey Mikey likes',\n",
       " 'hope fix sooner',\n",
       " 'You married turd bred',\n",
       " 'HEY KRYSTAL YOU STUPID IDIOT WHO Understand Normal Thinking fhuck howre',\n",
       " 'huck huck huck giant pictures beating thecrap idiots like ok',\n",
       " 'mennWords I sure zoobs heard life',\n",
       " 'Dude red iPod says 98 today',\n",
       " 'Yes structures actually burned firexa0 The issue forest itselfxa0 talking millions acres dry forest area mountainous high percentage land accessible vehiclesxa0 This part would normal natrual cycle beetlekill trees average average minimal precipitationxa0 In meantime got smoke major city flames approachingxa0 Plus watershed South Platte heavily worked river state firedamaged areas wreak havic water quality precipitate flash floods',\n",
       " 'I introvert You wonderful person I like But please shush Hee Yeah I',\n",
       " 'He Michigan primaries Holy shit dumb',\n",
       " 'What axa0xa0 xa0xa0 txa0xa0 uxa0xa0 pxa0xa0 1xa0xa0 dxa0xa0xa0xa0 pxa0 h u c k kxa0 ixa0 nxa0 gxa0xa0xa0 kxa0 uxa0 uxa0 nxa0 nxa0 txa0',\n",
       " 'Israel diennI knew would bring Israel point',\n",
       " \"Remember haters screaming get rid Blanton season Where nownNot fat Joe pitching pudgy lil heart outohand guess whatthis team starting hitanother thing haters like dwell onwhere All Chollie bashers showing butts Whatsamatter Seeing faithful 's faith team well deserved Got ta luv paper fansgotta luv themget hell bandwagon wannabe calle fans\",\n",
       " 'He regretted killing quickly',\n",
       " 'I notice responded You care telling people dumb Again team UJ',\n",
       " 'Uhhh I hate Dodgers best team right I agree AL NL best team moment',\n",
       " \"I keep fresher next bitchnno needfor ever sweat next bitchnwith speed I make best bitch see exitindeedxa0nyou got ta know thoroughly respected menyou get keys Lexus drivernyou gotcha '96 suhinthe ridenand keep ass tighter Versace thats whynyou got ta watch friends got watch menthey conniving shitnthe first chance crack banknthey try get 50 cent franksnand papayas village telentime kill belly questionxa0nI got black chicks sheets Essencenthey say sex weapon I shootnmmet death less 8 secondsnstill poundin lifenlaugin shit tightnyou askin rightnnChorusnAint nigga like one I gotnno one fuck bettansleeps around gives alotnkeeps diamonds\",\n",
       " 'Nopeyour mathsits 159 played 16 draws Glenwood thankfull draw Maritzburg College better team field day',\n",
       " \"aarongmyers honest translation Ender 's Game great much like first book HP series I avoiding challenge Chinese long But I agree finding something fun read The key able provide ability comprehensible input reading Going dictionary every word still understanding reading one painful things deal language learner\",\n",
       " 'yeah well director interpretation always best insight things like especially something rabid fan base On top think condensing would likedeven golden age kinda meh comparison drama going would least liked show thing battle field',\n",
       " \"You KNOW RULES one DELETE equal 50 REPOSTSn37 WHAT EXAMPLE TOTALITARIANISM USA Here isLast August Obama 's DHS announced would longer deport noncitizen spouses gay Americansxa0xa0nLOL get yer musket Myrtle follow BUNKER take us alive\",\n",
       " \"From I see men like women physically fit You look like runway model YOU DO need look like take care eat reasonably well exercise Studies shown though I referencing information I read YEARS ago WM actually prefer larger body type WW large BM HM WW seem want size zero WM seem like athletic Swedish model body Anyway I think ladies look attractive However I understand fixation butts thighs WAY proportion rest one 's figure That attractive personally I get And seeing HUGE rear small girl make sense I know physically possible skinny arms legs waist still humongous derriere andor thighs Many men like nicesized butt including WM AM I know experience BW 's full round bottom necessarily problem men general But MOST men including BM want bottom obese looks like planet Get stay shape health opportunities BW\",\n",
       " 'better pola',\n",
       " 'oh know irreplacable Just ask',\n",
       " 'cheatingrangersxa0nxa0nWe shall see fool predicts future qualify',\n",
       " 'story Sporadic starts Never 5 innings',\n",
       " 'Ms Jenkums could please look atxa0the right hand corner topxa0and click red X never returnxa0again plsYou dumb know dumbClickxa0itxa0nowAnd come back hear',\n",
       " \"Listen fucking wanker approve comments long inflammatory type people We censor blatant bigotry But little dickwrinkles like calling pussy I would never censor Look postspeople wished AIDS dude soI 've heard worse fuckheadThat said sleep woman 60s pretty sad dude Try dating girls age kind weird way older chicks You might wan na rethink hugging mom boner going forwardPlus I ass every male entire family line fucked teeth small dicks ever seen Just point clarification bucket cunt slop\",\n",
       " 'Heyxa0ignb9606001de921324b66a3e5949ba481edisqusxa0 awesome',\n",
       " 'ima fuck 2 white bitches got sister ima fuck ass ima fuck ya ball headedxc2xa0 sister everybody go youtube look vid look info section fags address facebook parents name phone numbers real talk take looki aint snitch see shit like goin gets mei live around see em ima fuck upp good prolly gon na cut bitch',\n",
       " 'Retard everyone wasnt bad Everyone fallen angel blood God didnt want God wanted humans human angels angelic Not damn hybrid Read bible fuck interpretation',\n",
       " 'All racists like morons dude nnIt happens pit bull owners morons even convinced',\n",
       " 'hard read post immediately think xenophobic',\n",
       " 'Thanks Kosh I happy normal',\n",
       " 'You talented photographer',\n",
       " 'Woweexa0 Those highenergy smart dogsxa0 And weeks away deliveryxa0 Your life get even interesting already isxa0',\n",
       " 'noBjustRyan stubborn anyone else opinions name calling went far agree',\n",
       " 'Fuck Fred',\n",
       " 'They seem run away hide whenever question Fox News talking points',\n",
       " 'Michelle Obama suck I sick tired screwed Government telling us especially comes kids Stay hell lives Save REPUBLIC revolt socialism',\n",
       " \"go suckle mom 's teet little child\",\n",
       " 'Dezzy11 I know work lots countries europe brazil isreal know I sure work new zealand depending time dayif school receive server information minutes',\n",
       " 'Fan jag som trodde det var FI Att neka de som vill rxf6sta att rxf6sta xe4r allt annat xe4r civiliserat Att ta ut svxe4ngarna xe4r vxe4lbehxf6vt annars sker inga fxf6rxe4ndringar',\n",
       " 'You fucking idiot',\n",
       " 'That kind sexy photo though Who took',\n",
       " \"Flag loser 's posts Enough flags loses nic automatically\",\n",
       " 'I think drugs days laced little something extra The crime days unbelievable unthinkable',\n",
       " 'U Thurley may consenting adult worries bigot like himher consents',\n",
       " 'If claim power forgive Allah arrogate power avenge Are doublespeaking Why leave powers owner Allah allow fight Or capable We afraid afraid death Everyone eventually die killer killed Lord Jesus long time ago warned us sects like encouraged us afraid kill body harm kill souls ultimately goes back God kill Jesus forever remain Lord',\n",
       " 'Damien Sandow Leaping Lanny Poffo era',\n",
       " 'haha look face',\n",
       " 'I told poor excuse human respond post listenxa0 You ignorant pathetic piece fecesxa0 I hope younget deserve fatal accident soon',\n",
       " 'You soo beautiful',\n",
       " 'So happened wandered woods brothers swim meet Sounds like Deliverance',\n",
       " 'I imagine lives Virginia would live riffraff DC',\n",
       " 'Apparently bad officiating never gets old morons',\n",
       " 'Thanks confirming conservative men see women pair tits azz',\n",
       " \"SRQDawgs15 TheLadySportswriter Some opponents scoring Touchdowns Murray threw Defensive backs gave opponents really short fieldsnn nnI saying UGA great talent sides ball However consistency offense missing The short dumpoff passes missing And obviously running game OLine play missing However boneheaded CT runs middle flat footed draw plays fumbles critical times Murray pick 6 's demoralize young defensenn nnPersonally I would like see us never get behind game win every game 3 touchdowns Please forgive I asking much\",\n",
       " 'deal bro You concerned damn sure liberal Why instead coming posing screwed exaggeration people like understand Did mommy love enough something',\n",
       " 'obviously clean denial',\n",
       " 'I bet songs upcoming CD written This twit The message progressive She knows herxc2xa0 bread butterednnI never even heard hernnI bet write material Ms Hoe would major disappointment idiotic fansnnWhat message exorcism CBS management look like total knuckleheads No wonder ratings sucknnBring back garage bands They play instruments write material perform fansnnMost music truly sucks today Record executives even try find pure raw talent It seems try clone stars Visual imagery shock valuexc2xa0over solid RocknRollnn',\n",
       " \"Just thought About unwinnable illegal wars If illegal would think Bush Cheney would charges brought Fact level another example liberal media getting alll liberals wound tighter Dick 's hatband Just like little wind toys get started away go nnIt 's time start thinking Impeachment Dope Head Chief\",\n",
       " \"Define abortion objective terms Explain whole process abortions Explain see sonogram baby fingers toes fingerprints eyes heartbeat brainwaves Explain late term abortions Where pull baby 's head inject saline vacuum brains Pro choicers cowards core How brave lay responsibilities nightclub getting drunk unprotected sex kill living mistake\",\n",
       " 'Nxe5gonstans missar Sigfridxa0principfrxe5gan det gxe4ller nxe4r han drar paralleller till bilkxf6rning och droger som inte alls xe4r relevant till frxe5gan om rxf6strxe4tt sxe5tillvida att han inte anser att barnunga ska ha mxf6jlighet att kandidera till riksdagenxa0Eller xe4r han mxe5hxe4nda rxe4dd fxf6r att bli utmanad av nxe5gon politiskt insatt sjuxe5rig aspergarennnJag fxf6rstxe5r Sigfrid med rxe4tta har en ogrundad rxe4dsla fxf6r att minoritetspartier sxe5 som PP fxe5r mxf6jlighet att pxe5verka stxf6rre utstrxe4ckning om unga ges rxf6strxe4tt Men det finns frxe5gor som berxf6r alla medborgare oavsett xe5lder texxa0xa0fildelning skolpolitik och studiebidrag Man bxf6r dessutom inte dumfxf6rklara det allmxe4nna och fxf6rutsxe4tta att det besitter tillrxe4ckligt med rxe4ttspatos fxf6r att inte rxf6sta igenom nxe5got sxe5 absurt som sxe4nkt xe5ldersgrxe4ns fxf6r att kxf6pa alkohol xe4ven om det nu faktiskt inte xe4r ett problem att fxe5 tag sxe5dant eller kxf6ra bil oavsett myndighetsxe5lder och kxf6rkort Varfxf6r detxa0drasxa0till absurdumnAtt unga eller barn inte ges rxe4tt att vxe4ckaxa0opinion nxe4r en relevant frxe5ga fxf6r dessa lyftes xe4r bedrxf6vligt ur demokratisynpunkt Men Sigfrid menarxa0kanske intexa0att barn klassas som medborgare Det xe4r synnerligen skrxe4mmande med en sxe5dan snevriden syn pxe5 demokrati allra minst frxe5n en av vxe5ra folkvalda dxe5 dessa otvivelaktigt har ett svenskt medborgarskap vilket per definition bxf6r ge dom rxe4tt att pxe5verka Barn xe4r folkets framtid och ska med rxe4tta ges mxf6jlighet att pxe5verka om dessa sxe5 xf6nskarDet pxe5stxe5s att debatten ska fxf6ras pxe5 enxa0nxe5gorlundaxa0hxf6gxa0intellektuellxa0nivxe5 Men det xe4r ju precis tvxe4rtom det gxf6rs inte eftersom inte ens vuxna klarar av att vxe4lja vettiga politiska fxf6retrxe4dare eller sxe4tta sig vad exakt en rxf6st pxe5 tex moderaterna innebxe4rnnVi bxf6r strxe4va efter ett samhxe4lle dxe4r vi vxe5gar fxf6rxe4ndra saker och ta ut svxe4ngarna en bit taget I vxe4rsta fall xe4r fxf6rxe4ndringarnaxa0reversiblannI korthet Ja till att ge yngre medborgare rxf6strxe4tt om dom vill utnyttja denna Dxe4remot kan man behxf6va besluta om att partier inte fxe5r nyttja fulknep fxf6r att vilseleda vxe4ljare innan detta beslutas vilket xe4r en frxe5ga som behxf6ver arbetas igenom innan ett eventuellt beslut tas allt fxf6r att sxe4kerstxe4lla att politiken blir mer transparent',\n",
       " 'Klein coward Did really interview guys mock nnBest part stop short belittling Scheartz Even know would probably last straw downward career',\n",
       " 'oh sudden u changed ur picture A WHITE GUY WITH PENNY LOAFERSMUFUCKER U LAME',\n",
       " 'naive basic grasp biology',\n",
       " 'nope Mets fine held together far played admirably',\n",
       " 'You forgot mention little proof allegations fake birth certificate credible Just saying million times make true',\n",
       " 'Nobody gives shit say',\n",
       " 'You unemployed welfare',\n",
       " 'I saying I agree nonsense xc2xa0Like I said I understand would I want live city like San Francisco reason xc2xa0But mean right live life way want xc2xa0Who I anyone else tell live lives xc2xa0I know one gay person relative xc2xa0And kindest giving sincere person I ever known xc2xa0When I hear comments bigots like 2012Skeeter makes blood boil xc2xa0',\n",
       " 'I think want trophies SHOULD play ALL game People work hard game bothered play CARE much getting trophy',\n",
       " ...]"
      ]
     },
     "execution_count": 19,
     "metadata": {},
     "output_type": "execute_result"
    }
   ],
   "source": [
    "normalized_data"
   ]
  },
  {
   "cell_type": "code",
   "execution_count": 20,
   "id": "a9478716",
   "metadata": {},
   "outputs": [],
   "source": [
    "train_corpus = normalized_data[:3947]\n",
    "test_corpus = normalized_data[3947:]"
   ]
  },
  {
   "cell_type": "code",
   "execution_count": 21,
   "id": "068fb72b",
   "metadata": {},
   "outputs": [],
   "source": [
    "def feat_extract(data,ngram_range):\n",
    "    vectorizer = CountVectorizer(min_df=1,ngram_range=ngram_range)\n",
    "    feature = vectorizer.fit_transform(data)\n",
    "    return(vectorizer,feature)\n",
    "\n",
    "train_vec,train_feat = feat_extract(data=train_corpus,ngram_range=(1,3))"
   ]
  },
  {
   "cell_type": "code",
   "execution_count": 22,
   "id": "7f2f0ff8",
   "metadata": {},
   "outputs": [],
   "source": [
    "test_feat = train_vec.transform(test_corpus)"
   ]
  },
  {
   "cell_type": "code",
   "execution_count": 23,
   "id": "c6094ba8",
   "metadata": {},
   "outputs": [],
   "source": [
    "train_features = train_feat.todense()\n",
    "test_features = test_feat.todense()"
   ]
  },
  {
   "cell_type": "code",
   "execution_count": 20,
   "id": "9f23e66a",
   "metadata": {},
   "outputs": [
    {
     "data": {
      "text/plain": [
       "((3947, 144452), (2647, 144452))"
      ]
     },
     "execution_count": 20,
     "metadata": {},
     "output_type": "execute_result"
    }
   ],
   "source": [
    "train_features.shape, test_features.shape"
   ]
  },
  {
   "cell_type": "code",
   "execution_count": 24,
   "id": "338caa18",
   "metadata": {},
   "outputs": [],
   "source": [
    "def tfidf_transformer(matrix):\n",
    "    transform = TfidfTransformer(norm='l2',smooth_idf=True,use_idf=True)\n",
    "    tfidf_matrix = transform.fit_transform(matrix)\n",
    "    \n",
    "    return(transform, tfidf_matrix)"
   ]
  },
  {
   "cell_type": "code",
   "execution_count": 25,
   "id": "8df39230",
   "metadata": {},
   "outputs": [
    {
     "name": "stderr",
     "output_type": "stream",
     "text": [
      "/Library/anaconda3/lib/python3.7/site-packages/sklearn/utils/validation.py:598: FutureWarning: np.matrix usage is deprecated in 1.0 and will raise a TypeError in 1.2. Please convert to a numpy array with np.asarray. For more information see: https://numpy.org/doc/stable/reference/generated/numpy.matrix.html\n",
      "  FutureWarning,\n",
      "/Library/anaconda3/lib/python3.7/site-packages/sklearn/utils/validation.py:598: FutureWarning: np.matrix usage is deprecated in 1.0 and will raise a TypeError in 1.2. Please convert to a numpy array with np.asarray. For more information see: https://numpy.org/doc/stable/reference/generated/numpy.matrix.html\n",
      "  FutureWarning,\n"
     ]
    }
   ],
   "source": [
    "train_transform , train_matrix = tfidf_transformer(train_features)\n",
    "\n",
    "train_final_feature = train_matrix.todense()"
   ]
  },
  {
   "cell_type": "code",
   "execution_count": 26,
   "id": "c29d4b50",
   "metadata": {},
   "outputs": [
    {
     "name": "stderr",
     "output_type": "stream",
     "text": [
      "/Library/anaconda3/lib/python3.7/site-packages/sklearn/utils/validation.py:598: FutureWarning: np.matrix usage is deprecated in 1.0 and will raise a TypeError in 1.2. Please convert to a numpy array with np.asarray. For more information see: https://numpy.org/doc/stable/reference/generated/numpy.matrix.html\n",
      "  FutureWarning,\n"
     ]
    }
   ],
   "source": [
    "test_final_feature = train_transform.transform(test_features).todense()"
   ]
  },
  {
   "cell_type": "code",
   "execution_count": 27,
   "id": "a36b2394",
   "metadata": {},
   "outputs": [],
   "source": [
    "X_training,X_testing=sparse.csr_matrix(train_final_feature),sparse.csr_matrix(test_final_feature)"
   ]
  },
  {
   "cell_type": "code",
   "execution_count": 215,
   "id": "d87d0662",
   "metadata": {},
   "outputs": [
    {
     "data": {
      "text/plain": [
       "(3947, 144452)"
      ]
     },
     "execution_count": 215,
     "metadata": {},
     "output_type": "execute_result"
    }
   ],
   "source": [
    "X_training.shape"
   ]
  },
  {
   "cell_type": "code",
   "execution_count": 219,
   "id": "c06e12a8",
   "metadata": {},
   "outputs": [
    {
     "data": {
      "text/plain": [
       "(3947,)"
      ]
     },
     "execution_count": 219,
     "metadata": {},
     "output_type": "execute_result"
    }
   ],
   "source": [
    "train_label.shape"
   ]
  },
  {
   "cell_type": "code",
   "execution_count": 28,
   "id": "de858a8b",
   "metadata": {},
   "outputs": [],
   "source": [
    "from sklearn.model_selection import train_test_split\n",
    "from sklearn.metrics import accuracy_score\n",
    "from sklearn.metrics import f1_score,recall_score,precision_score\n",
    "from sklearn.model_selection import cross_val_score\n",
    "\n",
    "from sklearn.naive_bayes import MultinomialNB"
   ]
  },
  {
   "cell_type": "code",
   "execution_count": 217,
   "id": "fc19b320",
   "metadata": {},
   "outputs": [],
   "source": [
    "NB = MultinomialNB()"
   ]
  },
  {
   "cell_type": "code",
   "execution_count": 220,
   "id": "222b8631",
   "metadata": {},
   "outputs": [
    {
     "name": "stdout",
     "output_type": "stream",
     "text": [
      "0.7555723460521345\n",
      "0.7555723460521345 Accuracy\n",
      "0.6665052911750317 F1_score\n",
      "0.7555723460521345 recall_score/sensitivity\n",
      "0.8110622794097232 precision_score\n"
     ]
    }
   ],
   "source": [
    "NB.fit(X=X_training,y=train_label)\n",
    "\n",
    "cross_val_score(estimator=NB,X=X_testing,y=test_label,cv=5)\n",
    "\n",
    "NB_pred = NB.predict(X_testing)\n",
    "\n",
    "print(accuracy_score(y_true=test_label,y_pred=NB_pred))\n",
    "      \n",
    "\n",
    "print(accuracy_score(y_true=test_label,y_pred=NB_pred),\"Accuracy\")\n",
    "\n",
    "print(f1_score(y_true=test_label,y_pred=NB_pred,average='weighted'),\"F1_score\")\n",
    "\n",
    "print(recall_score(y_true=test_label,y_pred=NB_pred,average='weighted'),\"recall_score/sensitivity\")\n",
    "\n",
    "print(precision_score(y_true=test_label,y_pred=NB_pred,average='weighted'),\"precision_score\")"
   ]
  },
  {
   "cell_type": "code",
   "execution_count": 49,
   "id": "f7010ede",
   "metadata": {},
   "outputs": [
    {
     "name": "stdout",
     "output_type": "stream",
     "text": [
      "0.8250850018889309\n",
      "0.8250850018889309 Accuracy\n",
      "0.80774006032382 F1_score\n",
      "0.8250850018889309 recall_score/sensitivity\n",
      "0.8201840648379932 precision_score\n"
     ]
    }
   ],
   "source": [
    "from sklearn.linear_model import SGDClassifier\n",
    "SGD = SGDClassifier(loss='log')\n",
    "\n",
    "SGD.fit(X=X_training,y=train_label)\n",
    "\n",
    "cross_val_score(estimator=SGD,X=X_testing,y=test_label,cv=5)\n",
    "\n",
    "SGD_pred = SGD.predict(X_testing)\n",
    "\n",
    "print(accuracy_score(y_true=test_label,y_pred=SGD_pred))\n",
    "      \n",
    "\n",
    "print(accuracy_score(y_true=test_label,y_pred=SGD_pred),\"Accuracy\")\n",
    "\n",
    "print(f1_score(y_true=test_label,y_pred=SGD_pred,average='weighted'),\"F1_score\")\n",
    "\n",
    "print(recall_score(y_true=test_label,y_pred=SGD_pred,average='weighted'),\"recall_score/sensitivity\")\n",
    "\n",
    "print(precision_score(y_true=test_label,y_pred=SGD_pred,average='weighted'),\"precision_score\")"
   ]
  },
  {
   "cell_type": "code",
   "execution_count": 31,
   "id": "9793fda5",
   "metadata": {},
   "outputs": [],
   "source": [
    "def metric(clf, X_test, y_test):\n",
    "    cross_val_score(estimator=clf,X=X_test,y=y_test,cv=5)\n",
    "    y_pred = clf.predict(X_test)\n",
    "    \n",
    "    print(cross_val_score(estimator=clf,X=X_test,y=y_test,cv=5), \"cross_val_score\")\n",
    "    \n",
    "    print(accuracy_score(y_true=y_test,y_pred=y_pred), \"Accuracy\")\n",
    "\n",
    "    print(f1_score(y_true=y_test,y_pred=y_pred,average='weighted'),\"F1_score\")\n",
    "\n",
    "    print(recall_score(y_true=y_test,y_pred=y_pred,average='weighted'),\"recall_score/sensitivity\")\n",
    "\n",
    "    print(precision_score(y_true=y_test,y_pred=y_pred,average='weighted'),\"precision_score\")\n",
    "    \n",
    "    return y_pred"
   ]
  },
  {
   "cell_type": "code",
   "execution_count": 44,
   "id": "6eb9811b",
   "metadata": {},
   "outputs": [],
   "source": [
    "from sklearn.linear_model import LogisticRegression\n",
    "LogReg = LogisticRegression(random_state=0).fit(X=X_training,y=train_label)\n",
    "\n",
    "\n"
   ]
  },
  {
   "cell_type": "code",
   "execution_count": 234,
   "id": "6146474f",
   "metadata": {},
   "outputs": [
    {
     "name": "stdout",
     "output_type": "stream",
     "text": [
      "[0.78301887 0.80754717 0.78827977 0.78827977 0.78071834] cross_val_score\n",
      "0.8114846996599925 Accuracy\n",
      "0.7797702967189972 F1_score\n",
      "0.8114846996599925 recall_score/sensitivity\n",
      "0.8189941929725858 precision_score\n"
     ]
    },
    {
     "data": {
      "text/plain": [
       "array([0, 0, 1, ..., 0, 0, 0])"
      ]
     },
     "execution_count": 234,
     "metadata": {},
     "output_type": "execute_result"
    }
   ],
   "source": [
    "metric(LogReg, X_testing, test_label)"
   ]
  },
  {
   "cell_type": "code",
   "execution_count": 227,
   "id": "1a817fed",
   "metadata": {},
   "outputs": [
    {
     "data": {
      "text/plain": [
       "array([[0.84136933, 0.15863067],\n",
       "       [0.71880028, 0.28119972],\n",
       "       [0.42264694, 0.57735306],\n",
       "       ...,\n",
       "       [0.79112236, 0.20887764],\n",
       "       [0.65102394, 0.34897606],\n",
       "       [0.80561888, 0.19438112]])"
      ]
     },
     "execution_count": 227,
     "metadata": {},
     "output_type": "execute_result"
    }
   ],
   "source": [
    "LogReg.predict_proba(X_testing)"
   ]
  },
  {
   "cell_type": "code",
   "execution_count": 228,
   "id": "471fa12c",
   "metadata": {},
   "outputs": [
    {
     "name": "stdout",
     "output_type": "stream",
     "text": [
      "0.8156403475632792 Accuracy\n",
      "0.8123592336522836 F1_score\n",
      "0.8156403475632792 recall_score/sensitivity\n",
      "0.8104140776043635 precision_score\n"
     ]
    },
    {
     "data": {
      "text/plain": [
       "array([0, 0, 1, ..., 0, 1, 0])"
      ]
     },
     "execution_count": 228,
     "metadata": {},
     "output_type": "execute_result"
    }
   ],
   "source": [
    "metric(SGD, X_testing, test_label)"
   ]
  },
  {
   "cell_type": "code",
   "execution_count": 29,
   "id": "492a59b0",
   "metadata": {},
   "outputs": [],
   "source": [
    "from sklearn.ensemble import GradientBoostingClassifier\n",
    "GB = GradientBoostingClassifier(random_state=0).fit(X=X_training,y=train_label)"
   ]
  },
  {
   "cell_type": "code",
   "execution_count": 30,
   "id": "ecec902a",
   "metadata": {},
   "outputs": [
    {
     "ename": "NameError",
     "evalue": "name 'metric' is not defined",
     "output_type": "error",
     "traceback": [
      "\u001b[0;31m---------------------------------------------------------------------------\u001b[0m",
      "\u001b[0;31mNameError\u001b[0m                                 Traceback (most recent call last)",
      "\u001b[0;32m/var/folders/nz/jn46yvw155q0l_6bpm5shgdc0000gn/T/ipykernel_5719/3773817206.py\u001b[0m in \u001b[0;36m<module>\u001b[0;34m\u001b[0m\n\u001b[0;32m----> 1\u001b[0;31m \u001b[0mmetric\u001b[0m\u001b[0;34m(\u001b[0m\u001b[0mGB\u001b[0m\u001b[0;34m,\u001b[0m \u001b[0mX_testing\u001b[0m\u001b[0;34m,\u001b[0m \u001b[0mtest_label\u001b[0m\u001b[0;34m)\u001b[0m\u001b[0;34m\u001b[0m\u001b[0;34m\u001b[0m\u001b[0m\n\u001b[0m",
      "\u001b[0;31mNameError\u001b[0m: name 'metric' is not defined"
     ]
    }
   ],
   "source": [
    "metric(GB, X_testing, test_label)"
   ]
  },
  {
   "cell_type": "code",
   "execution_count": 25,
   "id": "1c9774c8",
   "metadata": {},
   "outputs": [],
   "source": [
    "from sklearn.ensemble import RandomForestClassifier\n",
    "RF = RandomForestClassifier(random_state=0).fit(X=X_training,y=train_label)"
   ]
  },
  {
   "cell_type": "code",
   "execution_count": 28,
   "id": "487cb27a",
   "metadata": {},
   "outputs": [
    {
     "name": "stdout",
     "output_type": "stream",
     "text": [
      "[0.76981132 0.79245283 0.78449905 0.76748582 0.77882798] cross_val_score\n",
      "0.8190404231205138 Accuracy\n",
      "0.80006217955237 F1_score\n",
      "0.8190404231205138 recall_score/sensitivity\n",
      "0.8131986770782436 precision_score\n"
     ]
    },
    {
     "data": {
      "text/plain": [
       "array([0, 0, 1, ..., 0, 0, 0])"
      ]
     },
     "execution_count": 28,
     "metadata": {},
     "output_type": "execute_result"
    }
   ],
   "source": [
    "metric(RF, X_testing, test_label)"
   ]
  },
  {
   "cell_type": "code",
   "execution_count": 235,
   "id": "b4bee4ff",
   "metadata": {},
   "outputs": [],
   "source": [
    "d = {'a': [1,2,3], 'b': [2,3,4], 'c': [3,4,5]}"
   ]
  },
  {
   "cell_type": "code",
   "execution_count": 236,
   "id": "d31f37c2",
   "metadata": {},
   "outputs": [
    {
     "data": {
      "text/plain": [
       "{'a': [1, 2, 3], 'b': [2, 3, 4], 'c': [3, 4, 5]}"
      ]
     },
     "execution_count": 236,
     "metadata": {},
     "output_type": "execute_result"
    }
   ],
   "source": [
    "d"
   ]
  },
  {
   "cell_type": "code",
   "execution_count": 239,
   "id": "64bf1afa",
   "metadata": {},
   "outputs": [
    {
     "data": {
      "text/html": [
       "<div>\n",
       "<style scoped>\n",
       "    .dataframe tbody tr th:only-of-type {\n",
       "        vertical-align: middle;\n",
       "    }\n",
       "\n",
       "    .dataframe tbody tr th {\n",
       "        vertical-align: top;\n",
       "    }\n",
       "\n",
       "    .dataframe thead th {\n",
       "        text-align: right;\n",
       "    }\n",
       "</style>\n",
       "<table border=\"1\" class=\"dataframe\">\n",
       "  <thead>\n",
       "    <tr style=\"text-align: right;\">\n",
       "      <th></th>\n",
       "      <th>a</th>\n",
       "      <th>b</th>\n",
       "      <th>c</th>\n",
       "    </tr>\n",
       "  </thead>\n",
       "  <tbody>\n",
       "    <tr>\n",
       "      <th>e</th>\n",
       "      <td>1</td>\n",
       "      <td>2</td>\n",
       "      <td>3</td>\n",
       "    </tr>\n",
       "    <tr>\n",
       "      <th>f</th>\n",
       "      <td>2</td>\n",
       "      <td>3</td>\n",
       "      <td>4</td>\n",
       "    </tr>\n",
       "    <tr>\n",
       "      <th>g</th>\n",
       "      <td>3</td>\n",
       "      <td>4</td>\n",
       "      <td>5</td>\n",
       "    </tr>\n",
       "  </tbody>\n",
       "</table>\n",
       "</div>"
      ],
      "text/plain": [
       "   a  b  c\n",
       "e  1  2  3\n",
       "f  2  3  4\n",
       "g  3  4  5"
      ]
     },
     "execution_count": 239,
     "metadata": {},
     "output_type": "execute_result"
    }
   ],
   "source": [
    "pd.DataFrame(d, index=['e', 'f', 'g'])"
   ]
  },
  {
   "cell_type": "code",
   "execution_count": 53,
   "id": "6424385d",
   "metadata": {},
   "outputs": [],
   "source": [
    "def metrics(clf_lst, X_test, y_test):\n",
    "    \n",
    "    metrics = []\n",
    "    for clf in clf_lst:\n",
    "        metrics_lst = []\n",
    "        cross_val_score(estimator=clf,X=X_test,y=y_test,cv=5)\n",
    "        y_pred = clf.predict(X_test)\n",
    "        metrics_lst.append(accuracy_score(y_true=y_test,y_pred=y_pred))\n",
    "        metrics_lst.append(f1_score(y_true=y_test,y_pred=y_pred,average='weighted'))\n",
    "        metrics_lst.append(recall_score(y_true=y_test,y_pred=y_pred,average='weighted'))\n",
    "        metrics_lst.append(precision_score(y_true=y_test,y_pred=y_pred,average='weighted'))\n",
    "        \n",
    "        metrics.append(metrics_lst)\n",
    "    return metrics"
   ]
  },
  {
   "cell_type": "code",
   "execution_count": 71,
   "id": "987dafa2",
   "metadata": {
    "scrolled": true
   },
   "outputs": [],
   "source": [
    "classifiers_lst = []\n",
    "\n",
    "NB = MultinomialNB()\n",
    "NB.fit(X=X_training,y=train_label)\n",
    "classifiers_lst.append(NB)\n",
    "\n",
    "SGD = SGDClassifier(loss='log')\n",
    "SGD.fit(X=X_training,y=train_label)\n",
    "classifiers_lst.append(SGD)\n",
    "\n",
    "LogReg = LogisticRegression()\n",
    "LogReg.fit(X=X_training,y=train_label)\n",
    "classifiers_lst.append(LogReg)\n",
    "\n",
    "GB = GradientBoostingClassifier()\n",
    "GB.fit(X=X_training,y=train_label)\n",
    "classifiers_lst.append(GB)\n",
    "\n",
    "RF = RandomForestClassifier()\n",
    "RF.fit(X=X_training,y=train_label)\n",
    "classifiers_lst.append(RF)\n",
    "\n",
    "metrics_dict = metrics(classifiers_lst, X_testing, test_label)  \n"
   ]
  },
  {
   "cell_type": "code",
   "execution_count": 247,
   "id": "168105a5",
   "metadata": {},
   "outputs": [],
   "source": [
    "metrics_dict = metrics(classifiers_lst, X_testing, test_label)"
   ]
  },
  {
   "cell_type": "code",
   "execution_count": 249,
   "id": "fe7447d9",
   "metadata": {
    "scrolled": true
   },
   "outputs": [
    {
     "data": {
      "text/html": [
       "<div>\n",
       "<style scoped>\n",
       "    .dataframe tbody tr th:only-of-type {\n",
       "        vertical-align: middle;\n",
       "    }\n",
       "\n",
       "    .dataframe tbody tr th {\n",
       "        vertical-align: top;\n",
       "    }\n",
       "\n",
       "    .dataframe thead th {\n",
       "        text-align: right;\n",
       "    }\n",
       "</style>\n",
       "<table border=\"1\" class=\"dataframe\">\n",
       "  <thead>\n",
       "    <tr style=\"text-align: right;\">\n",
       "      <th></th>\n",
       "      <th>0</th>\n",
       "      <th>1</th>\n",
       "      <th>2</th>\n",
       "      <th>3</th>\n",
       "    </tr>\n",
       "  </thead>\n",
       "  <tbody>\n",
       "    <tr>\n",
       "      <th>0</th>\n",
       "      <td>0.755572</td>\n",
       "      <td>0.666505</td>\n",
       "      <td>0.755572</td>\n",
       "      <td>0.811062</td>\n",
       "    </tr>\n",
       "    <tr>\n",
       "      <th>1</th>\n",
       "      <td>0.815640</td>\n",
       "      <td>0.812154</td>\n",
       "      <td>0.815640</td>\n",
       "      <td>0.810165</td>\n",
       "    </tr>\n",
       "    <tr>\n",
       "      <th>2</th>\n",
       "      <td>0.811485</td>\n",
       "      <td>0.779770</td>\n",
       "      <td>0.811485</td>\n",
       "      <td>0.818994</td>\n",
       "    </tr>\n",
       "    <tr>\n",
       "      <th>3</th>\n",
       "      <td>0.812996</td>\n",
       "      <td>0.795830</td>\n",
       "      <td>0.812996</td>\n",
       "      <td>0.803682</td>\n",
       "    </tr>\n",
       "    <tr>\n",
       "      <th>4</th>\n",
       "      <td>0.819796</td>\n",
       "      <td>0.802597</td>\n",
       "      <td>0.819796</td>\n",
       "      <td>0.812784</td>\n",
       "    </tr>\n",
       "  </tbody>\n",
       "</table>\n",
       "</div>"
      ],
      "text/plain": [
       "          0         1         2         3\n",
       "0  0.755572  0.666505  0.755572  0.811062\n",
       "1  0.815640  0.812154  0.815640  0.810165\n",
       "2  0.811485  0.779770  0.811485  0.818994\n",
       "3  0.812996  0.795830  0.812996  0.803682\n",
       "4  0.819796  0.802597  0.819796  0.812784"
      ]
     },
     "execution_count": 249,
     "metadata": {},
     "output_type": "execute_result"
    }
   ],
   "source": [
    "pd.DataFrame(metrics_dict)"
   ]
  },
  {
   "cell_type": "code",
   "execution_count": 56,
   "id": "93bb10d2",
   "metadata": {},
   "outputs": [
    {
     "name": "stdout",
     "output_type": "stream",
     "text": [
      "Note: you may need to restart the kernel to use updated packages.\n"
     ]
    }
   ],
   "source": [
    "pip install dataframe-image --quiet"
   ]
  },
  {
   "cell_type": "code",
   "execution_count": 57,
   "id": "4200cccf",
   "metadata": {},
   "outputs": [],
   "source": [
    "import dataframe_image as dfi"
   ]
  },
  {
   "cell_type": "code",
   "execution_count": 59,
   "id": "40eeeb27",
   "metadata": {},
   "outputs": [
    {
     "data": {
      "text/plain": [
       "'0.1.1'"
      ]
     },
     "execution_count": 59,
     "metadata": {},
     "output_type": "execute_result"
    }
   ],
   "source": [
    "dfi.__version__"
   ]
  },
  {
   "cell_type": "code",
   "execution_count": 58,
   "id": "009af302",
   "metadata": {},
   "outputs": [
    {
     "name": "stderr",
     "output_type": "stream",
     "text": [
      "[0425/004029.099140:INFO:headless_shell.cc(659)] Written to file /var/folders/nz/jn46yvw155q0l_6bpm5shgdc0000gn/T/tmpwfgy6cc1/temp.png.\n"
     ]
    }
   ],
   "source": [
    "df = pd.DataFrame(metrics_dict, \n",
    "             columns=['Accuracy', 'F1_score', 'recall_score', 'precision_score'], \n",
    "             index = ['Naive Bayes', \"SGD\", \"Logistic Regression\", 'GradientBoosting', 'RandomForest'])\n",
    "dfi.export(df, 'clf_metrics.png')\n",
    "\n"
   ]
  },
  {
   "cell_type": "code",
   "execution_count": 264,
   "id": "f04606e7",
   "metadata": {},
   "outputs": [
    {
     "data": {
      "image/png": "[encoded data removed]",
      "text/plain": [
       "<Figure size 720x720 with 1 Axes>"
      ]
     },
     "metadata": {
      "needs_background": "light"
     },
     "output_type": "display_data"
    }
   ],
   "source": [
    "df.T.plot(kind='bar', figsize = (10, 10), )\n",
    "plt.xticks(rotation=360)\n",
    "plt.legend(loc='lower right')\n",
    "plt.savefig('clf_metrics.png')"
   ]
  },
  {
   "cell_type": "code",
   "execution_count": null,
   "id": "c13d8200",
   "metadata": {},
   "outputs": [],
   "source": []
  },
  {
   "cell_type": "code",
   "execution_count": null,
   "id": "e01634c2",
   "metadata": {},
   "outputs": [],
   "source": []
  },
  {
   "cell_type": "code",
   "execution_count": 34,
   "id": "daed72a9",
   "metadata": {},
   "outputs": [],
   "source": [
    "anti_vac = pd.read_csv('antiva_dataset.csv')"
   ]
  },
  {
   "cell_type": "code",
   "execution_count": 35,
   "id": "32cfd535",
   "metadata": {},
   "outputs": [
    {
     "data": {
      "text/html": [
       "<div>\n",
       "<style scoped>\n",
       "    .dataframe tbody tr th:only-of-type {\n",
       "        vertical-align: middle;\n",
       "    }\n",
       "\n",
       "    .dataframe tbody tr th {\n",
       "        vertical-align: top;\n",
       "    }\n",
       "\n",
       "    .dataframe thead th {\n",
       "        text-align: right;\n",
       "    }\n",
       "</style>\n",
       "<table border=\"1\" class=\"dataframe\">\n",
       "  <thead>\n",
       "    <tr style=\"text-align: right;\">\n",
       "      <th></th>\n",
       "      <th>video</th>\n",
       "      <th>nlikes</th>\n",
       "      <th>nreplies</th>\n",
       "      <th>nretweets</th>\n",
       "    </tr>\n",
       "  </thead>\n",
       "  <tbody>\n",
       "    <tr>\n",
       "      <th>count</th>\n",
       "      <td>9432.000000</td>\n",
       "      <td>9432.000000</td>\n",
       "      <td>9432.000000</td>\n",
       "      <td>9432.000000</td>\n",
       "    </tr>\n",
       "    <tr>\n",
       "      <th>mean</th>\n",
       "      <td>0.137935</td>\n",
       "      <td>14.447413</td>\n",
       "      <td>1.982082</td>\n",
       "      <td>2.673770</td>\n",
       "    </tr>\n",
       "    <tr>\n",
       "      <th>std</th>\n",
       "      <td>0.344850</td>\n",
       "      <td>613.173146</td>\n",
       "      <td>59.754165</td>\n",
       "      <td>107.621273</td>\n",
       "    </tr>\n",
       "    <tr>\n",
       "      <th>min</th>\n",
       "      <td>0.000000</td>\n",
       "      <td>0.000000</td>\n",
       "      <td>0.000000</td>\n",
       "      <td>0.000000</td>\n",
       "    </tr>\n",
       "    <tr>\n",
       "      <th>25%</th>\n",
       "      <td>0.000000</td>\n",
       "      <td>0.000000</td>\n",
       "      <td>0.000000</td>\n",
       "      <td>0.000000</td>\n",
       "    </tr>\n",
       "    <tr>\n",
       "      <th>50%</th>\n",
       "      <td>0.000000</td>\n",
       "      <td>1.000000</td>\n",
       "      <td>0.000000</td>\n",
       "      <td>0.000000</td>\n",
       "    </tr>\n",
       "    <tr>\n",
       "      <th>75%</th>\n",
       "      <td>0.000000</td>\n",
       "      <td>2.000000</td>\n",
       "      <td>1.000000</td>\n",
       "      <td>0.000000</td>\n",
       "    </tr>\n",
       "    <tr>\n",
       "      <th>max</th>\n",
       "      <td>1.000000</td>\n",
       "      <td>59099.000000</td>\n",
       "      <td>5647.000000</td>\n",
       "      <td>10325.000000</td>\n",
       "    </tr>\n",
       "  </tbody>\n",
       "</table>\n",
       "</div>"
      ],
      "text/plain": [
       "             video        nlikes     nreplies     nretweets\n",
       "count  9432.000000   9432.000000  9432.000000   9432.000000\n",
       "mean      0.137935     14.447413     1.982082      2.673770\n",
       "std       0.344850    613.173146    59.754165    107.621273\n",
       "min       0.000000      0.000000     0.000000      0.000000\n",
       "25%       0.000000      0.000000     0.000000      0.000000\n",
       "50%       0.000000      1.000000     0.000000      0.000000\n",
       "75%       0.000000      2.000000     1.000000      0.000000\n",
       "max       1.000000  59099.000000  5647.000000  10325.000000"
      ]
     },
     "execution_count": 35,
     "metadata": {},
     "output_type": "execute_result"
    }
   ],
   "source": [
    "anti_vac.iloc[:,20:26].describe()"
   ]
  },
  {
   "cell_type": "code",
   "execution_count": 36,
   "id": "7ac8ea70",
   "metadata": {},
   "outputs": [],
   "source": [
    "a = anti_vac[anti_vac.nlikes < 200]"
   ]
  },
  {
   "cell_type": "code",
   "execution_count": 120,
   "id": "ba9e3f92",
   "metadata": {},
   "outputs": [
    {
     "data": {
      "text/html": [
       "<div>\n",
       "<style scoped>\n",
       "    .dataframe tbody tr th:only-of-type {\n",
       "        vertical-align: middle;\n",
       "    }\n",
       "\n",
       "    .dataframe tbody tr th {\n",
       "        vertical-align: top;\n",
       "    }\n",
       "\n",
       "    .dataframe thead th {\n",
       "        text-align: right;\n",
       "    }\n",
       "</style>\n",
       "<table border=\"1\" class=\"dataframe\">\n",
       "  <thead>\n",
       "    <tr style=\"text-align: right;\">\n",
       "      <th></th>\n",
       "      <th>video</th>\n",
       "      <th>nlikes</th>\n",
       "      <th>nreplies</th>\n",
       "      <th>nretweets</th>\n",
       "      <th>near</th>\n",
       "    </tr>\n",
       "  </thead>\n",
       "  <tbody>\n",
       "    <tr>\n",
       "      <th>count</th>\n",
       "      <td>9372.000000</td>\n",
       "      <td>9372.000000</td>\n",
       "      <td>9372.000000</td>\n",
       "      <td>9372.000000</td>\n",
       "      <td>0.0</td>\n",
       "    </tr>\n",
       "    <tr>\n",
       "      <th>mean</th>\n",
       "      <td>0.136684</td>\n",
       "      <td>4.398848</td>\n",
       "      <td>1.032224</td>\n",
       "      <td>0.854673</td>\n",
       "      <td>NaN</td>\n",
       "    </tr>\n",
       "    <tr>\n",
       "      <th>std</th>\n",
       "      <td>0.343531</td>\n",
       "      <td>15.181431</td>\n",
       "      <td>4.334586</td>\n",
       "      <td>4.209690</td>\n",
       "      <td>NaN</td>\n",
       "    </tr>\n",
       "    <tr>\n",
       "      <th>min</th>\n",
       "      <td>0.000000</td>\n",
       "      <td>0.000000</td>\n",
       "      <td>0.000000</td>\n",
       "      <td>0.000000</td>\n",
       "      <td>NaN</td>\n",
       "    </tr>\n",
       "    <tr>\n",
       "      <th>25%</th>\n",
       "      <td>0.000000</td>\n",
       "      <td>0.000000</td>\n",
       "      <td>0.000000</td>\n",
       "      <td>0.000000</td>\n",
       "      <td>NaN</td>\n",
       "    </tr>\n",
       "    <tr>\n",
       "      <th>50%</th>\n",
       "      <td>0.000000</td>\n",
       "      <td>0.000000</td>\n",
       "      <td>0.000000</td>\n",
       "      <td>0.000000</td>\n",
       "      <td>NaN</td>\n",
       "    </tr>\n",
       "    <tr>\n",
       "      <th>75%</th>\n",
       "      <td>0.000000</td>\n",
       "      <td>2.000000</td>\n",
       "      <td>1.000000</td>\n",
       "      <td>0.000000</td>\n",
       "      <td>NaN</td>\n",
       "    </tr>\n",
       "    <tr>\n",
       "      <th>max</th>\n",
       "      <td>1.000000</td>\n",
       "      <td>199.000000</td>\n",
       "      <td>173.000000</td>\n",
       "      <td>120.000000</td>\n",
       "      <td>NaN</td>\n",
       "    </tr>\n",
       "  </tbody>\n",
       "</table>\n",
       "</div>"
      ],
      "text/plain": [
       "             video       nlikes     nreplies    nretweets  near\n",
       "count  9372.000000  9372.000000  9372.000000  9372.000000   0.0\n",
       "mean      0.136684     4.398848     1.032224     0.854673   NaN\n",
       "std       0.343531    15.181431     4.334586     4.209690   NaN\n",
       "min       0.000000     0.000000     0.000000     0.000000   NaN\n",
       "25%       0.000000     0.000000     0.000000     0.000000   NaN\n",
       "50%       0.000000     0.000000     0.000000     0.000000   NaN\n",
       "75%       0.000000     2.000000     1.000000     0.000000   NaN\n",
       "max       1.000000   199.000000   173.000000   120.000000   NaN"
      ]
     },
     "execution_count": 120,
     "metadata": {},
     "output_type": "execute_result"
    }
   ],
   "source": [
    "a.iloc[:, 20:29].describe()"
   ]
  },
  {
   "cell_type": "code",
   "execution_count": 38,
   "id": "208ef540",
   "metadata": {},
   "outputs": [],
   "source": [
    "data_tweet = a['tweet']"
   ]
  },
  {
   "cell_type": "code",
   "execution_count": 267,
   "id": "98d24e26",
   "metadata": {},
   "outputs": [],
   "source": [
    "import utils"
   ]
  },
  {
   "cell_type": "code",
   "execution_count": 39,
   "id": "d3918880",
   "metadata": {},
   "outputs": [],
   "source": [
    "Data_to_clean1 = [remove_characters_before_tokenization(i) for i in data_tweet]\n",
    "normalized_data = normalize_corpus(corpus=Data_to_clean1,tokenize=False)"
   ]
  },
  {
   "cell_type": "code",
   "execution_count": 40,
   "id": "e9ea146b",
   "metadata": {},
   "outputs": [
    {
     "name": "stderr",
     "output_type": "stream",
     "text": [
      "/Library/anaconda3/lib/python3.7/site-packages/sklearn/utils/validation.py:598: FutureWarning: np.matrix usage is deprecated in 1.0 and will raise a TypeError in 1.2. Please convert to a numpy array with np.asarray. For more information see: https://numpy.org/doc/stable/reference/generated/numpy.matrix.html\n",
      "  FutureWarning,\n"
     ]
    }
   ],
   "source": [
    "data_features = train_vec.transform(normalized_data).todense()\n",
    "data_final_feature = train_transform.transform(data_features).todense()\n",
    "\n",
    "final_data = sparse.csr_matrix(data_final_feature)"
   ]
  },
  {
   "cell_type": "code",
   "execution_count": 41,
   "id": "f40266c1",
   "metadata": {},
   "outputs": [],
   "source": [
    "from collections import Counter"
   ]
  },
  {
   "cell_type": "code",
   "execution_count": 75,
   "id": "bda6dc6e",
   "metadata": {},
   "outputs": [
    {
     "data": {
      "text/plain": [
       "Counter({0: 9152, 1: 220})"
      ]
     },
     "execution_count": 75,
     "metadata": {},
     "output_type": "execute_result"
    }
   ],
   "source": [
    "Counter(RF.predict(final_data))"
   ]
  },
  {
   "cell_type": "code",
   "execution_count": 42,
   "id": "f501b4ae",
   "metadata": {},
   "outputs": [
    {
     "data": {
      "text/plain": [
       "Counter({0: 9159, 1: 213})"
      ]
     },
     "execution_count": 42,
     "metadata": {},
     "output_type": "execute_result"
    }
   ],
   "source": [
    "Counter(GB.predict(final_data))"
   ]
  },
  {
   "cell_type": "code",
   "execution_count": 73,
   "id": "4cc5afca",
   "metadata": {},
   "outputs": [
    {
     "data": {
      "text/plain": [
       "Counter({0: 9290, 1: 82})"
      ]
     },
     "execution_count": 73,
     "metadata": {},
     "output_type": "execute_result"
    }
   ],
   "source": [
    "Counter(SGD.predict(final_data))"
   ]
  },
  {
   "cell_type": "code",
   "execution_count": 61,
   "id": "6fba13bd",
   "metadata": {},
   "outputs": [
    {
     "data": {
      "text/plain": [
       "array([0.23666667, 0.39840079, 0.        , ..., 0.119     , 0.18118651,\n",
       "       0.3025    ])"
      ]
     },
     "execution_count": 61,
     "metadata": {},
     "output_type": "execute_result"
    }
   ],
   "source": [
    "RF.predict_proba(final_data)[:, 1]"
   ]
  },
  {
   "cell_type": "code",
   "execution_count": 46,
   "id": "dc7a0e07",
   "metadata": {},
   "outputs": [
    {
     "data": {
      "text/plain": [
       "Counter({0: 9398, 1: 34})"
      ]
     },
     "execution_count": 46,
     "metadata": {},
     "output_type": "execute_result"
    }
   ],
   "source": [
    "LogReg.predict(final_data)"
   ]
  },
  {
   "cell_type": "code",
   "execution_count": 44,
   "id": "b052c56e",
   "metadata": {},
   "outputs": [],
   "source": [
    "import seaborn as sns"
   ]
  },
  {
   "cell_type": "code",
   "execution_count": 100,
   "id": "b113359c",
   "metadata": {},
   "outputs": [
    {
     "name": "stderr",
     "output_type": "stream",
     "text": [
      "/Library/anaconda3/lib/python3.7/site-packages/seaborn/_decorators.py:43: FutureWarning: Pass the following variables as keyword args: x, y. From version 0.12, the only valid positional argument will be `data`, and passing other arguments without an explicit keyword will result in an error or misinterpretation.\n",
      "  FutureWarning\n"
     ]
    },
    {
     "data": {
      "image/png": "[encoded data removed]",
      "text/plain": [
       "<Figure size 432x288 with 1 Axes>"
      ]
     },
     "metadata": {
      "needs_background": "light"
     },
     "output_type": "display_data"
    }
   ],
   "source": [
    "sns.scatterplot(RF.predict_proba(final_data)[:, 0], a['nlikes'])\n",
    "plt.xlabel('Probability of being politically correct');\n",
    "plt.title('The relationship between the probablity of being politiclly correct and the number of likes')\n",
    "plt.savefig('ralation_nlikes.png')"
   ]
  },
  {
   "cell_type": "code",
   "execution_count": 101,
   "id": "a8328267",
   "metadata": {},
   "outputs": [
    {
     "name": "stderr",
     "output_type": "stream",
     "text": [
      "/Library/anaconda3/lib/python3.7/site-packages/seaborn/_decorators.py:43: FutureWarning: Pass the following variables as keyword args: x, y. From version 0.12, the only valid positional argument will be `data`, and passing other arguments without an explicit keyword will result in an error or misinterpretation.\n",
      "  FutureWarning\n"
     ]
    },
    {
     "data": {
      "image/png": "[encoded data removed]",
      "text/plain": [
       "<Figure size 432x288 with 1 Axes>"
      ]
     },
     "metadata": {
      "needs_background": "light"
     },
     "output_type": "display_data"
    }
   ],
   "source": [
    "sns.scatterplot(RF.predict_proba(final_data)[:, 0], a['nreplies'])\n",
    "plt.xlabel('Probability of being politically correct');\n",
    "plt.title('The relationship between the probablity of being politiclly correct and the number of replies')\n",
    "plt.savefig('ralation_nreplies.png')"
   ]
  },
  {
   "cell_type": "code",
   "execution_count": 102,
   "id": "67d1676d",
   "metadata": {},
   "outputs": [
    {
     "name": "stderr",
     "output_type": "stream",
     "text": [
      "/Library/anaconda3/lib/python3.7/site-packages/seaborn/_decorators.py:43: FutureWarning: Pass the following variables as keyword args: x, y. From version 0.12, the only valid positional argument will be `data`, and passing other arguments without an explicit keyword will result in an error or misinterpretation.\n",
      "  FutureWarning\n"
     ]
    },
    {
     "data": {
      "image/png": "[encoded data removed]",
      "text/plain": [
       "<Figure size 432x288 with 1 Axes>"
      ]
     },
     "metadata": {
      "needs_background": "light"
     },
     "output_type": "display_data"
    }
   ],
   "source": [
    "sns.scatterplot(RF.predict_proba(final_data)[:, 0], a['nretweets'])\n",
    "plt.xlabel('Probability of being politically correct');\n",
    "plt.title('The relationship between the probablity of being politiclly correct and the number of retweets')\n",
    "plt.savefig('ralation_nretweets.png')"
   ]
  },
  {
   "cell_type": "code",
   "execution_count": 99,
   "id": "3afa9d0a",
   "metadata": {},
   "outputs": [],
   "source": [
    "from sklearn.preprocessing import MinMaxScaler"
   ]
  },
  {
   "cell_type": "code",
   "execution_count": 107,
   "id": "d30a7ae8",
   "metadata": {},
   "outputs": [
    {
     "data": {
      "text/html": [
       "<div>\n",
       "<style scoped>\n",
       "    .dataframe tbody tr th:only-of-type {\n",
       "        vertical-align: middle;\n",
       "    }\n",
       "\n",
       "    .dataframe tbody tr th {\n",
       "        vertical-align: top;\n",
       "    }\n",
       "\n",
       "    .dataframe thead th {\n",
       "        text-align: right;\n",
       "    }\n",
       "</style>\n",
       "<table border=\"1\" class=\"dataframe\">\n",
       "  <thead>\n",
       "    <tr style=\"text-align: right;\">\n",
       "      <th></th>\n",
       "      <th>nlikes</th>\n",
       "      <th>nreplies</th>\n",
       "      <th>nretweets</th>\n",
       "    </tr>\n",
       "  </thead>\n",
       "  <tbody>\n",
       "    <tr>\n",
       "      <th>0</th>\n",
       "      <td>2</td>\n",
       "      <td>1</td>\n",
       "      <td>0</td>\n",
       "    </tr>\n",
       "    <tr>\n",
       "      <th>1</th>\n",
       "      <td>0</td>\n",
       "      <td>0</td>\n",
       "      <td>0</td>\n",
       "    </tr>\n",
       "    <tr>\n",
       "      <th>2</th>\n",
       "      <td>11</td>\n",
       "      <td>1</td>\n",
       "      <td>0</td>\n",
       "    </tr>\n",
       "    <tr>\n",
       "      <th>3</th>\n",
       "      <td>1</td>\n",
       "      <td>0</td>\n",
       "      <td>0</td>\n",
       "    </tr>\n",
       "    <tr>\n",
       "      <th>4</th>\n",
       "      <td>3</td>\n",
       "      <td>0</td>\n",
       "      <td>2</td>\n",
       "    </tr>\n",
       "    <tr>\n",
       "      <th>...</th>\n",
       "      <td>...</td>\n",
       "      <td>...</td>\n",
       "      <td>...</td>\n",
       "    </tr>\n",
       "    <tr>\n",
       "      <th>9427</th>\n",
       "      <td>0</td>\n",
       "      <td>0</td>\n",
       "      <td>0</td>\n",
       "    </tr>\n",
       "    <tr>\n",
       "      <th>9428</th>\n",
       "      <td>0</td>\n",
       "      <td>0</td>\n",
       "      <td>0</td>\n",
       "    </tr>\n",
       "    <tr>\n",
       "      <th>9429</th>\n",
       "      <td>1</td>\n",
       "      <td>0</td>\n",
       "      <td>1</td>\n",
       "    </tr>\n",
       "    <tr>\n",
       "      <th>9430</th>\n",
       "      <td>0</td>\n",
       "      <td>1</td>\n",
       "      <td>0</td>\n",
       "    </tr>\n",
       "    <tr>\n",
       "      <th>9431</th>\n",
       "      <td>1</td>\n",
       "      <td>0</td>\n",
       "      <td>1</td>\n",
       "    </tr>\n",
       "  </tbody>\n",
       "</table>\n",
       "<p>9432 rows × 3 columns</p>\n",
       "</div>"
      ],
      "text/plain": [
       "      nlikes  nreplies  nretweets\n",
       "0          2         1          0\n",
       "1          0         0          0\n",
       "2         11         1          0\n",
       "3          1         0          0\n",
       "4          3         0          2\n",
       "...      ...       ...        ...\n",
       "9427       0         0          0\n",
       "9428       0         0          0\n",
       "9429       1         0          1\n",
       "9430       0         1          0\n",
       "9431       1         0          1\n",
       "\n",
       "[9432 rows x 3 columns]"
      ]
     },
     "execution_count": 107,
     "metadata": {},
     "output_type": "execute_result"
    }
   ],
   "source": [
    "anti_vac.iloc[:, 23:26]"
   ]
  },
  {
   "cell_type": "code",
   "execution_count": 113,
   "id": "1b0fc06a",
   "metadata": {},
   "outputs": [],
   "source": [
    "scaler = MinMaxScaler(feature_range=(0,10))"
   ]
  },
  {
   "cell_type": "code",
   "execution_count": 1,
   "id": "31e66b53",
   "metadata": {},
   "outputs": [
    {
     "ename": "NameError",
     "evalue": "name 'scaler' is not defined",
     "output_type": "error",
     "traceback": [
      "\u001b[0;31m---------------------------------------------------------------------------\u001b[0m",
      "\u001b[0;31mNameError\u001b[0m                                 Traceback (most recent call last)",
      "\u001b[0;32m/var/folders/nz/jn46yvw155q0l_6bpm5shgdc0000gn/T/ipykernel_5719/3710263748.py\u001b[0m in \u001b[0;36m<module>\u001b[0;34m\u001b[0m\n\u001b[0;32m----> 1\u001b[0;31m \u001b[0mscaler\u001b[0m\u001b[0;34m.\u001b[0m\u001b[0mfit_transform\u001b[0m\u001b[0;34m(\u001b[0m\u001b[0manti_vac\u001b[0m\u001b[0;34m.\u001b[0m\u001b[0miloc\u001b[0m\u001b[0;34m[\u001b[0m\u001b[0;34m:\u001b[0m\u001b[0;34m,\u001b[0m \u001b[0;36m23\u001b[0m\u001b[0;34m:\u001b[0m\u001b[0;36m26\u001b[0m\u001b[0;34m]\u001b[0m\u001b[0;34m)\u001b[0m\u001b[0;34m\u001b[0m\u001b[0;34m\u001b[0m\u001b[0m\n\u001b[0m",
      "\u001b[0;31mNameError\u001b[0m: name 'scaler' is not defined"
     ]
    }
   ],
   "source": [
    "scaler.fit_transform(anti_vac.iloc[:, 23:26])"
   ]
  },
  {
   "cell_type": "code",
   "execution_count": 49,
   "id": "7352aa49",
   "metadata": {},
   "outputs": [],
   "source": [
    "from statsmodels.tsa.stattools import grangercausalitytests"
   ]
  },
  {
   "cell_type": "code",
   "execution_count": 50,
   "id": "7cc93e2b",
   "metadata": {},
   "outputs": [
    {
     "ename": "TypeError",
     "evalue": "grangercausalitytests() got multiple values for argument 'maxlag'",
     "output_type": "error",
     "traceback": [
      "\u001b[0;31m---------------------------------------------------------------------------\u001b[0m",
      "\u001b[0;31mTypeError\u001b[0m                                 Traceback (most recent call last)",
      "\u001b[0;32m/var/folders/nz/jn46yvw155q0l_6bpm5shgdc0000gn/T/ipykernel_5719/2868251436.py\u001b[0m in \u001b[0;36m<module>\u001b[0;34m\u001b[0m\n\u001b[0;32m----> 1\u001b[0;31m \u001b[0mgrangercausalitytests\u001b[0m\u001b[0;34m(\u001b[0m\u001b[0mGB\u001b[0m\u001b[0;34m.\u001b[0m\u001b[0mpredict_proba\u001b[0m\u001b[0;34m(\u001b[0m\u001b[0mfinal_data\u001b[0m\u001b[0;34m)\u001b[0m\u001b[0;34m[\u001b[0m\u001b[0;34m:\u001b[0m\u001b[0;34m,\u001b[0m \u001b[0;36m1\u001b[0m\u001b[0;34m]\u001b[0m\u001b[0;34m,\u001b[0m \u001b[0ma\u001b[0m\u001b[0;34m[\u001b[0m\u001b[0;34m'nretweets'\u001b[0m\u001b[0;34m]\u001b[0m\u001b[0;34m,\u001b[0m \u001b[0mmaxlag\u001b[0m\u001b[0;34m=\u001b[0m\u001b[0;34m[\u001b[0m\u001b[0;36m3\u001b[0m\u001b[0;34m]\u001b[0m\u001b[0;34m)\u001b[0m\u001b[0;34m\u001b[0m\u001b[0;34m\u001b[0m\u001b[0m\n\u001b[0m",
      "\u001b[0;31mTypeError\u001b[0m: grangercausalitytests() got multiple values for argument 'maxlag'"
     ]
    }
   ],
   "source": [
    "grangercausalitytests(GB.predict_proba(final_data)[:, 1], a['nretweets'], maxlag=[3])"
   ]
  },
  {
   "cell_type": "code",
   "execution_count": null,
   "id": "51ad6033",
   "metadata": {},
   "outputs": [],
   "source": []
  },
  {
   "cell_type": "code",
   "execution_count": null,
   "id": "c632953a",
   "metadata": {},
   "outputs": [],
   "source": []
  },
  {
   "cell_type": "code",
   "execution_count": 81,
   "id": "a52364f1",
   "metadata": {
    "scrolled": true
   },
   "outputs": [
    {
     "data": {
      "text/html": [
       "<div>\n",
       "<style scoped>\n",
       "    .dataframe tbody tr th:only-of-type {\n",
       "        vertical-align: middle;\n",
       "    }\n",
       "\n",
       "    .dataframe tbody tr th {\n",
       "        vertical-align: top;\n",
       "    }\n",
       "\n",
       "    .dataframe thead th {\n",
       "        text-align: right;\n",
       "    }\n",
       "</style>\n",
       "<table border=\"1\" class=\"dataframe\">\n",
       "  <thead>\n",
       "    <tr style=\"text-align: right;\">\n",
       "      <th></th>\n",
       "      <th>id</th>\n",
       "      <th>conversation_id</th>\n",
       "      <th>created_at</th>\n",
       "      <th>date</th>\n",
       "      <th>timezone</th>\n",
       "      <th>place</th>\n",
       "      <th>tweet</th>\n",
       "      <th>language</th>\n",
       "      <th>hashtags</th>\n",
       "      <th>cashtags</th>\n",
       "      <th>...</th>\n",
       "      <th>user_rt_id</th>\n",
       "      <th>user_rt</th>\n",
       "      <th>retweet_id</th>\n",
       "      <th>reply_to</th>\n",
       "      <th>retweet_date</th>\n",
       "      <th>translate</th>\n",
       "      <th>trans_src</th>\n",
       "      <th>trans_dest</th>\n",
       "      <th>text_tokens</th>\n",
       "      <th>text_lemmas</th>\n",
       "    </tr>\n",
       "  </thead>\n",
       "  <tbody>\n",
       "    <tr>\n",
       "      <th>0</th>\n",
       "      <td>1515461690023886854</td>\n",
       "      <td>1515446982411759627</td>\n",
       "      <td>1.650149e+12</td>\n",
       "      <td>2022-04-16 17:46:37</td>\n",
       "      <td>-500</td>\n",
       "      <td>NaN</td>\n",
       "      <td>@eunique She's such a considerate Princess 😍</td>\n",
       "      <td>en</td>\n",
       "      <td>[]</td>\n",
       "      <td>[]</td>\n",
       "      <td>...</td>\n",
       "      <td>NaN</td>\n",
       "      <td>NaN</td>\n",
       "      <td>NaN</td>\n",
       "      <td>[{'screen_name': 'eunique', 'name': 'Eunique’s...</td>\n",
       "      <td>NaN</td>\n",
       "      <td>NaN</td>\n",
       "      <td>NaN</td>\n",
       "      <td>NaN</td>\n",
       "      <td>['eunique', 'shes', 'princess']</td>\n",
       "      <td>['eunique', \"'s\", 'princess', '😍']</td>\n",
       "    </tr>\n",
       "    <tr>\n",
       "      <th>1</th>\n",
       "      <td>1515461598428639235</td>\n",
       "      <td>1515461598428639235</td>\n",
       "      <td>1.650149e+12</td>\n",
       "      <td>2022-04-16 17:46:15</td>\n",
       "      <td>-500</td>\n",
       "      <td>NaN</td>\n",
       "      <td>Aw, Anya is such a little sweetheart, kid her ...</td>\n",
       "      <td>en</td>\n",
       "      <td>['spy_family', 'spyxfamily']</td>\n",
       "      <td>[]</td>\n",
       "      <td>...</td>\n",
       "      <td>NaN</td>\n",
       "      <td>NaN</td>\n",
       "      <td>NaN</td>\n",
       "      <td>[]</td>\n",
       "      <td>NaN</td>\n",
       "      <td>NaN</td>\n",
       "      <td>NaN</td>\n",
       "      <td>NaN</td>\n",
       "      <td>['anya', 'little', 'sweetheart', 'kid', 'age',...</td>\n",
       "      <td>['aw', 'anya', 'little', 'sweetheart', 'kid', ...</td>\n",
       "    </tr>\n",
       "    <tr>\n",
       "      <th>2</th>\n",
       "      <td>1515461598021926917</td>\n",
       "      <td>1515461598021926917</td>\n",
       "      <td>1.650149e+12</td>\n",
       "      <td>2022-04-16 17:46:15</td>\n",
       "      <td>-500</td>\n",
       "      <td>NaN</td>\n",
       "      <td>considerate central vacuum cleaner makes you p...</td>\n",
       "      <td>en</td>\n",
       "      <td>[]</td>\n",
       "      <td>[]</td>\n",
       "      <td>...</td>\n",
       "      <td>NaN</td>\n",
       "      <td>NaN</td>\n",
       "      <td>NaN</td>\n",
       "      <td>[]</td>\n",
       "      <td>NaN</td>\n",
       "      <td>NaN</td>\n",
       "      <td>NaN</td>\n",
       "      <td>NaN</td>\n",
       "      <td>['central', 'vacuum', 'cleaner', 'makes', 'pla...</td>\n",
       "      <td>['central', 'vacuum', 'cleaner', 'make', 'plas...</td>\n",
       "    </tr>\n",
       "    <tr>\n",
       "      <th>3</th>\n",
       "      <td>1515461571106861058</td>\n",
       "      <td>1515455205428453383</td>\n",
       "      <td>1.650149e+12</td>\n",
       "      <td>2022-04-16 17:46:09</td>\n",
       "      <td>-500</td>\n",
       "      <td>NaN</td>\n",
       "      <td>@Etna_Crimson Just thought about this cuz how ...</td>\n",
       "      <td>en</td>\n",
       "      <td>[]</td>\n",
       "      <td>[]</td>\n",
       "      <td>...</td>\n",
       "      <td>NaN</td>\n",
       "      <td>NaN</td>\n",
       "      <td>NaN</td>\n",
       "      <td>[{'screen_name': 'Etna_Crimson', 'name': 'Etna...</td>\n",
       "      <td>NaN</td>\n",
       "      <td>NaN</td>\n",
       "      <td>NaN</td>\n",
       "      <td>NaN</td>\n",
       "      <td>['etnacrimson', 'thought', 'cuz', 'low', 'voic...</td>\n",
       "      <td>['etna_crimson', 'thought', 'cuz', 'low', 'ur'...</td>\n",
       "    </tr>\n",
       "    <tr>\n",
       "      <th>5</th>\n",
       "      <td>1515461132298956808</td>\n",
       "      <td>1515317030894854146</td>\n",
       "      <td>1.650149e+12</td>\n",
       "      <td>2022-04-16 17:44:24</td>\n",
       "      <td>-500</td>\n",
       "      <td>NaN</td>\n",
       "      <td>@DCDoc33 But some people understand it for wha...</td>\n",
       "      <td>en</td>\n",
       "      <td>[]</td>\n",
       "      <td>[]</td>\n",
       "      <td>...</td>\n",
       "      <td>NaN</td>\n",
       "      <td>NaN</td>\n",
       "      <td>NaN</td>\n",
       "      <td>[{'screen_name': 'DCDoc33', 'name': 'Ida Bergs...</td>\n",
       "      <td>NaN</td>\n",
       "      <td>NaN</td>\n",
       "      <td>NaN</td>\n",
       "      <td>NaN</td>\n",
       "      <td>['dcdoc33', 'people', 'understand', 'encourage...</td>\n",
       "      <td>['dcdoc33', 'people', 'understand', 'encourage...</td>\n",
       "    </tr>\n",
       "  </tbody>\n",
       "</table>\n",
       "<p>5 rows × 40 columns</p>\n",
       "</div>"
      ],
      "text/plain": [
       "                    id      conversation_id    created_at  \\\n",
       "0  1515461690023886854  1515446982411759627  1.650149e+12   \n",
       "1  1515461598428639235  1515461598428639235  1.650149e+12   \n",
       "2  1515461598021926917  1515461598021926917  1.650149e+12   \n",
       "3  1515461571106861058  1515455205428453383  1.650149e+12   \n",
       "5  1515461132298956808  1515317030894854146  1.650149e+12   \n",
       "\n",
       "                  date  timezone  place  \\\n",
       "0  2022-04-16 17:46:37      -500    NaN   \n",
       "1  2022-04-16 17:46:15      -500    NaN   \n",
       "2  2022-04-16 17:46:15      -500    NaN   \n",
       "3  2022-04-16 17:46:09      -500    NaN   \n",
       "5  2022-04-16 17:44:24      -500    NaN   \n",
       "\n",
       "                                               tweet language  \\\n",
       "0       @eunique She's such a considerate Princess 😍       en   \n",
       "1  Aw, Anya is such a little sweetheart, kid her ...       en   \n",
       "2  considerate central vacuum cleaner makes you p...       en   \n",
       "3  @Etna_Crimson Just thought about this cuz how ...       en   \n",
       "5  @DCDoc33 But some people understand it for wha...       en   \n",
       "\n",
       "                       hashtags cashtags  ...  user_rt_id  user_rt retweet_id  \\\n",
       "0                            []       []  ...         NaN      NaN        NaN   \n",
       "1  ['spy_family', 'spyxfamily']       []  ...         NaN      NaN        NaN   \n",
       "2                            []       []  ...         NaN      NaN        NaN   \n",
       "3                            []       []  ...         NaN      NaN        NaN   \n",
       "5                            []       []  ...         NaN      NaN        NaN   \n",
       "\n",
       "                                            reply_to  retweet_date  translate  \\\n",
       "0  [{'screen_name': 'eunique', 'name': 'Eunique’s...           NaN        NaN   \n",
       "1                                                 []           NaN        NaN   \n",
       "2                                                 []           NaN        NaN   \n",
       "3  [{'screen_name': 'Etna_Crimson', 'name': 'Etna...           NaN        NaN   \n",
       "5  [{'screen_name': 'DCDoc33', 'name': 'Ida Bergs...           NaN        NaN   \n",
       "\n",
       "  trans_src trans_dest                                        text_tokens  \\\n",
       "0       NaN        NaN                    ['eunique', 'shes', 'princess']   \n",
       "1       NaN        NaN  ['anya', 'little', 'sweetheart', 'kid', 'age',...   \n",
       "2       NaN        NaN  ['central', 'vacuum', 'cleaner', 'makes', 'pla...   \n",
       "3       NaN        NaN  ['etnacrimson', 'thought', 'cuz', 'low', 'voic...   \n",
       "5       NaN        NaN  ['dcdoc33', 'people', 'understand', 'encourage...   \n",
       "\n",
       "                                         text_lemmas  \n",
       "0                 ['eunique', \"'s\", 'princess', '😍']  \n",
       "1  ['aw', 'anya', 'little', 'sweetheart', 'kid', ...  \n",
       "2  ['central', 'vacuum', 'cleaner', 'make', 'plas...  \n",
       "3  ['etna_crimson', 'thought', 'cuz', 'low', 'ur'...  \n",
       "5  ['dcdoc33', 'people', 'understand', 'encourage...  \n",
       "\n",
       "[5 rows x 40 columns]"
      ]
     },
     "execution_count": 81,
     "metadata": {},
     "output_type": "execute_result"
    }
   ],
   "source": [
    "df1= pd.read_csv('pc_dataset.csv', index_col=0)\n",
    "df1.head()"
   ]
  },
  {
   "cell_type": "code",
   "execution_count": 83,
   "id": "adeabef1",
   "metadata": {},
   "outputs": [
    {
     "data": {
      "text/plain": [
       "0          @eunique She's such a considerate Princess 😍\n",
       "1     Aw, Anya is such a little sweetheart, kid her ...\n",
       "2     considerate central vacuum cleaner makes you p...\n",
       "3     @Etna_Crimson Just thought about this cuz how ...\n",
       "5     @DCDoc33 But some people understand it for wha...\n",
       "                            ...                        \n",
       "95    @ilario82 @olgatokariuk Is putin himself killi...\n",
       "96    A little politically correct Final Four @Aubur...\n",
       "97    @mikeyk1964 @scrowder I have spent a large por...\n",
       "98    @kevin_msipha I said its democratically unwise...\n",
       "99    @Emiem #Emimem I think there was a letter sent...\n",
       "Name: tweet, Length: 1323, dtype: object"
      ]
     },
     "execution_count": 83,
     "metadata": {},
     "output_type": "execute_result"
    }
   ],
   "source": [
    "df1['tweet']"
   ]
  },
  {
   "cell_type": "code",
   "execution_count": 85,
   "id": "57559c37",
   "metadata": {},
   "outputs": [],
   "source": [
    "import utils"
   ]
  },
  {
   "cell_type": "code",
   "execution_count": 90,
   "id": "9cbfcd4e",
   "metadata": {},
   "outputs": [],
   "source": [
    "from wordcloud import WordCloud, STOPWORDS\n",
    "import string"
   ]
  },
  {
   "cell_type": "code",
   "execution_count": 86,
   "id": "57010748",
   "metadata": {},
   "outputs": [],
   "source": [
    "data = [utils.remove_characters_before_tokenization(i) for i in df1['tweet']]\n",
    "data1= utils.normalize_corpus(corpus=data,tokenize=False)"
   ]
  },
  {
   "cell_type": "code",
   "execution_count": 95,
   "id": "8289f3a2",
   "metadata": {},
   "outputs": [
    {
     "data": {
      "image/png": "[encoded data removed]",
      "text/plain": [
       "<Figure size 432x288 with 1 Axes>"
      ]
     },
     "metadata": {
      "needs_background": "light"
     },
     "output_type": "display_data"
    }
   ],
   "source": [
    "text = \" \".join(review for review in data1)\n",
    "\n",
    "# Create stopword list:\n",
    "stopwords = set(STOPWORDS)\n",
    "stopwords.update(list(string.punctuation) + [\"https\", \"people\", 'think', 'will', 's', 'others', \"one\", \"politically correct\", \"politically\", \"correct\", \"political correctness\", \"political\", \"correctness\", \"sensitive\", 'covid','covid-19', 'covid19', \"vaccines\", 'vaxxer', 'vaxxers', 't', 'co', 'pandemic', 'anti-vaccine', 'amp'] + ['considerate', 'diplomatic', 'gender free', 'inclusive', 'inoffensive', 'multicultural', 'multiculturally sensitive', 'politic', 'respectful', 'sensitive', 'sensitive to others', 'bias free', 'liberal', 'nondiscriminatory', 'nonracist', 'nonsexist', 'unbiased', 'political correctness', 'politically correct'])\n",
    "\n",
    "\n",
    "\n",
    "wordcloud = WordCloud(stopwords=stopwords, background_color=\"white\", min_word_length=4, collocation_threshold=4).generate_from_text(text)\n",
    "plt.figure()\n",
    "plt.imshow(wordcloud, interpolation=\"bilinear\")\n",
    "plt.axis(\"off\")\n",
    "plt.savefig('pc_wordcloud.png')"
   ]
  },
  {
   "cell_type": "code",
   "execution_count": null,
   "id": "ec139423",
   "metadata": {},
   "outputs": [],
   "source": []
  }
 ],
 "metadata": {
  "kernelspec": {
   "display_name": "Python 3 (ipykernel)",
   "language": "python",
   "name": "python3"
  },
  "language_info": {
   "codemirror_mode": {
    "name": "ipython",
    "version": 3
   },
   "file_extension": ".py",
   "mimetype": "text/x-python",
   "name": "python",
   "nbconvert_exporter": "python",
   "pygments_lexer": "ipython3",
   "version": "3.7.3"
  }
 },
 "nbformat": 4,
 "nbformat_minor": 5
}
