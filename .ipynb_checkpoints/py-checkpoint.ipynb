{
 "cells": [
  {
   "cell_type": "code",
   "execution_count": 18,
   "id": "b4746872",
   "metadata": {},
   "outputs": [
    {
     "name": "stdout",
     "output_type": "stream",
     "text": [
      "Overwriting data_collect.py\n"
     ]
    }
   ],
   "source": [
    "%%writefile data_collect.py\n",
    "import twint\n",
    "\n",
    "import nest_asyncio\n",
    "nest_asyncio.apply()\n",
    "\n",
    "import numpy as np\n",
    "import pandas as pd\n",
    "\n",
    "\n",
    "\n",
    "anti_vax_keywords = ['anti vaccine', 'anti vaccination', '#antivax', '#antivaccine', '#antivaxxers', '#novaccine', '#novax']\n",
    "pc_synonyms = ['considerate', 'diplomatic', 'gender free', 'inclusive', 'inoffensive', 'multicultural', 'multiculturally sensitive', 'politic', 'respectful', 'sensitive', 'sensitive to others', 'bias free', 'liberal', 'nondiscriminatory', 'nonracist', 'nonsexist', 'unbiased', 'political correctness', 'politically correct']\n",
    "\n",
    "def fetch_by_keywords(keywords_lst, file_path):\n",
    "    \"\"\"Fetch tweets by keywords using Twint, and save them as a csv file.\n",
    "    \n",
    "    Input:\n",
    "        keywords_lst(list): a list of keywords\n",
    "        file_path(str): the path to save the csv file.\n",
    "        \n",
    "\n",
    "    \"\"\"\n",
    "    \n",
    "    frame = []\n",
    "    for keyword in keywords_lst:\n",
    "        c=twint.Config()\n",
    "        c.Search= keyword\n",
    "\n",
    "        c.Pandas= True #Enable Pandas integration.\n",
    "\n",
    "        c.Limit= 50000\n",
    "\n",
    "        c.Hide_output = True\n",
    "        twint.run.Search(c)\n",
    "\n",
    "        df = twint.storage.panda.Tweets_df\n",
    "        frame.append(df)\n",
    "    result = pd.concat(frame)\n",
    "    \n",
    "    result[result.language == 'en'].to_csv(file_path)\n",
    "\n",
    "if __name__ == \"__main__\":\n",
    "    fetch_by_keywords(anti_vax_keywords, './antiva_dataset.csv')\n",
    "    fetch_by_keywords(pc_synonyms, './pc_dataset.csv')\n"
   ]
  },
  {
   "cell_type": "code",
   "execution_count": 8,
   "id": "b03f6ea2",
   "metadata": {},
   "outputs": [
    {
     "data": {
      "text/plain": [
       "'1.21.2'"
      ]
     },
     "execution_count": 8,
     "metadata": {},
     "output_type": "execute_result"
    }
   ],
   "source": [
    "np.__version__"
   ]
  },
  {
   "cell_type": "code",
   "execution_count": 9,
   "id": "dcd9e32c",
   "metadata": {},
   "outputs": [
    {
     "data": {
      "text/plain": [
       "'2.1.21'"
      ]
     },
     "execution_count": 9,
     "metadata": {},
     "output_type": "execute_result"
    }
   ],
   "source": [
    "twint.__version__"
   ]
  },
  {
   "cell_type": "code",
   "execution_count": 10,
   "id": "c78ac137",
   "metadata": {},
   "outputs": [
    {
     "data": {
      "text/plain": [
       "'1.3.4'"
      ]
     },
     "execution_count": 10,
     "metadata": {},
     "output_type": "execute_result"
    }
   ],
   "source": [
    "pd.__version__"
   ]
  },
  {
   "cell_type": "code",
   "execution_count": 12,
   "id": "c128f0b4",
   "metadata": {},
   "outputs": [
    {
     "data": {
      "text/plain": [
       "'3.6.5'"
      ]
     },
     "execution_count": 12,
     "metadata": {},
     "output_type": "execute_result"
    }
   ],
   "source": [
    "nltk.__version__"
   ]
  },
  {
   "cell_type": "code",
   "execution_count": 13,
   "id": "a43a6ec6",
   "metadata": {},
   "outputs": [
    {
     "data": {
      "text/plain": [
       "'0.11.2'"
      ]
     },
     "execution_count": 13,
     "metadata": {},
     "output_type": "execute_result"
    }
   ],
   "source": [
    "sns.__version__"
   ]
  },
  {
   "cell_type": "code",
   "execution_count": 14,
   "id": "fa1e493b",
   "metadata": {},
   "outputs": [],
   "source": [
    "from wordcloud import WordCloud, STOPWORDS, ImageColorGenerator"
   ]
  },
  {
   "cell_type": "code",
   "execution_count": 15,
   "id": "b4b35cde",
   "metadata": {},
   "outputs": [],
   "source": [
    "import wordcloud"
   ]
  },
  {
   "cell_type": "code",
   "execution_count": 16,
   "id": "7bda32f8",
   "metadata": {},
   "outputs": [
    {
     "data": {
      "text/plain": [
       "'1.8.1'"
      ]
     },
     "execution_count": 16,
     "metadata": {},
     "output_type": "execute_result"
    }
   ],
   "source": [
    "wordcloud.__version__"
   ]
  },
  {
   "cell_type": "code",
   "execution_count": 19,
   "id": "4cca04de",
   "metadata": {},
   "outputs": [],
   "source": [
    "initials=['CD1','CD2','CD3','RD1','RD2','RD3','TB1','TB2','TB3','MS1','MS2','MS3','MT1','MT2','MT3']"
   ]
  },
  {
   "cell_type": "code",
   "execution_count": 20,
   "id": "05d23a88",
   "metadata": {},
   "outputs": [],
   "source": [
    "sampleCrosstab=[[34, 37, 44, 27, 19, 39, 74, 44, 27, 61, 12, 65, 69,22, 14, 21],\n",
    "                [18, 33, 47, 24, 14, 38, 66, 41, 36,72, 15, 62, 63, 31, 12, 18],\n",
    "                [32, 43, 36, 12, 21, 51, 75, 33, 23, 60, 24, 68, 85,18, 13, 14],\n",
    "                [13, 31, 55, 29, 15, 62, 74, 43, 28,73, 8, 59, 54, 32, 19, 20],\n",
    "                [8, 28, 34, 24, 17, 68, 75, 34, 25, 70, 16, 56, 72,31, 14, 11], \n",
    "                [9, 34, 43, 25, 18, 68, 84, 25, 32, 76,14, 69, 64, 27, 11, 18],\n",
    "                [15, 20, 28, 18, 19, 65, 82, 34, 29, 89, 11, 47, 74,18, 22, 17], \n",
    "                [18, 14, 40, 25, 21, 60, 70, 15, 37,80, 15, 65, 68, 21, 25, 9],\n",
    "                [19, 18, 41, 26, 19, 58, 64, 18, 38, 78, 15, 65, 72,20, 20, 11], \n",
    "                [13, 29, 49, 31, 16, 61, 73, 36, 29,69, 13, 63, 58, 18, 20, 25],\n",
    "                [17, 34, 43, 29, 14, 62, 64, 26, 26, 71, 26, 78, 64, 21, 18, 12],\n",
    "                [13, 22, 43, 16, 11, 70, 68, 46, 35,57, 30, 71, 57, 19, 22, 20],\n",
    "                [16, 18, 56, 13, 27, 67, 61, 43, 20, 63, 14, 43, 67,34, 41, 23], \n",
    "                [15, 21, 66, 21, 19, 50, 62, 50, 24, 68, 14, 40, 58, 31, 36, 26],\n",
    "                [19, 17, 70, 12, 28, 53, 72, 39, 22, 71, 11, 40, 67,25, 41, 17]]"
   ]
  },
  {
   "cell_type": "code",
   "execution_count": 21,
   "id": "751eb7c1",
   "metadata": {},
   "outputs": [
    {
     "data": {
      "text/plain": [
       "15"
      ]
     },
     "execution_count": 21,
     "metadata": {},
     "output_type": "execute_result"
    }
   ],
   "source": [
    "len(initials)"
   ]
  },
  {
   "cell_type": "code",
   "execution_count": 22,
   "id": "43fce87c",
   "metadata": {},
   "outputs": [
    {
     "data": {
      "text/plain": [
       "15"
      ]
     },
     "execution_count": 22,
     "metadata": {},
     "output_type": "execute_result"
    }
   ],
   "source": [
    "len(sampleCrosstab)"
   ]
  },
  {
   "cell_type": "code",
   "execution_count": null,
   "id": "3c964e4c",
   "metadata": {},
   "outputs": [],
   "source": []
  },
  {
   "cell_type": "code",
   "execution_count": null,
   "id": "ba92701c",
   "metadata": {},
   "outputs": [],
   "source": []
  },
  {
   "cell_type": "code",
   "execution_count": 23,
   "id": "5591cca2",
   "metadata": {},
   "outputs": [],
   "source": [
    "authors = [\"Charles Darwin\", \"Rene Descartes\",\"Thomas Hobbes\", \"Mary Shelley\", \"Mark Twain\"]\n",
    "initials=['CD1','CD2','CD3','RD1','RD2','RD3','TB1','TB2','TB3','MS1','MS2','MS3','MT1','MT2','MT3']\n",
    "chars=[\"B\", \"C\", \"D\", \"F\", \"G\", \"H\", \"I\", \"L\", \"M\", \"N\",\"P\", \"R\", \"S\", \"U\", \"W\", \"Y\"]"
   ]
  },
  {
   "cell_type": "code",
   "execution_count": 24,
   "id": "6ec94adc",
   "metadata": {},
   "outputs": [],
   "source": [
    "sampleCrosstab=[[34, 37, 44, 27, 19, 39, 74, 44, 27, 61, 12, 65, 69,22, 14, 21],\n",
    "                [18, 33, 47, 24, 14, 38, 66, 41, 36,72, 15, 62, 63, 31, 12, 18],\n",
    "                [32, 43, 36, 12, 21, 51, 75, 33, 23, 60, 24, 68, 85,18, 13, 14],\n",
    "                [13, 31, 55, 29, 15, 62, 74, 43, 28,73, 8, 59, 54, 32, 19, 20],\n",
    "                [8, 28, 34, 24, 17, 68, 75, 34, 25, 70, 16, 56, 72,31, 14, 11], \n",
    "                [9, 34, 43, 25, 18, 68, 84, 25, 32, 76,14, 69, 64, 27, 11, 18],\n",
    "                [15, 20, 28, 18, 19, 65, 82, 34, 29, 89, 11, 47, 74,18, 22, 17], \n",
    "                [18, 14, 40, 25, 21, 60, 70, 15, 37,80, 15, 65, 68, 21, 25, 9],\n",
    "                [19, 18, 41, 26, 19, 58, 64, 18, 38, 78, 15, 65, 72,20, 20, 11], \n",
    "                [13, 29, 49, 31, 16, 61, 73, 36, 29,69, 13, 63, 58, 18, 20, 25],\n",
    "                [17, 34, 43, 29, 14, 62, 64, 26, 26, 71, 26, 78, 64, 21, 18, 12],\n",
    "                [13, 22, 43, 16, 11, 70, 68, 46, 35,57, 30, 71, 57, 19, 22, 20],\n",
    "                [16, 18, 56, 13, 27, 67, 61, 43, 20, 63, 14, 43, 67,34, 41, 23], \n",
    "                [15, 21, 66, 21, 19, 50, 62, 50, 24, 68, 14, 40, 58, 31, 36, 26],\n",
    "                [19, 17, 70, 12, 28, 53, 72, 39, 22, 71, 11, 40, 67,25, 41, 17]]"
   ]
  },
  {
   "cell_type": "code",
   "execution_count": 26,
   "id": "7f2fccb6",
   "metadata": {},
   "outputs": [
    {
     "data": {
      "text/plain": [
       "8994"
      ]
     },
     "execution_count": 26,
     "metadata": {},
     "output_type": "execute_result"
    }
   ],
   "source": [
    "grandTotal = np.sum(sampleCrosstab)\n",
    "grandTotal"
   ]
  },
  {
   "cell_type": "code",
   "execution_count": 35,
   "id": "eb141b47",
   "metadata": {
    "scrolled": true
   },
   "outputs": [
    {
     "data": {
      "text/plain": [
       "array([[0.0037803 , 0.00411385, 0.00489215, 0.003002  , 0.00211252,\n",
       "        0.00433622, 0.00822771, 0.00489215, 0.003002  , 0.0067823 ,\n",
       "        0.00133422, 0.00722704, 0.00767178, 0.00244608, 0.00155659,\n",
       "        0.00233489],\n",
       "       [0.00200133, 0.00366911, 0.00522571, 0.00266845, 0.00155659,\n",
       "        0.00422504, 0.00733823, 0.00455859, 0.00400267, 0.00800534,\n",
       "        0.00166778, 0.00689348, 0.00700467, 0.00344674, 0.00133422,\n",
       "        0.00200133],\n",
       "       [0.00355793, 0.00478097, 0.00400267, 0.00133422, 0.00233489,\n",
       "        0.00567045, 0.00833889, 0.00366911, 0.00255726, 0.00667111,\n",
       "        0.00266845, 0.0075606 , 0.00945074, 0.00200133, 0.00144541,\n",
       "        0.00155659],\n",
       "       [0.00144541, 0.00344674, 0.00611519, 0.00322437, 0.00166778,\n",
       "        0.00689348, 0.00822771, 0.00478097, 0.00311319, 0.00811652,\n",
       "        0.00088948, 0.00655993, 0.006004  , 0.00355793, 0.00211252,\n",
       "        0.0022237 ],\n",
       "       [0.00088948, 0.00311319, 0.0037803 , 0.00266845, 0.00189015,\n",
       "        0.0075606 , 0.00833889, 0.0037803 , 0.00277963, 0.00778297,\n",
       "        0.00177896, 0.00622637, 0.00800534, 0.00344674, 0.00155659,\n",
       "        0.00122304],\n",
       "       [0.00100067, 0.0037803 , 0.00478097, 0.00277963, 0.00200133,\n",
       "        0.0075606 , 0.00933956, 0.00277963, 0.00355793, 0.00845008,\n",
       "        0.00155659, 0.00767178, 0.00711586, 0.003002  , 0.00122304,\n",
       "        0.00200133],\n",
       "       [0.00166778, 0.0022237 , 0.00311319, 0.00200133, 0.00211252,\n",
       "        0.00722704, 0.00911719, 0.0037803 , 0.00322437, 0.00989549,\n",
       "        0.00122304, 0.00522571, 0.00822771, 0.00200133, 0.00244608,\n",
       "        0.00189015],\n",
       "       [0.00200133, 0.00155659, 0.00444741, 0.00277963, 0.00233489,\n",
       "        0.00667111, 0.00778297, 0.00166778, 0.00411385, 0.00889482,\n",
       "        0.00166778, 0.00722704, 0.0075606 , 0.00233489, 0.00277963,\n",
       "        0.00100067],\n",
       "       [0.00211252, 0.00200133, 0.00455859, 0.00289082, 0.00211252,\n",
       "        0.00644874, 0.00711586, 0.00200133, 0.00422504, 0.00867245,\n",
       "        0.00166778, 0.00722704, 0.00800534, 0.0022237 , 0.0022237 ,\n",
       "        0.00122304],\n",
       "       [0.00144541, 0.00322437, 0.00544808, 0.00344674, 0.00177896,\n",
       "        0.0067823 , 0.00811652, 0.00400267, 0.00322437, 0.00767178,\n",
       "        0.00144541, 0.00700467, 0.00644874, 0.00200133, 0.0022237 ,\n",
       "        0.00277963],\n",
       "       [0.00189015, 0.0037803 , 0.00478097, 0.00322437, 0.00155659,\n",
       "        0.00689348, 0.00711586, 0.00289082, 0.00289082, 0.00789415,\n",
       "        0.00289082, 0.00867245, 0.00711586, 0.00233489, 0.00200133,\n",
       "        0.00133422],\n",
       "       [0.00144541, 0.00244608, 0.00478097, 0.00177896, 0.00122304,\n",
       "        0.00778297, 0.0075606 , 0.00511452, 0.00389148, 0.00633756,\n",
       "        0.00333556, 0.00789415, 0.00633756, 0.00211252, 0.00244608,\n",
       "        0.0022237 ],\n",
       "       [0.00177896, 0.00200133, 0.00622637, 0.00144541, 0.003002  ,\n",
       "        0.00744941, 0.0067823 , 0.00478097, 0.0022237 , 0.00700467,\n",
       "        0.00155659, 0.00478097, 0.00744941, 0.0037803 , 0.00455859,\n",
       "        0.00255726],\n",
       "       [0.00166778, 0.00233489, 0.00733823, 0.00233489, 0.00211252,\n",
       "        0.00555926, 0.00689348, 0.00555926, 0.00266845, 0.0075606 ,\n",
       "        0.00155659, 0.00444741, 0.00644874, 0.00344674, 0.00400267,\n",
       "        0.00289082],\n",
       "       [0.00211252, 0.00189015, 0.00778297, 0.00133422, 0.00311319,\n",
       "        0.00589282, 0.00800534, 0.00433622, 0.00244608, 0.00789415,\n",
       "        0.00122304, 0.00444741, 0.00744941, 0.00277963, 0.00455859,\n",
       "        0.00189015]])"
      ]
     },
     "execution_count": 35,
     "metadata": {},
     "output_type": "execute_result"
    }
   ],
   "source": [
    "correspondenceMatrix = np.divide(sampleCrosstab,grandTotal)\n",
    "correspondenceMatrix"
   ]
  },
  {
   "cell_type": "code",
   "execution_count": 36,
   "id": "139256a9",
   "metadata": {},
   "outputs": [
    {
     "data": {
      "text/plain": [
       "array([0.06771181, 0.06559929, 0.06760062, 0.06837892, 0.06482099,\n",
       "       0.06860129, 0.06537692, 0.06482099, 0.06470981, 0.0670447 ,\n",
       "       0.06726707, 0.06671114, 0.06737825, 0.06682233, 0.06715588])"
      ]
     },
     "execution_count": 36,
     "metadata": {},
     "output_type": "execute_result"
    }
   ],
   "source": [
    "rowTotals = np.sum(correspondenceMatrix, axis=1)\n",
    "rowTotals"
   ]
  },
  {
   "cell_type": "code",
   "execution_count": 37,
   "id": "d6d291f2",
   "metadata": {},
   "outputs": [
    {
     "data": {
      "text/plain": [
       "array([0.02879698, 0.04436291, 0.07727374, 0.0369135 , 0.0309095 ,\n",
       "       0.09695352, 0.11830109, 0.05859462, 0.04792084, 0.11763398,\n",
       "       0.02646209, 0.09906604, 0.11029575, 0.04091617, 0.03646876,\n",
       "       0.02913053])"
      ]
     },
     "execution_count": 37,
     "metadata": {},
     "output_type": "execute_result"
    }
   ],
   "source": [
    "columnTotals = np.sum(correspondenceMatrix, axis=0)\n",
    "columnTotals"
   ]
  },
  {
   "cell_type": "code",
   "execution_count": 39,
   "id": "36cad9ad",
   "metadata": {},
   "outputs": [
    {
     "data": {
      "text/plain": [
       "array([[0.0019499 , 0.00300389, 0.00523234, 0.00249948, 0.00209294,\n",
       "        0.0065649 , 0.00801038, 0.00396755, 0.00324481, 0.00796521,\n",
       "        0.0017918 , 0.00670794, 0.00746832, 0.00277051, 0.00246937,\n",
       "        0.00197248],\n",
       "       [0.00188906, 0.00291018, 0.0050691 , 0.0024215 , 0.00202764,\n",
       "        0.00636008, 0.00776047, 0.00384377, 0.00314357, 0.00771671,\n",
       "        0.00173589, 0.00649866, 0.00723532, 0.00268407, 0.00239232,\n",
       "        0.00191094],\n",
       "       [0.00194669, 0.00299896, 0.00522375, 0.00249538, 0.0020895 ,\n",
       "        0.00655412, 0.00799723, 0.00396103, 0.00323948, 0.00795213,\n",
       "        0.00178885, 0.00669693, 0.00745606, 0.00276596, 0.00246531,\n",
       "        0.00196924],\n",
       "       [0.00196911, 0.00303349, 0.00528389, 0.00252411, 0.00211356,\n",
       "        0.00662958, 0.0080893 , 0.00400664, 0.00327677, 0.00804368,\n",
       "        0.00180945, 0.00677403, 0.0075419 , 0.0027978 , 0.00249369,\n",
       "        0.00199191],\n",
       "       [0.00186665, 0.00287565, 0.00500896, 0.00239277, 0.00200358,\n",
       "        0.00628462, 0.00766839, 0.00379816, 0.00310628, 0.00762515,\n",
       "        0.0017153 , 0.00642156, 0.00714948, 0.00265223, 0.00236394,\n",
       "        0.00188827],\n",
       "       [0.00197551, 0.00304335, 0.00530108, 0.00253231, 0.00212043,\n",
       "        0.00665114, 0.00811561, 0.00401967, 0.00328743, 0.00806984,\n",
       "        0.00181533, 0.00679606, 0.00756643, 0.0028069 , 0.0025018 ,\n",
       "        0.00199839],\n",
       "       [0.00188266, 0.00290031, 0.00505192, 0.00241329, 0.00202077,\n",
       "        0.00633852, 0.00773416, 0.00383074, 0.00313292, 0.00769055,\n",
       "        0.00173001, 0.00647663, 0.0072108 , 0.00267497, 0.00238421,\n",
       "        0.00190446],\n",
       "       [0.00186665, 0.00287565, 0.00500896, 0.00239277, 0.00200358,\n",
       "        0.00628462, 0.00766839, 0.00379816, 0.00310628, 0.00762515,\n",
       "        0.0017153 , 0.00642156, 0.00714948, 0.00265223, 0.00236394,\n",
       "        0.00188827],\n",
       "       [0.00186345, 0.00287072, 0.00500037, 0.00238867, 0.00200015,\n",
       "        0.00627384, 0.00765524, 0.00379165, 0.00310095, 0.00761207,\n",
       "        0.00171236, 0.00641054, 0.00713722, 0.00264768, 0.00235989,\n",
       "        0.00188503],\n",
       "       [0.00193068, 0.0029743 , 0.00518079, 0.00247485, 0.00207232,\n",
       "        0.00650022, 0.00793146, 0.00392846, 0.00321284, 0.00788673,\n",
       "        0.00177414, 0.00664185, 0.00739475, 0.00274321, 0.00244504,\n",
       "        0.00195305],\n",
       "       [0.00193709, 0.00298416, 0.00519798, 0.00248306, 0.00207919,\n",
       "        0.00652178, 0.00795777, 0.00394149, 0.00322349, 0.00791289,\n",
       "        0.00178003, 0.00666388, 0.00741927, 0.00275231, 0.00245315,\n",
       "        0.00195953],\n",
       "       [0.00192108, 0.0029595 , 0.00515502, 0.00246254, 0.00206201,\n",
       "        0.00646788, 0.007892  , 0.00390891, 0.00319685, 0.0078475 ,\n",
       "        0.00176532, 0.00660881, 0.00735796, 0.00272956, 0.00243287,\n",
       "        0.00194333],\n",
       "       [0.00194029, 0.0029891 , 0.00520657, 0.00248717, 0.00208263,\n",
       "        0.00653256, 0.00797092, 0.003948  , 0.00322882, 0.00792597,\n",
       "        0.00178297, 0.0066749 , 0.00743154, 0.00275686, 0.0024572 ,\n",
       "        0.00196276],\n",
       "       [0.00192428, 0.00296443, 0.00516361, 0.00246665, 0.00206544,\n",
       "        0.00647866, 0.00790515, 0.00391543, 0.00320218, 0.00786058,\n",
       "        0.00176826, 0.00661982, 0.00737022, 0.00273411, 0.00243693,\n",
       "        0.00194657],\n",
       "       [0.00193389, 0.00297923, 0.00518939, 0.00247896, 0.00207575,\n",
       "        0.006511  , 0.00794461, 0.00393497, 0.00321817, 0.00789981,\n",
       "        0.00177708, 0.00665287, 0.00740701, 0.00274776, 0.00244909,\n",
       "        0.00195629]])"
      ]
     },
     "execution_count": 39,
     "metadata": {},
     "output_type": "execute_result"
    }
   ],
   "source": [
    "independenceModel = np.outer(rowTotals, columnTotals)\n",
    "independenceModel"
   ]
  },
  {
   "cell_type": "code",
   "execution_count": null,
   "id": "a47d94db",
   "metadata": {},
   "outputs": [],
   "source": [
    "grandTotal = np.sum(sampleCrosstab)\n",
    "correspondenceMatrix = np.divide(sampleCrosstab,grandTotal)\n",
    "rowTotals = np.sum(correspondenceMatrix, axis=1)\n",
    "columnTotals = np.sum(correspondenceMatrix, axis=0)\n",
    " \n",
    "independenceModel = np.outer(rowTotals, columnTotals)\n",
    " \n",
    "#Calculate manually\n",
    "chiSquaredStatistic = grandTotal*np.sum(np.square(correspondenceMatrix-independenceModel)/independenceModel)\n",
    "print(chiSquaredStatistic)\n",
    " \n",
    "# Quick check - compare to scipy Chi-Squared test\n",
    "statistic, prob, dof, ex = chi2_contingency(sampleCrosstab)\n",
    "print(statistic)\n",
    "print(np.round(prob, decimals=2))"
   ]
  },
  {
   "cell_type": "code",
   "execution_count": null,
   "id": "e3dd5e94",
   "metadata": {},
   "outputs": [],
   "source": []
  },
  {
   "cell_type": "code",
   "execution_count": null,
   "id": "2299f711",
   "metadata": {},
   "outputs": [],
   "source": []
  },
  {
   "cell_type": "code",
   "execution_count": null,
   "id": "56508088",
   "metadata": {},
   "outputs": [],
   "source": [
    "import numpy as np # linear algebra\n",
    "import pandas as pd # data processing, CSV file I/O (e.g. pd.read_csv)\n",
    "\n",
    "# Input data files are available in the \"../input/\" directory.\n",
    "# For example, running this (by clicking run or pressing Shift+Enter) will list all files under the input directory\n",
    "import seaborn as sn\n",
    "import matplotlib.pylab as plt \n",
    "%matplotlib inline\n",
    "import os\n",
    "for dirname, _, filenames in os.walk('/kaggle/input'):\n",
    "    for filename in filenames:\n",
    "        print(os.path.join(dirname, filename))\n",
    "\n",
    "# Any results you write to the current directory are saved as output."
   ]
  }
 ],
 "metadata": {
  "kernelspec": {
   "display_name": "Python 3 (ipykernel)",
   "language": "python",
   "name": "python3"
  },
  "language_info": {
   "codemirror_mode": {
    "name": "ipython",
    "version": 3
   },
   "file_extension": ".py",
   "mimetype": "text/x-python",
   "name": "python",
   "nbconvert_exporter": "python",
   "pygments_lexer": "ipython3",
   "version": "3.7.3"
  }
 },
 "nbformat": 4,
 "nbformat_minor": 5
}
