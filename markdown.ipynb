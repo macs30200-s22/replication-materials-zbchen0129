{
 "cells": [
  {
   "cell_type": "markdown",
   "id": "69dfa3ec",
   "metadata": {},
   "source": [
    "# replication-materials-zbchen0129\n",
    "replication-materials-zbchen0129 created by GitHub Classroom"
   ]
  },
  {
   "attachments": {},
   "cell_type": "markdown",
   "id": "e93a8a45",
   "metadata": {},
   "source": [
    "My research question is 1) how political correctness is discussed and portrayed on Twitter; 2) whether being politically correct/incorrect will affect the influence of an anti-vaccination tweet. \n",
    "\n",
    "All codes and data in this repository is written in Python 3.7 and all of its dependencies can be installed by running the following in the terminal (with the `requirements.txt` file included in this repository):\n",
    "\n",
    "```python\n",
    "pip install -r requirements.txt\n",
    "```\n",
    "\n",
    "### Data Collection\n",
    "\n",
    "Code for data collection part is here [data_collect.py](https://github.com/macs30200-s22/replication-materials-zbchen0129/blob/main/data_collect.py). You can run the following in  the terminal to get the anti-vaccine tweets data ([antiva_dataset.csv](https://github.com/macs30200-s22/replication-materials-zbchen0129/blob/main/antiva_dataset.csv)) and pc tweets data ([pc_dataset.csv](https://github.com/macs30200-s22/replication-materials-zbchen0129/blob/main/pc_dataset.csv)):\n",
    "\n",
    "```python\n",
    "run data_collect.py\n",
    "```\n",
    "\n",
    "Or use the `fetch_by_keywords` function defined in data_collect.py:\n",
    "\n",
    "```python\n",
    "import data_collect\n",
    "data_collect.fetch_by_keywords(anti_vax_keywords, '/antiva_dataset.csv')\n",
    "data_collect.fetch_by_keywords(pc_synonyms, '/pc_dataset.csv')\n",
    "```\n",
    "\n",
    "Besides, I also get a twitter dataset, which has been already labelled with whether being a hate speech, from [Kaggle](https://www.kaggle.com/competitions/detecting-insults-in-social-commentary/data). I downloaded training data ([train.csv](https://github.com/macs30200-s22/replication-materials-zbchen0129/blob/main/train.csv)) and testing data ([test_with_solutions.csv](https://github.com/macs30200-s22/replication-materials-zbchen0129/blob/main/test_with_solutions.csv)) to train the machine learning classification model.\n",
    "\n",
    "\n",
    "### Methods and results\n",
    "\n",
    "(1)\n",
    "\n",
    "For my first question, I use wordcloud to analyze the tweets. Code for the first question is here [pc_analysis.py](https://github.com/macs30200-s22/replication-materials-zbchen0129/blob/main/pc_analysis.py). You can run the following in the terminal:\n",
    "\n",
    "```python\n",
    "import pc_analysis\n",
    "import pandas as pd\n",
    "```\n",
    "\n",
    "And then use functions in pc_analysis.py:\n",
    "```python\n",
    "df_pc= pd.read_csv('pc_dataset.csv', index_col=0)\n",
    "text = pc_analysis.data_clean(df_pc['tweet'])\n",
    "pc_analysis.plot_wordcloud(text)\n",
    "```\n",
    "\n",
    "Or just run the whole file:\n",
    "```python\n",
    "run pc_analysis.py\n",
    "```\n",
    "\n",
    "After running it, you will get and save an image of the wordcloud. The image below is the wordcloud that shows the most occurring words that most characterize the discussions about political correctness. \n",
    "![Figure 1 pc wordcloud](https://github.com/macs30200-s22/replication-materials-zbchen0129/blob/main/pc_wordcloud.png)\n",
    "\n",
    "This wordcloud shows that political correctness on Twitter is most linked to the topic of freedom, like free expression, gender issues and self identity. Besides, there are negative words like ‘hoax’ and ‘bias’, which to some extent reflects people's attitudes and opinions about PC on Twitter. Some words also identify PC from a political point of view in the top frequencies, like ‘democrats’. \n",
    "\n",
    "\n",
    "(2)\n",
    "\n",
    "For the second question, I use machine learning classifier to predict the probability of a anti-vaccine tweet being politiclly incorrect, and then plot the relationship between the probablity of being politiclly correct and the number of likes, replies, retweets respectively. Code here [ml_clf.py](http://localhost:8888/edit/ml_clf.py)\n",
    "\n",
    "The code is a bit long and complex. Therefore, I recommend you to directly run the file like the following:\n",
    "```python\n",
    "run ml_clf.py\n",
    "```\n",
    "\n",
    "You will get three plots that show the relationship between the probablity of being politiclly correct and the number of likes, replies, retweets respectively. Figures are below.\n",
    "![Figure 2 ]"
   ]
  },
  {
   "cell_type": "code",
   "execution_count": null,
   "id": "302e6e17",
   "metadata": {},
   "outputs": [],
   "source": []
  }
 ],
 "metadata": {
  "kernelspec": {
   "display_name": "Python 3 (ipykernel)",
   "language": "python",
   "name": "python3"
  },
  "language_info": {
   "codemirror_mode": {
    "name": "ipython",
    "version": 3
   },
   "file_extension": ".py",
   "mimetype": "text/x-python",
   "name": "python",
   "nbconvert_exporter": "python",
   "pygments_lexer": "ipython3",
   "version": "3.7.3"
  }
 },
 "nbformat": 4,
 "nbformat_minor": 5
}
